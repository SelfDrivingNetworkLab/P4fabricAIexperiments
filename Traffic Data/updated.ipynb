{
 "cells": [
  {
   "cell_type": "markdown",
   "id": "2b571c06-bfd5-464a-acf4-d28845c8e840",
   "metadata": {
    "tags": []
   },
   "source": [
    "# Step 1: Import the FABlib Library"
   ]
  },
  {
   "cell_type": "code",
   "execution_count": 4,
   "id": "2e9c3ea6-f0b5-4e34-9a4c-82785ff386c4",
   "metadata": {
    "scrolled": true
   },
   "outputs": [],
   "source": [
    "from fabrictestbed_extensions.fablib.fablib import FablibManager as fablib_manager\n",
    "fablib = fablib_manager()"
   ]
  },
  {
   "cell_type": "markdown",
   "id": "c2913e89-4188-4ebf-a24c-01cedd16540b",
   "metadata": {
    "tags": []
   },
   "source": [
    "# Step 2: Create the Experiment Slice\n",
    "\n",
    "The following creates three node with basic compute and networking capabilities. You build a slice by creating a new slice and adding resources to the slice. After you build the slice, you must submit a request for the slice to be instantiated.   "
   ]
  },
  {
   "cell_type": "markdown",
   "id": "161198e4-00b0-4994-9de8-28e8bfb16cc8",
   "metadata": {
    "tags": []
   },
   "source": [
    "## Step 2.1: Create a slice\n",
    "The code below creates a new slice with the name \"lab1\""
   ]
  },
  {
   "cell_type": "code",
   "execution_count": 5,
   "id": "9c97d810-ac6a-4c04-892d-f0ddbe69954b",
   "metadata": {
    "tags": []
   },
   "outputs": [],
   "source": [
    "slice = fablib.new_slice(name=\"lab1\")"
   ]
  },
  {
   "cell_type": "markdown",
   "id": "a0f228eb-d12b-4644-bbc4-df2e34bbdce8",
   "metadata": {
    "tags": []
   },
   "source": [
    "## Step 2.2: Define the sites\n",
    "The code below requests three sites from FABRIC: INDI, STAR, and NCSA"
   ]
  },
  {
   "cell_type": "code",
   "execution_count": null,
   "id": "f28e0cf1-241d-4257-afbf-6aa44989d995",
   "metadata": {
    "tags": []
   },
   "outputs": [],
   "source": [
    "site1='SALT'\n",
    "site2='STAR'\n",
    "site3='ATLA'\n",
    "site4='WASH'\n",
    "site5='DALL'\n",
    "site6='PSC'\n",
    "\n",
    "print (f'The selected sites are {site1}, {site2}, {site3} {site4} {site5} {site6}') "
   ]
  },
  {
   "cell_type": "markdown",
   "id": "0f71fead-a091-4af0-95ec-bb264c016c43",
   "metadata": {
    "tags": []
   },
   "source": [
    "## Step 2.3: Creating the nodes\n",
    "The code below creates three nodes: server1, server2 and server3. The servers (server1, server2 and server3) use the following:\n",
    "<ul>\n",
    "    <li> 4 CPU cores</li>\n",
    "    <li> 8GB RAM </li>\n",
    "    <li> 20GB disc size </li>\n",
    "    <li> Image: Ubuntu 20.04\n",
    "</ul>\n",
    "\n",
    "server1 will be created in site1, server2 will be created on site2 and server3 will be created in site3\n"
   ]
  },
  {
   "cell_type": "code",
   "execution_count": 7,
   "id": "7713728b-2740-4e72-b5dd-7d3963012536",
   "metadata": {
    "tags": []
   },
   "outputs": [],
   "source": [
    "server1 = slice.add_node(name=\"server1\", \n",
    "                      site=site1, \n",
    "                      cores=4, \n",
    "                      ram=8, \n",
    "                      disk=20, \n",
    "                      image='default_ubuntu_20')\n",
    "\n",
    "server2 = slice.add_node(name=\"server2\", \n",
    "                      site=site2, \n",
    "                      cores=4, \n",
    "                      ram=8, \n",
    "                      disk=20, \n",
    "                      image='default_ubuntu_20')\n",
    "\n",
    "server3 = slice.add_node(name=\"server3\", \n",
    "                      site=site3, \n",
    "                      cores=4, \n",
    "                      ram=8, \n",
    "                      disk=20, \n",
    "                      image='default_ubuntu_20')\n"
   ]
  },
  {
   "cell_type": "markdown",
   "id": "525749aa-ea9e-4a4b-ac2e-0988d8f0b769",
   "metadata": {
    "tags": []
   },
   "source": [
    "## Step 2.4: Adding the interfaces to the servers\n",
    "The code below adds a Network Interface Card (NIC) to each server."
   ]
  },
  {
   "cell_type": "code",
   "execution_count": 8,
   "id": "6f08e680-9922-4517-8f87-99e86ed455be",
   "metadata": {
    "tags": []
   },
   "outputs": [],
   "source": [
    "server1_iface = server1.add_component(model='NIC_Basic').get_interfaces()[0]\n",
    "server2_iface = server2.add_component(model='NIC_Basic').get_interfaces()[0]\n",
    "server3_iface = server3.add_component(model='NIC_Basic').get_interfaces()[0]"
   ]
  },
  {
   "cell_type": "markdown",
   "id": "9f1c2285-d01b-440c-9605-74fe816f4ee5",
   "metadata": {
    "tags": []
   },
   "source": [
    "## Step 2.5: Creating a node for the P4 switches\n",
    "The code below creates nodes that will run the P4 switches. The node use the following\n",
    "<ul>\n",
    "    <li> 16 CPU cores</li>\n",
    "    <li> 8GB RAM </li>\n",
    "    <li> 40GB disc size </li>\n",
    "    <li> Image: Ubuntu 20.04\n",
    "</ul>\n",
    "\n",
    "- Switch1 will be created on site4\n",
    "- Switch2 will be created on site5\n",
    "- Switch3 will be created on site6\n"
   ]
  },
  {
   "cell_type": "code",
   "execution_count": 9,
   "id": "d790f23e-0596-41a2-991d-65627d5cf5e6",
   "metadata": {
    "tags": []
   },
   "outputs": [],
   "source": [
    "# Add a node\n",
    "switch1 = slice.add_node(name=\"switch1\", \n",
    "                      site=site4, \n",
    "                      cores=32, \n",
    "                      ram=16, \n",
    "                      disk=40, \n",
    "                      image='default_ubuntu_20')"
   ]
  },
  {
   "cell_type": "code",
   "execution_count": 10,
   "id": "98249467-778c-4ebb-a773-0cb05fc1179f",
   "metadata": {},
   "outputs": [],
   "source": [
    "# Add a node\n",
    "switch2 = slice.add_node(name=\"switch2\", \n",
    "                      site=site5, \n",
    "                      cores=32, \n",
    "                      ram=16, \n",
    "                      disk=40, \n",
    "                      image='default_ubuntu_20')"
   ]
  },
  {
   "cell_type": "code",
   "execution_count": 11,
   "id": "80633f09-5fbc-4948-847e-957691df98ff",
   "metadata": {},
   "outputs": [],
   "source": [
    "# Add a node\n",
    "switch3 = slice.add_node(name=\"switch3\", \n",
    "                      site=site6, \n",
    "                      cores=32, \n",
    "                      ram=16, \n",
    "                      disk=40, \n",
    "                      image='default_ubuntu_20')"
   ]
  },
  {
   "cell_type": "markdown",
   "id": "52c163c1-ab41-47cf-96b8-b02c8d3cb005",
   "metadata": {},
   "source": [
    "## Step 2.6: Adding three interfaces to the switch\n",
    "The code below adds three Network Interface Cards (NICs) to the switch."
   ]
  },
  {
   "cell_type": "code",
   "execution_count": 12,
   "id": "420e3c86-0a63-49c1-81f0-8c75aea4213c",
   "metadata": {},
   "outputs": [],
   "source": [
    "switch1_iface1 = switch1.add_component(model='NIC_Basic', name='net1_nic').get_interfaces()[0]\n",
    "switch1_iface2 = switch1.add_component(model='NIC_Basic', name='net2_nic').get_interfaces()[0]\n",
    "switch1_iface3 = switch1.add_component(model='NIC_Basic', name='net4_nic').get_interfaces()[0]"
   ]
  },
  {
   "cell_type": "code",
   "execution_count": 13,
   "id": "50a9184c-b028-4f4f-8fc7-2dbb105fe6fa",
   "metadata": {},
   "outputs": [],
   "source": [
    "switch2_iface1 = switch2.add_component(model='NIC_Basic', name='net2_nic').get_interfaces()[0]\n",
    "switch2_iface2 = switch2.add_component(model='NIC_Basic', name='net3_nic').get_interfaces()[0]\n",
    "switch2_iface3 = switch2.add_component(model='NIC_Basic', name='net5_nic').get_interfaces()[0]"
   ]
  },
  {
   "cell_type": "code",
   "execution_count": 14,
   "id": "0d26fa8c-5479-446b-8057-f4e7a723a077",
   "metadata": {},
   "outputs": [],
   "source": [
    "switch3_iface1 = switch3.add_component(model='NIC_Basic', name='net4_nic').get_interfaces()[0]\n",
    "switch3_iface2 = switch3.add_component(model='NIC_Basic', name='net5_nic').get_interfaces()[0]\n",
    "switch3_iface3 = switch3.add_component(model='NIC_Basic', name='net6_nic').get_interfaces()[0]"
   ]
  },
  {
   "cell_type": "markdown",
   "id": "c15ca24e-8743-4d4a-91ea-128dd78b4273",
   "metadata": {},
   "source": [
    "## Step 2.7: Connecting site1 and site2\n",
    "Create a site-to-site network between \n",
    "- Server1 and Switch1\n",
    "- Switch1 and Switch2\n",
    "- Switch2 and Server2\n",
    "- Switch1 and Switch3\n",
    "- Switch2 and Switch3\n",
    "- Switch3 and Server3\n"
   ]
  },
  {
   "cell_type": "code",
   "execution_count": 15,
   "id": "03859457-746d-402c-9372-9803df8928e9",
   "metadata": {},
   "outputs": [],
   "source": [
    "net1 = slice.add_l2network(name='server1-switch1', interfaces=[server1_iface, switch1_iface1])"
   ]
  },
  {
   "cell_type": "code",
   "execution_count": 16,
   "id": "b3a38ceb-1e3c-43ad-ae93-702cdc7d0c10",
   "metadata": {},
   "outputs": [],
   "source": [
    "net2 = slice.add_l2network(name='switch1-switch2', interfaces=[switch1_iface2, switch2_iface1])"
   ]
  },
  {
   "cell_type": "code",
   "execution_count": 17,
   "id": "d6eea4ea-3a97-4960-a730-4348a6a9f0eb",
   "metadata": {},
   "outputs": [],
   "source": [
    "net3 = slice.add_l2network(name='server2-switch2', interfaces=[switch2_iface2, server2_iface])"
   ]
  },
  {
   "cell_type": "code",
   "execution_count": 18,
   "id": "3c72b4dd-da4d-49c9-ba1a-ead7c2e9de91",
   "metadata": {},
   "outputs": [],
   "source": [
    "net4 = slice.add_l2network(name='switch1-switch3', interfaces=[switch1_iface3, switch3_iface1])"
   ]
  },
  {
   "cell_type": "code",
   "execution_count": 19,
   "id": "8bcfa9eb-16f9-4027-ab27-3e3352606165",
   "metadata": {},
   "outputs": [],
   "source": [
    "net5 = slice.add_l2network(name='switch2-switch3', interfaces=[switch2_iface3, switch3_iface2])"
   ]
  },
  {
   "cell_type": "code",
   "execution_count": 20,
   "id": "c596ecf9-b43a-4a62-bd61-4f7ddc9e2848",
   "metadata": {},
   "outputs": [],
   "source": [
    "net6 = slice.add_l2network(name='server3-switch3', interfaces=[switch3_iface3, server3_iface])"
   ]
  },
  {
   "cell_type": "markdown",
   "id": "53ab345c-d68e-440d-9fda-03d67472f1ca",
   "metadata": {},
   "source": [
    "## Step 2.8: Submitting the slice\n",
    "The code below submits the slice. \n",
    "By default, the submit function will block until the node is ready and will display the progress of your slice being built."
   ]
  },
  {
   "cell_type": "code",
   "execution_count": null,
   "id": "e706c53c-7a38-4615-a86e-e8944197921f",
   "metadata": {},
   "outputs": [],
   "source": [
    "#Submit Slice Request\n",
    "slice.submit();"
   ]
  },
  {
   "cell_type": "markdown",
   "id": "05bfa5ff-9374-4823-9ea0-09f045a91684",
   "metadata": {},
   "source": [
    "# Step 3: Installing the required packages\n",
    "In this step, we will install the required packages to run the lab. Specifically, we will install the BMv2 software switch and its control plane, the P4 compiler (p4c), and net-tools."
   ]
  },
  {
   "cell_type": "code",
   "execution_count": 22,
   "id": "9b60298c-30c4-43a8-82e7-85a7e06396d2",
   "metadata": {},
   "outputs": [],
   "source": [
    "slice = fablib.get_slice(name='lab1')"
   ]
  },
  {
   "cell_type": "markdown",
   "id": "aae6ba53",
   "metadata": {},
   "source": [
    "### Creating a Map to store all the important topology information\n",
    "\n",
    "- This will store the different devices and all the connection information"
   ]
  },
  {
   "cell_type": "code",
   "execution_count": 23,
   "id": "7fb912b8-a91b-44bc-89ee-36f07116800d",
   "metadata": {},
   "outputs": [],
   "source": [
    "topology = {}\n",
    "topology['devices'] = {}"
   ]
  },
  {
   "cell_type": "code",
   "execution_count": 24,
   "id": "e65a1e2c-2b01-4c0f-9c83-51309ba4c64f",
   "metadata": {},
   "outputs": [],
   "source": [
    "server_names = ['server1', 'server2', 'server3']\n",
    "switch_names = ['switch1', 'switch2', 'switch3']\n",
    "\n",
    "for server_name in server_names:\n",
    "    server = slice.get_node(name=server_name)\n",
    "    topology['devices'][server_name] = {'node': server}\n",
    "    topology['devices'][server_name]['type'] = 'server'\n",
    "\n",
    "for switch_name in switch_names:\n",
    "    switch = slice.get_node(name=switch_name)\n",
    "    topology['devices'][switch_name] = {'node': switch}\n",
    "    topology['devices'][switch_name]['type'] = 'switch'"
   ]
  },
  {
   "cell_type": "code",
   "execution_count": null,
   "id": "580f4f0b-de24-4aa8-8da9-f540a55ef997",
   "metadata": {},
   "outputs": [],
   "source": [
    "import pprint\n",
    "from pprint import pprint as pp\n",
    "pp(topology)"
   ]
  },
  {
   "cell_type": "code",
   "execution_count": 26,
   "id": "7668f5e2-ab45-4b22-9213-fcb96fae61da",
   "metadata": {},
   "outputs": [],
   "source": [
    "devices = topology['devices']"
   ]
  },
  {
   "cell_type": "markdown",
   "id": "e158f852-d764-4728-af01-7de9f669dd78",
   "metadata": {},
   "source": [
    "## Step 3.1 Installing BMv2\n",
    "The BMv2 software switch will be installed on the switch nodes. We will upload the script [scripts/install_bmv2.sh](./scripts/install_bmv2.sh) to the switches and execute it"
   ]
  },
  {
   "cell_type": "code",
   "execution_count": 27,
   "id": "00430e7b-472e-4d5b-a81d-03dfaaec14ae",
   "metadata": {},
   "outputs": [],
   "source": [
    "switch1 = slice.get_node(name=\"switch1\")     \n",
    "switch1.upload_file('scripts/install_bmv2.sh', 'install_bmv2.sh')\n",
    "stdout, stderr = switch1.execute(f'chmod +x install_bmv2.sh &&  ./install_bmv2.sh',quiet=True)"
   ]
  },
  {
   "cell_type": "code",
   "execution_count": 28,
   "id": "eb8f4fd7-c61d-465c-872e-f49601299110",
   "metadata": {},
   "outputs": [],
   "source": [
    "switch2 = slice.get_node(name=\"switch2\")     \n",
    "switch2.upload_file('scripts/install_bmv2.sh', 'install_bmv2.sh')\n",
    "stdout, stderr = switch2.execute(f'chmod +x install_bmv2.sh &&  ./install_bmv2.sh',quiet=True)"
   ]
  },
  {
   "cell_type": "code",
   "execution_count": 29,
   "id": "0ec65736-55d5-4a1a-9f8c-64731bb0e6db",
   "metadata": {},
   "outputs": [],
   "source": [
    "switch3 = slice.get_node(name=\"switch3\")     \n",
    "switch3.upload_file('scripts/install_bmv2.sh', 'install_bmv2.sh')\n",
    "stdout, stderr = switch3.execute(f'chmod +x install_bmv2.sh &&  ./install_bmv2.sh',quiet=True)"
   ]
  },
  {
   "cell_type": "markdown",
   "id": "13cf4d2f-0ba4-4629-b221-87b19d4c0324",
   "metadata": {
    "tags": []
   },
   "source": [
    "## Step 3.2 Installing net-tools\n",
    "The net-tools package will be installed on the switches, and server nodes. This package will allow us to use the *ifconfig* and the *arp* commands "
   ]
  },
  {
   "cell_type": "code",
   "execution_count": 30,
   "id": "caa0c8d8-5d49-44cb-8d0a-1feb391fa322",
   "metadata": {},
   "outputs": [],
   "source": [
    "server1 = slice.get_node(name=\"server1\")\n",
    "server2 = slice.get_node(name=\"server2\")\n",
    "server3 = slice.get_node(name=\"server3\")\n",
    "stdout, stderr = server1.execute(f'sudo apt-get install -y net-tools', quiet=True)\n",
    "stdout, stderr = server2.execute(f'sudo apt-get install -y net-tools', quiet=True)\n",
    "stdout, stderr = server3.execute(f'sudo apt-get install -y net-tools', quiet=True)\n",
    "stdout, stderr = switch1.execute(f'sudo apt-get install -y net-tools', quiet=True)\n",
    "stdout, stderr = switch2.execute(f'sudo apt-get install -y net-tools', quiet=True)\n",
    "stdout, stderr = switch3.execute(f'sudo apt-get install -y net-tools', quiet=True)"
   ]
  },
  {
   "cell_type": "markdown",
   "id": "dac55d61-249f-45d2-ada4-99247b2697e9",
   "metadata": {},
   "source": [
    "# Step 4: Assigning IP and MAC addresses\n",
    "In this step, we will assign IPv4 addresses to the interfaces of the servers and the switches. We will also hardcode the MAC addresses. "
   ]
  },
  {
   "cell_type": "markdown",
   "id": "4d0eb819-68ad-4dbb-a279-40c997c3537b",
   "metadata": {},
   "source": [
    "## Step 4.1: Get interfaces names\n",
    "In this step we will get the interface names so that we can assign IP addresses to them. Map the printed interface names to those seen in this figure:\n"
   ]
  },
  {
   "cell_type": "code",
   "execution_count": null,
   "id": "1999024a-39f5-402c-8017-86463aeafbd4",
   "metadata": {},
   "outputs": [],
   "source": [
    "node1_iface = server1.get_interface(network_name='server1-switch1') \n",
    "server1_iface_name = node1_iface.get_device_name()\n",
    "print(f'server1_iface: {server1_iface_name}')\n",
    "\n",
    "switch1_iface1 = switch1.get_interface(network_name='server1-switch1') \n",
    "switch1_iface1_name = switch1_iface1.get_device_name()\n",
    "print(f'switch1_iface1: {switch1_iface1_name}')\n",
    "\n",
    "switch1_iface2 = switch1.get_interface(network_name='switch1-switch2') \n",
    "switch1_iface2_name = switch1_iface2.get_device_name()\n",
    "print(f'switch1_iface2: {switch1_iface2_name}')\n",
    "\n",
    "switch1_iface3 = switch1.get_interface(network_name='switch1-switch3') \n",
    "switch1_iface3_name = switch1_iface3.get_device_name()\n",
    "print(f'switch1_iface3: {switch1_iface3_name}')\n",
    "\n",
    "switch2_iface1 = switch2.get_interface(network_name='switch1-switch2') \n",
    "switch2_iface1_name = switch2_iface1.get_device_name()\n",
    "print(f'switch2_iface1: {switch2_iface1_name}')\n",
    "\n",
    "switch2_iface2 = switch2.get_interface(network_name='server2-switch2') \n",
    "switch2_iface2_name = switch2_iface2.get_device_name()\n",
    "print(f'switch2_iface2: {switch2_iface2_name}')\n",
    "\n",
    "switch2_iface3 = switch2.get_interface(network_name='switch2-switch3') \n",
    "switch2_iface3_name = switch2_iface3.get_device_name()\n",
    "print(f'switch2_iface3: {switch2_iface3_name}')\n",
    "\n",
    "switch3_iface1 = switch3.get_interface(network_name='switch1-switch3') \n",
    "switch3_iface1_name = switch3_iface1.get_device_name()\n",
    "print(f'switch3_iface1: {switch3_iface1_name}')\n",
    "\n",
    "switch3_iface2 = switch3.get_interface(network_name='switch2-switch3') \n",
    "switch3_iface2_name = switch3_iface2.get_device_name()\n",
    "print(f'switch3_iface2: {switch3_iface2_name}')\n",
    "\n",
    "switch3_iface3 = switch3.get_interface(network_name='server3-switch3') \n",
    "switch3_iface3_name = switch3_iface3.get_device_name()\n",
    "print(f'switch3_iface3: {switch3_iface3_name}')\n",
    "\n",
    "node2_iface = server2.get_interface(network_name='server2-switch2') \n",
    "server2_iface_name = node2_iface.get_device_name()\n",
    "print(f'server2_iface: {server2_iface_name}')\n",
    "\n",
    "node3_iface = server3.get_interface(network_name='server3-switch3') \n",
    "server3_iface_name = node3_iface.get_device_name()\n",
    "print(f'server3_iface: {server3_iface_name}')"
   ]
  },
  {
   "cell_type": "markdown",
   "id": "468540b5-8192-4af3-a992-18ae011bb5d3",
   "metadata": {
    "tags": []
   },
   "source": [
    "## Step 4.2: Turning all interfaces up\n",
    "In this step, we will use the ip link command to turn the interfaces up"
   ]
  },
  {
   "cell_type": "code",
   "execution_count": null,
   "id": "d8eea380-d6bf-48e0-aec2-015c6e4bf861",
   "metadata": {},
   "outputs": [],
   "source": [
    "for device in devices:\n",
    "    node = devices[device]['node']\n",
    "    ifaces = node.get_interfaces()\n",
    "    topology['devices'][device]['interfaces'] = {}\n",
    "    for iface in ifaces:\n",
    "        network = iface.get_network()\n",
    "        topology['devices'][device]['interfaces'][network.get_name()] = {'name': iface.get_device_name()}\n",
    "pp(topology)"
   ]
  },
  {
   "cell_type": "code",
   "execution_count": 33,
   "id": "f48d34c4-a812-40b5-abaf-29b6cbe69755",
   "metadata": {
    "tags": []
   },
   "outputs": [],
   "source": [
    "stdout, stderr = server1.execute(f'sudo ip link set dev {server1_iface_name} up', quiet=True)\n",
    "stdout, stderr = server2.execute(f'sudo ip link set dev {server2_iface_name} up', quiet=True)\n",
    "stdout, stderr = server3.execute(f'sudo ip link set dev {server3_iface_name} up', quiet=True)\n",
    "\n",
    "stdout, stderr = switch1.execute(f'sudo ip link set dev {switch1_iface1_name} up', quiet=True)\n",
    "stdout, stderr = switch1.execute(f'sudo ip link set dev {switch1_iface2_name} up', quiet=True)\n",
    "stdout, stderr = switch1.execute(f'sudo ip link set dev {switch1_iface3_name} up', quiet=True)\n",
    "\n",
    "stdout, stderr = switch2.execute(f'sudo ip link set dev {switch2_iface1_name} up', quiet=True)\n",
    "stdout, stderr = switch2.execute(f'sudo ip link set dev {switch2_iface2_name} up', quiet=True)\n",
    "stdout, stderr = switch2.execute(f'sudo ip link set dev {switch2_iface3_name} up', quiet=True)\n",
    "\n",
    "stdout, stderr = switch3.execute(f'sudo ip link set dev {switch3_iface1_name} up', quiet=True)\n",
    "stdout, stderr = switch3.execute(f'sudo ip link set dev {switch3_iface2_name} up', quiet=True)\n",
    "stdout, stderr = switch3.execute(f'sudo ip link set dev {switch3_iface3_name} up', quiet=True)"
   ]
  },
  {
   "cell_type": "markdown",
   "id": "136da10f-bb1e-4666-9084-020354db0a2c",
   "metadata": {
    "tags": []
   },
   "source": [
    "## Step 4.3: Hardcode MAC addresses\n",
    "For simplicity, we will use the following MAC addresses for the interfaces:\n",
    "<ul>\n",
    "    <li> server1_iface_MAC = '00:00:00:00:00:01'</li>\n",
    "    <li>switch1_iface1_MAC = '00:00:00:00:00:02'</li>\n",
    "    <li>switch1_iface2_MAC = '00:00:00:00:00:03'</li>\n",
    "    <li>switch2_iface1_MAC = '00:00:00:00:00:04'</li>\n",
    "    <li>switch2_iface2_MAC = '00:00:00:00:00:05'</li>\n",
    "    <li>server2_iface_MAC = '00:00:00:00:00:06'</li>\n",
    "    <li>switch1_iface3_MAC = '00:00:00:00:00:07'</li>\n",
    "    <li>switch2_iface3_MAC = '00:00:00:00:00:08'</li>\n",
    "    <li>switch3_iface1_MAC = '00:00:00:00:00:09'</li>\n",
    "    <li>switch3_iface2_MAC = '00:00:00:00:00:10'</li>\n",
    "    <li>switch3_iface1_MAC = '00:00:00:00:00:11'</li>\n",
    "    <li> server3_iface_MAC = '00:00:00:00:00:12' </li>\n",
    "\n",
    "</ul>"
   ]
  },
  {
   "cell_type": "code",
   "execution_count": 34,
   "id": "a410cde7-465b-4df3-80fa-819e1c16c439",
   "metadata": {
    "tags": []
   },
   "outputs": [],
   "source": [
    "server1_iface_MAC = '00:00:00:00:00:01'\n",
    "\n",
    "switch1_iface1_MAC = '00:00:00:00:00:02'\n",
    "switch1_iface2_MAC = '00:00:00:00:00:03'\n",
    "\n",
    "switch2_iface1_MAC = '00:00:00:00:00:04'\n",
    "switch2_iface2_MAC = '00:00:00:00:00:05'\n",
    "\n",
    "server2_iface_MAC = '00:00:00:00:00:06'\n",
    "\n",
    "switch1_iface3_MAC = '00:00:00:00:00:07'\n",
    "switch2_iface3_MAC = '00:00:00:00:00:08'\n",
    "\n",
    "switch3_iface1_MAC = '00:00:00:00:00:09'\n",
    "switch3_iface2_MAC = '00:00:00:00:00:10'\n",
    "\n",
    "switch3_iface3_MAC = '00:00:00:00:00:11'\n",
    "\n",
    "server3_iface_MAC = '00:00:00:00:00:12'\n"
   ]
  },
  {
   "cell_type": "markdown",
   "id": "1099ce50-10ba-4879-8fc8-79e7e3218fa6",
   "metadata": {},
   "source": [
    "## Step 4.4 Configuring the IP and MAC addresses on server1_iface and switch_iface1\n",
    "\n",
    "We will use\n",
    "- Network 192.168.1.0/24 between Server1 (192.168.1.10) and Switch1 (192.168.1.1)\n",
    "- Network 192.168.2.0/24 between Server2 (192.168.2.10) and Switch2 (192.168.2.1)\n",
    "- Network 192.168.3.0/24 between Server3 (192.168.3.10) and Switch3 (192.168.3.1)\n"
   ]
  },
  {
   "cell_type": "code",
   "execution_count": null,
   "id": "6e04681f-865b-440c-9f62-5fc987b3f0e9",
   "metadata": {
    "tags": []
   },
   "outputs": [],
   "source": [
    "server1_switch_subnet = \"192.168.1.0/24\"\n",
    "server1_ip = '192.168.1.10/24'\n",
    "switch1_ip1 = '192.168.1.1/24'\n",
    "\n",
    "stdout, stderr = server1.execute(f'sudo ifconfig {server1_iface_name} {server1_ip}')\n",
    "topology['devices']['server1']['interfaces']['server1-switch1']['ip'] = server1_ip\n",
    "stdout, stderr = switch1.execute(f'sudo ifconfig {switch1_iface1_name} {switch1_ip1}')\n",
    "topology['devices']['switch1']['interfaces']['server1-switch1']['ip'] = switch1_ip1\n",
    "stdout, stderr = server1.execute(f'sudo ifconfig {server1_iface_name} hw ether {server1_iface_MAC}')\n",
    "topology['devices']['server1']['interfaces']['server1-switch1']['MAC'] = server1_iface_MAC\n",
    "stdout, stderr = switch1.execute(f'sudo ifconfig {switch1_iface1_name} hw ether {switch1_iface1_MAC}')\n",
    "topology['devices']['switch1']['interfaces']['server1-switch1']['MAC'] = switch1_iface1_MAC"
   ]
  },
  {
   "cell_type": "code",
   "execution_count": 36,
   "id": "a4c97744-783d-4236-8c38-2963cac75dd4",
   "metadata": {},
   "outputs": [],
   "source": [
    "stdout, stderr = switch1.execute(f'sudo ifconfig {switch1_iface2_name} hw ether {switch1_iface2_MAC}')\n",
    "topology['devices']['switch1']['interfaces']['switch1-switch2']['MAC'] = switch1_iface2_MAC\n",
    "stdout, stderr = switch2.execute(f'sudo ifconfig {switch2_iface1_name} hw ether {switch2_iface1_MAC}')\n",
    "topology['devices']['switch2']['interfaces']['switch1-switch2']['MAC'] = switch2_iface1_MAC"
   ]
  },
  {
   "cell_type": "code",
   "execution_count": null,
   "id": "c8d94b18-58bd-4283-b1be-328c362a4c1d",
   "metadata": {},
   "outputs": [],
   "source": [
    "stdout, stderr = switch1.execute(f'sudo ifconfig {switch1_iface3_name} hw ether {switch1_iface3_MAC}')\n",
    "topology['devices']['switch1']['interfaces']['switch1-switch3']['MAC'] = switch1_iface3_MAC\n",
    "stdout, stderr = switch3.execute(f'sudo ifconfig {switch3_iface1_name} hw ether {switch3_iface1_MAC}')\n",
    "topology['devices']['switch3']['interfaces']['switch1-switch3']['MAC'] = switch3_iface1_MAC"
   ]
  },
  {
   "cell_type": "code",
   "execution_count": 38,
   "id": "e41e611d-7b92-4ef5-8525-a9ceaf1b0eb0",
   "metadata": {
    "tags": []
   },
   "outputs": [],
   "source": [
    "server2_switch_subnet = \"192.168.2.0/24\"\n",
    "server2_ip = '192.168.2.10/24'\n",
    "switch2_ip2 = '192.168.2.1/24'\n",
    "\n",
    "stdout, stderr = server2.execute(f'sudo ifconfig {server2_iface_name} {server2_ip}')\n",
    "topology['devices']['server2']['interfaces']['server2-switch2']['ip'] = server2_ip\n",
    "stdout, stderr = switch2.execute(f'sudo ifconfig {switch2_iface2_name} {switch2_ip2}')\n",
    "topology['devices']['switch2']['interfaces']['server2-switch2']['ip'] = switch2_ip2\n",
    "stdout, stderr = server2.execute(f'sudo ifconfig {server2_iface_name} hw ether {server2_iface_MAC}')\n",
    "topology['devices']['server2']['interfaces']['server2-switch2']['MAC'] = server2_iface_MAC\n",
    "stdout, stderr = switch2.execute(f'sudo ifconfig {switch2_iface2_name} hw ether {switch2_iface2_MAC}')\n",
    "topology['devices']['switch2']['interfaces']['server2-switch2']['MAC'] = switch2_iface2_MAC"
   ]
  },
  {
   "cell_type": "code",
   "execution_count": null,
   "id": "101a29a7-aec4-4d55-a18f-c64bc6b2abb3",
   "metadata": {},
   "outputs": [],
   "source": [
    "stdout, stderr = switch2.execute(f'sudo ifconfig {switch2_iface3_name} hw ether {switch2_iface3_MAC}')\n",
    "topology['devices']['switch2']['interfaces']['switch2-switch3']['MAC'] = switch2_iface3_MAC\n",
    "stdout, stderr = switch3.execute(f'sudo ifconfig {switch3_iface2_name} hw ether {switch3_iface2_MAC}')\n",
    "topology['devices']['switch3']['interfaces']['switch2-switch3']['MAC'] = switch3_iface2_MAC"
   ]
  },
  {
   "cell_type": "code",
   "execution_count": null,
   "id": "bb548cfa-d753-4acb-b69e-be77fcd45aa9",
   "metadata": {},
   "outputs": [],
   "source": [
    "server3_switch_subnet = \"192.168.3.0/24\"\n",
    "server3_ip = '192.168.3.10/24'\n",
    "switch3_ip2 = '192.168.3.1/24'\n",
    "\n",
    "stdout, stderr = server3.execute(f'sudo ifconfig {server3_iface_name} {server3_ip}')\n",
    "topology['devices']['server3']['interfaces']['server3-switch3']['ip'] = server3_ip\n",
    "stdout, stderr = switch3.execute(f'sudo ifconfig {switch3_iface3_name} {switch3_ip2}')\n",
    "topology['devices']['switch3']['interfaces']['server3-switch3']['ip'] = switch3_ip2\n",
    "\n",
    "stdout, stderr = server3.execute(f'sudo ifconfig {server3_iface_name} hw ether {server3_iface_MAC}')\n",
    "topology['devices']['server3']['interfaces']['server3-switch3']['MAC'] = server3_iface_MAC\n",
    "stdout, stderr = switch3.execute(f'sudo ifconfig {switch3_iface3_name} hw ether {switch3_iface3_MAC}')\n",
    "topology['devices']['switch3']['interfaces']['server3-switch3']['MAC'] = switch3_iface3_MAC"
   ]
  },
  {
   "cell_type": "markdown",
   "id": "df3c54cf-457e-4f7c-9e9d-438808c68fe8",
   "metadata": {},
   "source": [
    "# Step 5: Configure forwarding and routing"
   ]
  },
  {
   "cell_type": "markdown",
   "id": "f8ecee56-5751-41e7-aa1b-f7641fa5ae11",
   "metadata": {},
   "source": [
    "## Step 5.1: Enable forwarding on the switch\n",
    "\n",
    "The command \"sudo sysctl -w net.ipv4.ip_forward=1\" is used to enable IP forwarding on a Linux system.\n",
    "\n",
    "IP forwarding is a feature that allows a system to act as a router by forwarding network packets from one network interface to another. By default, IP forwarding is usually disabled on Linux systems for security reasons. \n",
    "\n",
    "The command will be executed on the switch device."
   ]
  },
  {
   "cell_type": "code",
   "execution_count": 41,
   "id": "d0a57f78-6e78-4487-81f6-dad296353407",
   "metadata": {},
   "outputs": [],
   "source": [
    "stdout, stderr = switch1.execute('sudo sysctl -w net.ipv4.ip_forward=1' , quiet=True)"
   ]
  },
  {
   "cell_type": "code",
   "execution_count": 42,
   "id": "b451d9de-f152-43cd-af25-14dbdee8e69b",
   "metadata": {},
   "outputs": [],
   "source": [
    "stdout, stderr = switch2.execute('sudo sysctl -w net.ipv4.ip_forward=1' , quiet=True)"
   ]
  },
  {
   "cell_type": "code",
   "execution_count": 43,
   "id": "22065cdd-5a91-4906-943e-de96c2ed8af6",
   "metadata": {},
   "outputs": [],
   "source": [
    "stdout, stderr = switch3.execute('sudo sysctl -w net.ipv4.ip_forward=1' , quiet=True)"
   ]
  },
  {
   "cell_type": "markdown",
   "id": "6c423ec8-d859-4716-b79a-d56671173413",
   "metadata": {},
   "source": [
    "## Step 5.2: Delete routing entries for the routes to force traffic to go through the BMv2 switch\n",
    "\n",
    "In this step, we are deleting the routes on the switch's routing table in Linux. By deleting the routes, the packets will go through the BMv2 switch instead of being forwarded by the kernel."
   ]
  },
  {
   "cell_type": "code",
   "execution_count": 44,
   "id": "72de7117-060d-4490-940e-13561fa2e852",
   "metadata": {},
   "outputs": [],
   "source": [
    "stdout, stderr = switch1.execute(f'sudo ip route del {server1_switch_subnet}', quiet=True)\n",
    "stdout, stderr = switch1.execute(f'sudo ip route del {server2_switch_subnet}', quiet=True)\n",
    "stdout, stderr = switch1.execute(f'sudo ip route del {server3_switch_subnet}', quiet=True)"
   ]
  },
  {
   "cell_type": "code",
   "execution_count": 45,
   "id": "4f41e138-71e1-433a-bd79-65e7567bbb49",
   "metadata": {},
   "outputs": [],
   "source": [
    "stdout, stderr = switch2.execute(f'sudo ip route del {server1_switch_subnet}', quiet=True)\n",
    "stdout, stderr = switch2.execute(f'sudo ip route del {server2_switch_subnet}', quiet=True)\n",
    "stdout, stderr = switch2.execute(f'sudo ip route del {server3_switch_subnet}', quiet=True)"
   ]
  },
  {
   "cell_type": "code",
   "execution_count": 46,
   "id": "6e8bcdf6-d4b1-4984-87f5-6f7d8a854765",
   "metadata": {},
   "outputs": [],
   "source": [
    "stdout, stderr = switch3.execute(f'sudo ip route del {server1_switch_subnet}', quiet=True)\n",
    "stdout, stderr = switch3.execute(f'sudo ip route del {server2_switch_subnet}', quiet=True)\n",
    "stdout, stderr = switch3.execute(f'sudo ip route del {server3_switch_subnet}', quiet=True)"
   ]
  },
  {
   "cell_type": "markdown",
   "id": "b5628c85-1f68-4a4b-916f-b68c46a51967",
   "metadata": {},
   "source": [
    "## Step 5.3: Configure routing\n",
    "\n",
    "In this step, we will configure static routes on server1 and server2. \n",
    "<ul>\n",
    "    <li> For server1, we will add a route to reach the network 192.168.2.0/24 via 192.168.1.1 and 192.168.3.0/24 via 192.168.1.1</li>\n",
    "    <li> For server2, we will add a route to reach the network 192.168.1.0/24 via 192.168.2.1 and 192.168.3.0/24 via 192.168.2.1</li>\n",
    "    <li> For server3, we will add a route to reach the network 192.168.1.0/24 via 192.168.3.1 and 192.168.2.0/24 via 192.168.3.1</li>\n",
    "\n",
    "</ul>\n"
   ]
  },
  {
   "cell_type": "code",
   "execution_count": 47,
   "id": "e3459ed6-eb9c-4246-9981-12203b2929fd",
   "metadata": {},
   "outputs": [],
   "source": [
    "gw1 = switch1_ip1.split('/')[0] # gw1 -> 192.168.1.1 \n",
    "gw2 = switch2_ip2.split('/')[0] # gw2 -> 192.168.2.1\n",
    "gw3 = switch3_ip2.split('/')[0] # gw3 -> 192.168.3.1\n",
    "\n",
    "stdout, stderr = server1.execute(f'sudo ip route add {server2_switch_subnet} via {gw1}')\n",
    "stdout, stderr = server1.execute(f'sudo ip route add {server3_switch_subnet} via {gw1}')\n",
    "\n",
    "\n",
    "stdout, stderr = server2.execute(f'sudo ip route add {server1_switch_subnet} via {gw2}')\n",
    "stdout, stderr = server2.execute(f'sudo ip route add {server3_switch_subnet} via {gw2}')\n",
    "\n",
    "stdout, stderr = server3.execute(f'sudo ip route add {server1_switch_subnet} via {gw3}')\n",
    "stdout, stderr = server3.execute(f'sudo ip route add {server2_switch_subnet} via {gw3}')\n"
   ]
  },
  {
   "cell_type": "markdown",
   "id": "d31983ac-4fd0-4f17-986b-cc347e772d18",
   "metadata": {
    "tags": []
   },
   "source": [
    "## Step 5.4: Configure ARP\n",
    "\n",
    "In this step, we will configure static ARP entries on server1, server2 and server3. The reason we are doing this is because the switch does not process ARP packets unless programmed to. To make sure that ARP packets are not sent towards the switch, we will hardcode the MACs on the servers.\n",
    "\n",
    "For each server, we will add an ARP entry to its switch's neighboring interface."
   ]
  },
  {
   "cell_type": "code",
   "execution_count": null,
   "id": "0cdb7aae-ee53-4e5a-9bbc-4a76f3fde954",
   "metadata": {},
   "outputs": [],
   "source": [
    "print(f\"sudo arp -s {gw1} {switch1_iface1_MAC}\")\n",
    "stdout, stderr = server1.execute(f'sudo arp -s {gw1} {switch1_iface1_MAC}')\n",
    "\n",
    "print(f\"sudo arp -s {gw2} {switch2_iface2_MAC}\")\n",
    "stdout, stderr = server2.execute(f'sudo arp -s {gw2} {switch2_iface2_MAC}')\n",
    "\n",
    "print(f\"sudo arp -s {gw3} {switch3_iface3_MAC}\")\n",
    "stdout, stderr = server3.execute(f'sudo arp -s {gw3} {switch3_iface3_MAC}')"
   ]
  },
  {
   "cell_type": "markdown",
   "id": "b6a7aa6a-a33e-46e1-af89-34960ed73ad4",
   "metadata": {},
   "source": [
    "# Step 6: Compiling and starting a simple P4 routing program\n",
    "\n",
    "In this step, we will compile the P4 program and start the switch using the *p4c* compiler. To view and edit the P4 program, [Click Here](labs_files/lab1/main.p4)\n",
    "\n",
    "The P4 program [main.p4](labs_files/lab1/main.p4) is located under lab_files/lab1/.\n",
    "\n",
    "We will stop any previous instance of the switch (if any is existing) by killing its process.\n",
    "\n",
    "Then, we will start the switch and allocate the interfaces to logical ports. "
   ]
  },
  {
   "cell_type": "markdown",
   "id": "e6ec258a-2722-4b1f-a3a3-c867aa2008c1",
   "metadata": {},
   "source": [
    "### Configuring the Correct Port Information\n",
    "\n",
    "- Based on how the devices are configured, port information is added."
   ]
  },
  {
   "cell_type": "code",
   "execution_count": null,
   "id": "c5dd726d-bf55-48d6-b68a-dfa211f06570",
   "metadata": {},
   "outputs": [],
   "source": [
    "sw1_ifaces = devices['switch1']['interfaces']\n",
    "\n",
    "for iface in sw1_ifaces:\n",
    "    if sw1_ifaces[iface]['name'] == switch1_iface1_name:\n",
    "        topology['devices']['switch1']['interfaces'][iface]['port'] = 0\n",
    "    if sw1_ifaces[iface]['name'] == switch1_iface2_name:\n",
    "        topology['devices']['switch1']['interfaces'][iface]['port'] = 1\n",
    "    if sw1_ifaces[iface]['name'] == switch1_iface3_name:\n",
    "        topology['devices']['switch1']['interfaces'][iface]['port'] = 2\n",
    "        \n",
    "sw2_ifaces = devices['switch2']['interfaces']\n",
    "\n",
    "for iface in sw2_ifaces:\n",
    "    if sw2_ifaces[iface]['name'] == switch2_iface1_name:\n",
    "        topology['devices']['switch2']['interfaces'][iface]['port'] = 0\n",
    "    if sw2_ifaces[iface]['name'] == switch2_iface2_name:\n",
    "        topology['devices']['switch2']['interfaces'][iface]['port'] = 1\n",
    "    if sw2_ifaces[iface]['name'] == switch2_iface3_name:\n",
    "        topology['devices']['switch2']['interfaces'][iface]['port'] = 2\n",
    "\n",
    "sw3_ifaces = devices['switch3']['interfaces']\n",
    "\n",
    "for iface in sw3_ifaces:\n",
    "    if sw3_ifaces[iface]['name'] == switch3_iface1_name:\n",
    "        topology['devices']['switch3']['interfaces'][iface]['port'] = 0\n",
    "    if sw3_ifaces[iface]['name'] == switch3_iface2_name:\n",
    "        topology['devices']['switch3']['interfaces'][iface]['port'] = 1\n",
    "    if sw3_ifaces[iface]['name'] == switch3_iface3_name:\n",
    "        topology['devices']['switch3']['interfaces'][iface]['port'] = 2\n"
   ]
  },
  {
   "cell_type": "code",
   "execution_count": null,
   "id": "5dc254dc-0e79-44a1-ba88-91c1107042f5",
   "metadata": {},
   "outputs": [],
   "source": [
    "for i in range(1, 4):\n",
    "    topology['devices'][f'switch{i}']['subnet'] = f'192.168.{i}.0/24'"
   ]
  },
  {
   "cell_type": "code",
   "execution_count": null,
   "id": "1d3d3199-d204-419d-9c0c-22fe7f9ef87a",
   "metadata": {
    "tags": []
   },
   "outputs": [],
   "source": [
    "switch1.upload_file('labs_files/main.p4', 'main.p4')\n",
    "stdout, stderr = switch1.execute(f'p4c main.p4')\n",
    "stdout, stderr = switch1.execute(f'sudo pkill simple_switch')\n",
    "stdout, stderr = switch1.execute(f'sudo simple_switch -i 0@{switch1_iface1_name} -i 1@{switch1_iface2_name} -i 2@{switch1_iface3_name} main.json &')"
   ]
  },
  {
   "cell_type": "code",
   "execution_count": null,
   "id": "bd71659c-4291-4ad1-b830-27786ebb63de",
   "metadata": {},
   "outputs": [],
   "source": [
    "switch2.upload_file('labs_files/main.p4', 'main.p4')\n",
    "stdout, stderr = switch2.execute(f'p4c main.p4')\n",
    "stdout, stderr = switch2.execute(f'sudo pkill simple_switch')\n",
    "stdout, stderr = switch2.execute(f'sudo simple_switch -i 0@{switch2_iface1_name} -i 1@{switch2_iface2_name} -i 2@{switch2_iface3_name} main.json &')"
   ]
  },
  {
   "cell_type": "code",
   "execution_count": null,
   "id": "72ea0e21-1deb-439c-9982-2432e28919b6",
   "metadata": {},
   "outputs": [],
   "source": [
    "switch3.upload_file('labs_files/main.p4', 'main.p4')\n",
    "stdout, stderr = switch3.execute(f'p4c main.p4')\n",
    "stdout, stderr = switch3.execute(f'sudo pkill simple_switch')\n",
    "stdout, stderr = switch3.execute(f'sudo simple_switch -i 0@{switch3_iface1_name} -i 1@{switch3_iface2_name} -i 2@{switch3_iface3_name} main.json &')"
   ]
  },
  {
   "cell_type": "markdown",
   "id": "fbcb21fc-f3e5-4ae0-b8dc-b19ed495d127",
   "metadata": {},
   "source": [
    "# Step 7: Disable Offloading for Higher Rates"
   ]
  },
  {
   "cell_type": "code",
   "execution_count": null,
   "id": "d798c97e",
   "metadata": {},
   "outputs": [],
   "source": [
    "for name in switch_names:\n",
    "    node = devices[name]['node']\n",
    "    ifaces = devices[name]['interfaces']\n",
    "    node.upload_file('scripts/disable_offload.sh', 'disable_offload.sh')\n",
    "    for iface in ifaces:\n",
    "        iface_name = devices[name]['interfaces'][iface]['name']\n",
    "        node.execute(f'sudo chmod +x ./disable_offload.sh && sudo ./disable_offload.sh {iface_name}', quiet=True)"
   ]
  },
  {
   "cell_type": "markdown",
   "id": "7bf4eabb-31cd-41c9-9fd1-b1c2b9d8b0d6",
   "metadata": {},
   "source": [
    "## Step 7.1: Populating table from the control plane\n",
    "\n",
    "In this step we will populate the forwarding table by executing a script. We will learn how to populate the tables manually in another lab."
   ]
  },
  {
   "cell_type": "code",
   "execution_count": 55,
   "id": "496e9541-7405-497c-ad06-e81e995bad44",
   "metadata": {},
   "outputs": [],
   "source": [
    "slice = fablib.get_slice(\"lab1\")\n",
    "switch1 = slice.get_node(\"switch1\")\n",
    "switch2 = slice.get_node(\"switch2\")\n",
    "switch3 = slice.get_node(\"switch3\")"
   ]
  },
  {
   "cell_type": "code",
   "execution_count": null,
   "id": "359e7d84-5089-4611-8c10-e29dbe4c74a6",
   "metadata": {
    "tags": []
   },
   "outputs": [],
   "source": [
    "switch1.upload_file('labs_files/rules1.sh', 'rules1.sh')\n",
    "stdout, stderr = switch1.execute('chmod +x rules1.sh && ./rules1.sh')"
   ]
  },
  {
   "cell_type": "code",
   "execution_count": null,
   "id": "d6af1432-b0b3-4235-a6d7-6688c49570c2",
   "metadata": {},
   "outputs": [],
   "source": [
    "switch2.upload_file('labs_files/rules2.sh', 'rules2.sh')\n",
    "stdout, stderr = switch2.execute('chmod +x rules2.sh && ./rules2.sh')"
   ]
  },
  {
   "cell_type": "code",
   "execution_count": null,
   "id": "f510e03c-8874-4aa4-a046-73284ac6f9da",
   "metadata": {},
   "outputs": [],
   "source": [
    "switch3.upload_file('labs_files/rules3.sh', 'rules3.sh')\n",
    "stdout, stderr = switch3.execute('chmod +x rules3.sh && ./rules3.sh')"
   ]
  },
  {
   "cell_type": "markdown",
   "id": "9bff0003",
   "metadata": {},
   "source": [
    "### Creating a Dictionary to store current rules\n",
    "\n",
    "- Dictionary to store the current rules in all the tables\n",
    "- Can potentially add this to the topology dictionary to simplify things"
   ]
  },
  {
   "cell_type": "code",
   "execution_count": 59,
   "id": "4e46929a-c939-47a0-b69d-901b1108f160",
   "metadata": {},
   "outputs": [],
   "source": [
    "rules = {}\n",
    "rules['switch1'] = {}\n",
    "rules['switch2'] = {}\n",
    "rules['switch3'] = {}"
   ]
  },
  {
   "cell_type": "code",
   "execution_count": null,
   "id": "7db0ecc2-022a-4d52-b0ab-bd62740a77e8",
   "metadata": {},
   "outputs": [],
   "source": [
    "rules1 = open('labs_files/rules1.sh', 'r')\n",
    "for i, line in enumerate(rules1):\n",
    "    line = line[:-1]\n",
    "    words = line.split(\" \")\n",
    "    rules['switch1'][i] = {\n",
    "        'dest_ip': words[4],\n",
    "        'dest_MAC': words[6],\n",
    "        'egress_port': words[7][:-1]\n",
    "    }\n",
    "rules2 = open('labs_files/rules2.sh', 'r')\n",
    "for i, line in enumerate(rules2):\n",
    "    line = line[:-1]\n",
    "    words = line.split(\" \")\n",
    "    rules['switch2'][i] = {\n",
    "        'dest_ip': words[4],\n",
    "        'dest_MAC': words[6],\n",
    "        'egress_port': words[7][:-1]\n",
    "    }\n",
    "\n",
    "rules3 = open('labs_files/rules3.sh', 'r')\n",
    "for i, line in enumerate(rules3):\n",
    "    line = line[:-1]\n",
    "    words = line.split(\" \")\n",
    "    rules['switch3'][i] = {\n",
    "        'dest_ip': words[4],\n",
    "        'dest_MAC': words[6],\n",
    "        'egress_port': words[7][:-1]\n",
    "    }"
   ]
  },
  {
   "cell_type": "markdown",
   "id": "e1158916-f42e-4f41-8b11-85d5bf8c7f1c",
   "metadata": {},
   "source": [
    "## Step 7.2: Running a ping test"
   ]
  },
  {
   "cell_type": "code",
   "execution_count": null,
   "id": "dc4885f4-c56e-49bb-a84d-9b4dd4b5bb26",
   "metadata": {},
   "outputs": [],
   "source": [
    "server2_dest_ip = server2_ip.split('/')[0]\n",
    "stdout, stderr = server1.execute(f'ping {server2_dest_ip} -c 3')"
   ]
  },
  {
   "cell_type": "code",
   "execution_count": null,
   "id": "737a6af2-2b8c-4f40-a439-851fd63301cc",
   "metadata": {},
   "outputs": [],
   "source": [
    "server3_dest_ip = server3_ip.split('/')[0]\n",
    "stdout, stderr = server1.execute(f'ping {server3_dest_ip} -c 3')"
   ]
  },
  {
   "cell_type": "code",
   "execution_count": null,
   "id": "614274aa-cef5-4765-b4ae-01b7ae7d02b1",
   "metadata": {},
   "outputs": [],
   "source": [
    "server3_dest_ip = server3_ip.split('/')[0]\n",
    "stdout, stderr = server2.execute(f'ping {server3_dest_ip} -c 3')"
   ]
  },
  {
   "cell_type": "markdown",
   "id": "9a55b511-8608-4e38-8c0e-670859ee7047",
   "metadata": {},
   "source": [
    "# Step 8: New Rules and Experimentation"
   ]
  },
  {
   "cell_type": "code",
   "execution_count": 64,
   "id": "bdf9d77d-801d-4b41-9be7-8338723c5a82",
   "metadata": {},
   "outputs": [],
   "source": [
    "stdout, stderr = server1.execute(f'sudo apt-get update && sudo apt-get install -y iperf3', quiet=True)\n",
    "stdout, stderr = server2.execute(f'sudo apt-get update && sudo apt-get install -y iperf3', quiet=True)\n",
    "stdout, stderr = server3.execute(f'sudo apt-get update && sudo apt-get install -y iperf3', quiet=True)"
   ]
  },
  {
   "cell_type": "code",
   "execution_count": 65,
   "id": "f76f8d3b-9f75-42e2-be95-434a4de021ee",
   "metadata": {},
   "outputs": [],
   "source": [
    "import json\n",
    "import numpy as np\n",
    "import random\n",
    "import pandas as pd\n",
    "import time"
   ]
  },
  {
   "cell_type": "markdown",
   "id": "257b897f",
   "metadata": {},
   "source": [
    "### Creating a Graph to be able to implement Djikstra's algorithm on the topology\n",
    "\n",
    "- The edges are updated using iperf.\n",
    "    - Take the bitrate and invert it.\n",
    "    - Update the weights with a different optimization function as need be. "
   ]
  },
  {
   "cell_type": "code",
   "execution_count": null,
   "id": "9b5c45da-cb36-4a01-bf4d-6ce6cc3f3a1f",
   "metadata": {},
   "outputs": [],
   "source": [
    "graph = {}\n",
    "subnets = ['192.168.1.10', '192.168.2.10', '192.168.3.10']\n",
    "for i, src in enumerate(server_names):\n",
    "    src_node = devices[src]['node']\n",
    "    src_ip = devices[src]['interfaces'][f'server{i+1}-switch{i+1}']['ip']\n",
    "    src_name = switch_names[i]\n",
    "    graph[src_name] = {}\n",
    "    for j, dst in enumerate(server_names):\n",
    "        if i != j:\n",
    "            dst_ip = devices[dst]['interfaces'][f'server{j+1}-switch{j+1}']['ip']\n",
    "            dst_ip = dst_ip.split('/')[0]\n",
    "            dst_name = switch_names[j]\n",
    "            dst_node = devices[dst]['node']\n",
    "\n",
    "            dst_node.execute_thread('iperf3 -s -1')\n",
    "            stdout, stderr = src_node.execute(f'iperf3 -c {dst_ip} -J', quiet=True)\n",
    "            \n",
    "            tojson = json.loads(stdout)\n",
    "            while 'error' in tojson:\n",
    "                stdout, stderr = src_node.execute(f'iperf3 -c {dst_ip} -J', quiet=True)\n",
    "                tojson = json.loads(stdout)\n",
    "            cleaned_bit = 1 / tojson['end']['sum_received']['bits_per_second']\n",
    "            graph[src_name][dst_name] = cleaned_bit"
   ]
  },
  {
   "cell_type": "markdown",
   "id": "aaa1e242",
   "metadata": {},
   "source": [
    "### Adding a delay between switch1 and switch2"
   ]
  },
  {
   "cell_type": "code",
   "execution_count": null,
   "id": "a33d086b-1c9d-4899-b9fc-0a78c80b692f",
   "metadata": {},
   "outputs": [],
   "source": [
    "delayed_iface = devices['switch1']['interfaces']['switch1-switch2']['name']\n",
    "stdout, stderr = switch1.execute(f'sudo tc qdisc add dev {delayed_iface} root netem delay 1000ms', quiet=True)"
   ]
  },
  {
   "cell_type": "markdown",
   "id": "93cfe106-5bb1-4cb0-8c73-e77e5b4ab7f2",
   "metadata": {},
   "source": [
    "### Building the Q-table for the Reinforcement Learning\n",
    "\n",
    "- This Q-table is based off of the graph topology"
   ]
  },
  {
   "cell_type": "code",
   "execution_count": 68,
   "id": "47ce9d47-327a-4f15-90d0-3301bbb53339",
   "metadata": {},
   "outputs": [],
   "source": [
    "learning_rate = 0.8\n",
    "discount_factor = 0.95"
   ]
  },
  {
   "cell_type": "code",
   "execution_count": 69,
   "id": "842cdeee-53b5-438b-a162-db2b058c2605",
   "metadata": {},
   "outputs": [],
   "source": [
    "Q = {}\n",
    "for node in graph:\n",
    "    Q[node] = {}\n",
    "    for nei in graph[node]:\n",
    "        Q[node][nei] = 0"
   ]
  },
  {
   "cell_type": "code",
   "execution_count": 70,
   "id": "8d3611cb-8799-4370-8f62-d1f71e620a16",
   "metadata": {},
   "outputs": [],
   "source": [
    "start, end = 'switch1', 'switch2'"
   ]
  },
  {
   "cell_type": "code",
   "execution_count": 71,
   "id": "2faf400f-c661-4b99-aa64-e9907d43604e",
   "metadata": {},
   "outputs": [],
   "source": [
    "def q_learning(graph, start, end, epsilon = 0.1, episodes = 1000, alpha=0.7):\n",
    "\n",
    "    nodes, edges = [], []\n",
    "    for node in graph:\n",
    "        nodes.append(node)\n",
    "        for edge in graph[node]:\n",
    "            edges.append((\n",
    "                node, edge, graph[node][edge]\n",
    "            ))\n",
    "\n",
    "    Q = {}\n",
    "\n",
    "    for node in graph:\n",
    "        Q[node] = {}\n",
    "        for nei in graph[node]:\n",
    "            Q[node][nei] = 0\n",
    "\n",
    "    for epi in range(episodes):\n",
    "        curr = start\n",
    "        \n",
    "        goal = False\n",
    "        exp = []\n",
    "        while not goal:\n",
    "            moves = list(Q[curr].keys())\n",
    "        \n",
    "            if len(moves) <= 1:\n",
    "                nxt = moves[0]\n",
    "            else:\n",
    "                choices = Q[curr]\n",
    "                best = min(choices, key=choices.get)\n",
    "                if random.random() < epsilon:\n",
    "                    moves.pop(moves.index(best))\n",
    "                    nxt = random.choice(moves)\n",
    "                else:\n",
    "                    nxt = best\n",
    "                \n",
    "            exp.append(curr)\n",
    "            \n",
    "            current_t = graph[curr][nxt]\n",
    "            current_q = Q[curr][nxt]\n",
    "            new_q = current_q + alpha * (current_t + min(Q[nxt].values()) - current_q)\n",
    "            Q[curr][nxt] = new_q\n",
    "            if nxt == end:\n",
    "                goal = True\n",
    "            curr = nxt\n",
    "    curr = start\n",
    "    path = [start]\n",
    "    while curr != end:\n",
    "        choices = Q[curr]\n",
    "        nxt = min(choices, key=choices.get)\n",
    "        curr = nxt\n",
    "        path.append(curr)\n",
    "    return path\n"
   ]
  },
  {
   "cell_type": "markdown",
   "id": "2261be93",
   "metadata": {},
   "source": [
    "## Step 8.1: Testing Q-learning Implementation"
   ]
  },
  {
   "cell_type": "code",
   "execution_count": 72,
   "id": "b0abea4d-bb36-40fc-99a2-1659d0ec2bc4",
   "metadata": {},
   "outputs": [],
   "source": [
    "q_times = []\n",
    "correct = ['switch1', 'switch3', 'switch2']\n",
    "for i in range(10):\n",
    "    start = time.time()\n",
    "    path = q_learning(graph, 'switch1', 'switch2')\n",
    "    end = time.time()\n",
    "    tot = end-start\n",
    "    if path == correct:\n",
    "        q_times.append(tot)\n"
   ]
  },
  {
   "cell_type": "markdown",
   "id": "778a8f1d",
   "metadata": {},
   "source": [
    "### Djikstra Implementation\n",
    "\n",
    "- Utilizes a priority queue to get the next shortest paths to explore\n",
    "- Runs in $O(E \\cdot log(N) + N)$"
   ]
  },
  {
   "cell_type": "code",
   "execution_count": 73,
   "id": "1a3aeb56-76fd-4445-b5b2-997c2d4edc45",
   "metadata": {},
   "outputs": [],
   "source": [
    "from heapq import heapify, heappush, heappop"
   ]
  },
  {
   "cell_type": "code",
   "execution_count": 132,
   "id": "ad520f26-91d4-482a-a06a-05d5f907f7bb",
   "metadata": {},
   "outputs": [],
   "source": [
    "def dijkstra(graph, src, dest):\n",
    "    node_data = {}\n",
    "    for device in devices:\n",
    "        node_data[device] = {\n",
    "            'cost': float('inf'),\n",
    "            'prev': None\n",
    "        }\n",
    "    node_data[src]['dist'] = 0\n",
    "    pq = []\n",
    "    heappush(pq, (0, src))\n",
    "\n",
    "    visited = set()\n",
    "    while pq:\n",
    "        curr_dist, curr_node = heappop(pq)\n",
    "        \n",
    "        if curr_node in visited:\n",
    "            continue\n",
    "        visited.add(curr_node)\n",
    "        if curr_node == dest:\n",
    "            break\n",
    "        \n",
    "        for neighbor, weight in graph[curr_node].items():\n",
    "            new_dist = curr_dist + weight\n",
    "\n",
    "            if new_dist < node_data[neighbor]['cost']:\n",
    "                node_data[neighbor]['cost'] = new_dist\n",
    "                node_data[neighbor]['prev'] = curr_node\n",
    "                heappush(pq, (new_dist, neighbor))\n",
    "    \n",
    "    path = []\n",
    "    curr_node = dest\n",
    "    while curr_node is not None:\n",
    "        path.append(curr_node)\n",
    "        if curr_node == src:\n",
    "            break\n",
    "        curr_node = node_data[curr_node]['prev']\n",
    "     \n",
    "\n",
    "    path.reverse()\n",
    "    return path\n",
    "        \n"
   ]
  },
  {
   "cell_type": "markdown",
   "id": "175df5e1",
   "metadata": {},
   "source": [
    "## Step 8.2: Testing Djikstra Implementation"
   ]
  },
  {
   "cell_type": "code",
   "execution_count": 133,
   "id": "1fc9c367-f8c3-4d2d-9807-2951b2d99383",
   "metadata": {},
   "outputs": [],
   "source": [
    "djikstra_times = []\n",
    "for i in range(10):\n",
    "    start = time.time()\n",
    "    path = dijkstra(graph, 'switch1', 'switch2')\n",
    "    end = time.time()\n",
    "    \n",
    "    if path == correct:\n",
    "        djikstra_times.append((end-start))"
   ]
  },
  {
   "cell_type": "markdown",
   "id": "9bdf6eed",
   "metadata": {},
   "source": [
    "### Updating routes based on the results from the Djikstra's Algorithm\n",
    "\n",
    "- Takes the route information and updates the routes in the switches as need be\n",
    "- Do this by checking current rules and update them as need be"
   ]
  },
  {
   "cell_type": "code",
   "execution_count": null,
   "id": "0dead0a5-bc89-4ee4-99ac-1cd93aa467e4",
   "metadata": {},
   "outputs": [],
   "source": [
    "path = dijkstra(graph, 'switch1', 'switch2')\n",
    "route = path[1:len(path)-1]\n",
    "dst = route[-1]\n",
    "src = route[0]\n",
    "i = 0\n",
    "for i in range(len(route)-1):\n",
    "    sw1, sw2 = route[i], route[i+1]\n",
    "    \n",
    "    node = devices[sw1]['node']\n",
    "    num = sw1[-1]\n",
    "    for h in rules[f'switch{num}']:\n",
    "        handle = MAC = egress = None\n",
    "        if rules[f'switch{num}'][h]['dest_ip'] == devices[dst]['subnet']:\n",
    "            handle = h\n",
    "            net1 = f'{sw1}-{sw2}'\n",
    "            net2 = f'{sw2}-{sw1}'\n",
    "            if net1 in devices[sw2]['interfaces']:\n",
    "                MAC = devices[sw2]['interfaces'][net1]['MAC']\n",
    "                egress = devices[sw1]['interfaces'][net1]['port']\n",
    "            elif net2 in devices[sw2]['interfaces']:\n",
    "                MAC = devices[sw2]['interfaces'][net2]['MAC']\n",
    "                egress = devices[sw1]['interfaces'][net2]['port']\n",
    "            \n",
    "            print(f'{handle} {MAC} {egress}')\n",
    "            command = f'echo \\\"table_modify MyIngress.ipv4_lpm MyIngress.forward {handle} {MAC} {egress}\\\" | simple_switch_CLI'\n",
    "            node.execute(command)\n",
    "            rules[f'switch{num}'][handle]['dest_MAC'] = MAC\n",
    "            rules[f'switch{num}'][handle]['egress_port'] = egress\n",
    "            break"
   ]
  },
  {
   "cell_type": "markdown",
   "id": "81eb3e2f-13a4-42bc-9e6f-721c50bfd276",
   "metadata": {},
   "source": [
    "## Step 8.3: Generating New Graphs"
   ]
  },
  {
   "cell_type": "code",
   "execution_count": null,
   "id": "c488cc8c-377a-44ec-8be5-626dc3784af9",
   "metadata": {},
   "outputs": [],
   "source": [
    "server2.execute_thread('iperf3 -s -1')\n",
    "stdout, stderr = server1.execute('iperf3 -c 192.168.2.10 -J -t 50', quiet=True)\n",
    "orig = json.loads(stdout)"
   ]
  },
  {
   "cell_type": "code",
   "execution_count": null,
   "id": "9e14e4cd-9fcd-47a9-92c0-50ee037d4f54",
   "metadata": {},
   "outputs": [],
   "source": [
    "orig_data = []\n",
    "for j in range(len(orig['intervals'])):\n",
    "    orig_data.append(orig['intervals'][j]['streams'][0]['bits_per_second'])\n"
   ]
  },
  {
   "cell_type": "code",
   "execution_count": null,
   "id": "1340a867-44b2-4e19-82f2-2333a654117b",
   "metadata": {},
   "outputs": [],
   "source": [
    "df = pd.DataFrame(orig_data)\n",
    "df.columns = ['No intervention']"
   ]
  },
  {
   "cell_type": "code",
   "execution_count": null,
   "id": "af3c9ebd-a428-4f75-92eb-0906ddbe37f5",
   "metadata": {},
   "outputs": [],
   "source": [
    "import matplotlib.pyplot as plt\n",
    "\n",
    "x = [i for i in range(1, 51)]\n",
    "orig_y = []\n",
    "for test in orig_data:\n",
    "    orig_y.append(test / (10**6))\n",
    "plt.plot(orig_y);"
   ]
  },
  {
   "cell_type": "code",
   "execution_count": null,
   "id": "a83aec7d-4950-410b-a650-92bf2b57cbf7",
   "metadata": {},
   "outputs": [],
   "source": [
    "server2.execute_thread('iperf3 -s -1')\n",
    "stdout, stderr = server1.execute('iperf3 -c 192.168.2.10 -J -t 50', quiet=True)\n",
    "new = json.loads(stdout)"
   ]
  },
  {
   "cell_type": "code",
   "execution_count": null,
   "id": "90ff5da2-e176-455c-b217-2f6cf2525e6d",
   "metadata": {},
   "outputs": [],
   "source": [
    "new_data = []\n",
    "for j in range(len(new['intervals'])):\n",
    "    new_data.append(new['intervals'][j]['streams'][0]['bits_per_second'])"
   ]
  },
  {
   "cell_type": "code",
   "execution_count": null,
   "id": "63430288-6898-4459-b1df-34c11d7ea666",
   "metadata": {},
   "outputs": [],
   "source": [
    "x = [i for i in range(1, 51)]\n",
    "new_y = []\n",
    "for test in new_data:\n",
    "    new_y.append(test / (10**6))\n",
    "plt.plot(new_y);"
   ]
  },
  {
   "cell_type": "code",
   "execution_count": null,
   "id": "06161d04-f5ce-4a31-8d35-06dd04c0244c",
   "metadata": {},
   "outputs": [],
   "source": [
    "plt.plot(x, new_y)\n",
    "plt.plot(x, orig_y)\n",
    "plt.legend(['Dynamic Routing', 'No intervention'])\n",
    "plt.xlabel('Time (seconds)')\n",
    "plt.ylabel('Bitrate (Mbps)')\n",
    "plt.title('Network Efficiency with Intervention vs No Intervention')\n",
    "plt.savefig('model_intervension.jpg')"
   ]
  },
  {
   "cell_type": "code",
   "execution_count": null,
   "id": "45388f83-9eca-4ea4-beb5-3cdcac83172a",
   "metadata": {},
   "outputs": [],
   "source": [
    "x = np.arange(1, 11)\n",
    "plt.plot(x, djikstra_times, marker='o')\n",
    "plt.plot(x, q_times, marker='o')\n",
    "plt.margins(x=0.05)\n",
    "plt.yscale('log')\n",
    "plt.xticks(x)\n",
    "plt.legend(['Djikstra\\'s Algorithm', 'Q-learning Algorithm'])\n",
    "plt.ylabel('Time (seconds)')\n",
    "plt.xlabel('Tests')\n",
    "plt.title('Execution Times for Finding Shortest Path');\n",
    "plt.savefig('ex_times.jpg')"
   ]
  },
  {
   "cell_type": "markdown",
   "id": "e92e3d97-a261-4c00-984c-2750cbd45064",
   "metadata": {
    "tags": []
   },
   "source": [
    "## Step 9: Delete the Slice\n",
    "\n",
    "This concludes Lab 1. Please delete your slice when you are done with your experiment."
   ]
  },
  {
   "cell_type": "code",
   "execution_count": null,
   "id": "1f27f3fc-004f-46c2-984c-8c2a90883eb6",
   "metadata": {
    "tags": []
   },
   "outputs": [],
   "source": [
    "from fabrictestbed_extensions.fablib.fablib import FablibManager as fablib_manager\n",
    "fablib = fablib_manager()\n",
    "slice = fablib.get_slice(name=\"lab1\")\n",
    "slice.delete()"
   ]
  }
 ],
 "metadata": {
  "kernelspec": {
   "display_name": "Python 3 (ipykernel)",
   "language": "python",
   "name": "python3"
  },
  "language_info": {
   "codemirror_mode": {
    "name": "ipython",
    "version": 3
   },
   "file_extension": ".py",
   "mimetype": "text/x-python",
   "name": "python",
   "nbconvert_exporter": "python",
   "pygments_lexer": "ipython3",
   "version": "3.11.8"
  }
 },
 "nbformat": 4,
 "nbformat_minor": 5
}
