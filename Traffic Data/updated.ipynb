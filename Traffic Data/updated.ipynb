{
 "cells": [
  {
   "cell_type": "markdown",
   "id": "2a519f73-cdd2-4b28-a231-a2064f5e2191",
   "metadata": {
    "jp-MarkdownHeadingCollapsed": true,
    "tags": []
   },
   "source": [
    "# Lab 1 - Creating a Slice with a P4 Switch\n",
    "\n",
    "This lab will walk you through creating an experiment that contains a a P4 programmable switch. The P4 switch that we will use is a software switch known as the behavioral model (BMv2).  Specifically, the experiment deploys a slice with three nodes: two end-hosts and a P4 switch. The topology is shown in the figure below\n",
    "\n",
    "![Topology](./images/bmv2-p4-3switches.png)\n",
    "\n",
    "# Step 1:  Configure the Environment\n",
    "\n",
    "Before running this notebook, you will need to configure your environment using the [Configure Environment](../../../configure.ipynb) notebook. Please stop here, open and run that notebook, then return to this notebook.\n",
    "\n",
    "If you are using the FABRIC JupyterHub many of the environment variables will be automatically configured for you.  You will still need to set your bastion username, upload your bastion private key, and set the path to where you put your bastion private key. Your bastion username and private key should already be in your possession.  \n",
    "\n",
    "If you are using the FABRIC API outside of the JupyterHub you will need to configure all of the environment variables. Defaults below will be correct in many situations but you will need to confirm your configuration.  If you have questions about this configuration, please contact the FABRIC admins using the [FABRIC User Forum](https://learn.fabric-testbed.net/forums/) \n",
    "\n",
    "More information about accessing your experiments through the FABRIC bastion hosts can be found [here](https://learn.fabric-testbed.net/knowledge-base/logging-into-fabric-vms/).\n",
    " "
   ]
  },
  {
   "cell_type": "markdown",
   "id": "2b571c06-bfd5-464a-acf4-d28845c8e840",
   "metadata": {
    "tags": []
   },
   "source": [
    "# Step 2: Import the FABlib Library"
   ]
  },
  {
   "cell_type": "code",
   "execution_count": 1,
   "id": "2e9c3ea6-f0b5-4e34-9a4c-82785ff386c4",
   "metadata": {},
   "outputs": [
    {
     "name": "stderr",
     "output_type": "stream",
     "text": [
      "/Users/pranitgunjal/Library/Python/3.9/lib/python/site-packages/urllib3/__init__.py:35: NotOpenSSLWarning: urllib3 v2 only supports OpenSSL 1.1.1+, currently the 'ssl' module is compiled with 'LibreSSL 2.8.3'. See: https://github.com/urllib3/urllib3/issues/3020\n",
      "  warnings.warn(\n"
     ]
    },
    {
     "ename": "KeyboardInterrupt",
     "evalue": "",
     "output_type": "error",
     "traceback": [
      "\u001b[0;31m---------------------------------------------------------------------------\u001b[0m",
      "\u001b[0;31mKeyboardInterrupt\u001b[0m                         Traceback (most recent call last)",
      "Cell \u001b[0;32mIn[1], line 1\u001b[0m\n\u001b[0;32m----> 1\u001b[0m \u001b[38;5;28;01mfrom\u001b[39;00m \u001b[38;5;21;01mfabrictestbed_extensions\u001b[39;00m\u001b[38;5;21;01m.\u001b[39;00m\u001b[38;5;21;01mfablib\u001b[39;00m\u001b[38;5;21;01m.\u001b[39;00m\u001b[38;5;21;01mfablib\u001b[39;00m \u001b[38;5;28;01mimport\u001b[39;00m FablibManager \u001b[38;5;28;01mas\u001b[39;00m fablib_manager\n\u001b[1;32m      2\u001b[0m fablib \u001b[38;5;241m=\u001b[39m fablib_manager()\n",
      "File \u001b[0;32m~/Library/Python/3.9/lib/python/site-packages/fabrictestbed_extensions/fablib/fablib.py:93\u001b[0m\n\u001b[1;32m     90\u001b[0m \u001b[38;5;28;01mfrom\u001b[39;00m \u001b[38;5;21;01mfim\u001b[39;00m\u001b[38;5;21;01m.\u001b[39;00m\u001b[38;5;21;01muser\u001b[39;00m \u001b[38;5;28;01mimport\u001b[39;00m Node \u001b[38;5;28;01mas\u001b[39;00m FimNode\n\u001b[1;32m     92\u001b[0m \u001b[38;5;28;01mfrom\u001b[39;00m \u001b[38;5;21;01mfabrictestbed_extensions\u001b[39;00m\u001b[38;5;21;01m.\u001b[39;00m\u001b[38;5;21;01mfablib\u001b[39;00m\u001b[38;5;21;01m.\u001b[39;00m\u001b[38;5;21;01mresources\u001b[39;00m \u001b[38;5;28;01mimport\u001b[39;00m FacilityPorts, Links, Resources\n\u001b[0;32m---> 93\u001b[0m \u001b[38;5;28;01mfrom\u001b[39;00m \u001b[38;5;21;01mfabrictestbed_extensions\u001b[39;00m\u001b[38;5;21;01m.\u001b[39;00m\u001b[38;5;21;01mfablib\u001b[39;00m\u001b[38;5;21;01m.\u001b[39;00m\u001b[38;5;21;01mslice\u001b[39;00m \u001b[38;5;28;01mimport\u001b[39;00m Slice\n\u001b[1;32m     96\u001b[0m \u001b[38;5;28;01mclass\u001b[39;00m \u001b[38;5;21;01mfablib\u001b[39;00m:\n\u001b[1;32m     97\u001b[0m \u001b[38;5;250m    \u001b[39m\u001b[38;5;124;03m\"\"\"\u001b[39;00m\n\u001b[1;32m     98\u001b[0m \u001b[38;5;124;03m    Convenience static methods to work with FABRIC testbed.\u001b[39;00m\n\u001b[1;32m     99\u001b[0m \u001b[38;5;124;03m    \"\"\"\u001b[39;00m\n",
      "File \u001b[0;32m~/Library/Python/3.9/lib/python/site-packages/fabrictestbed_extensions/fablib/slice.py:66\u001b[0m\n\u001b[1;32m     63\u001b[0m \u001b[38;5;28;01mfrom\u001b[39;00m \u001b[38;5;21;01mIPython\u001b[39;00m\u001b[38;5;21;01m.\u001b[39;00m\u001b[38;5;21;01mcore\u001b[39;00m\u001b[38;5;21;01m.\u001b[39;00m\u001b[38;5;21;01mdisplay_functions\u001b[39;00m \u001b[38;5;28;01mimport\u001b[39;00m display\n\u001b[1;32m     65\u001b[0m \u001b[38;5;28;01mfrom\u001b[39;00m \u001b[38;5;21;01mfabrictestbed_extensions\u001b[39;00m\u001b[38;5;21;01m.\u001b[39;00m\u001b[38;5;21;01mfablib\u001b[39;00m\u001b[38;5;21;01m.\u001b[39;00m\u001b[38;5;21;01mconstants\u001b[39;00m \u001b[38;5;28;01mimport\u001b[39;00m Constants\n\u001b[0;32m---> 66\u001b[0m \u001b[38;5;28;01mfrom\u001b[39;00m \u001b[38;5;21;01mfabrictestbed_extensions\u001b[39;00m\u001b[38;5;21;01m.\u001b[39;00m\u001b[38;5;21;01mfablib\u001b[39;00m\u001b[38;5;21;01m.\u001b[39;00m\u001b[38;5;21;01mfacility_port\u001b[39;00m \u001b[38;5;28;01mimport\u001b[39;00m FacilityPort\n\u001b[1;32m     68\u001b[0m \u001b[38;5;28;01mif\u001b[39;00m TYPE_CHECKING:\n\u001b[1;32m     69\u001b[0m     \u001b[38;5;28;01mfrom\u001b[39;00m \u001b[38;5;21;01mfabric_cf\u001b[39;00m\u001b[38;5;21;01m.\u001b[39;00m\u001b[38;5;21;01morchestrator\u001b[39;00m\u001b[38;5;21;01m.\u001b[39;00m\u001b[38;5;21;01mswagger_client\u001b[39;00m \u001b[38;5;28;01mimport\u001b[39;00m (\n\u001b[1;32m     70\u001b[0m         Slice \u001b[38;5;28;01mas\u001b[39;00m OrchestratorSlice,\n\u001b[1;32m     71\u001b[0m         Sliver \u001b[38;5;28;01mas\u001b[39;00m OrchestratorSliver,\n\u001b[1;32m     72\u001b[0m     )\n",
      "File \u001b[0;32m~/Library/Python/3.9/lib/python/site-packages/fabrictestbed_extensions/fablib/facility_port.py:37\u001b[0m\n\u001b[1;32m     34\u001b[0m \u001b[38;5;28;01mimport\u001b[39;00m \u001b[38;5;21;01mjson\u001b[39;00m\n\u001b[1;32m     35\u001b[0m \u001b[38;5;28;01mfrom\u001b[39;00m \u001b[38;5;21;01mtyping\u001b[39;00m \u001b[38;5;28;01mimport\u001b[39;00m TYPE_CHECKING, List\n\u001b[0;32m---> 37\u001b[0m \u001b[38;5;28;01mimport\u001b[39;00m \u001b[38;5;21;01mjinja2\u001b[39;00m\n\u001b[1;32m     38\u001b[0m \u001b[38;5;28;01mfrom\u001b[39;00m \u001b[38;5;21;01mfabrictestbed\u001b[39;00m\u001b[38;5;21;01m.\u001b[39;00m\u001b[38;5;21;01mslice_editor\u001b[39;00m \u001b[38;5;28;01mimport\u001b[39;00m Capacities, Labels\n\u001b[1;32m     39\u001b[0m \u001b[38;5;28;01mfrom\u001b[39;00m \u001b[38;5;21;01mtabulate\u001b[39;00m \u001b[38;5;28;01mimport\u001b[39;00m tabulate\n",
      "File \u001b[0;32m~/Library/Python/3.9/lib/python/site-packages/jinja2/__init__.py:9\u001b[0m\n\u001b[1;32m      7\u001b[0m \u001b[38;5;28;01mfrom\u001b[39;00m \u001b[38;5;21;01m.\u001b[39;00m\u001b[38;5;21;01mbccache\u001b[39;00m \u001b[38;5;28;01mimport\u001b[39;00m FileSystemBytecodeCache \u001b[38;5;28;01mas\u001b[39;00m FileSystemBytecodeCache\n\u001b[1;32m      8\u001b[0m \u001b[38;5;28;01mfrom\u001b[39;00m \u001b[38;5;21;01m.\u001b[39;00m\u001b[38;5;21;01mbccache\u001b[39;00m \u001b[38;5;28;01mimport\u001b[39;00m MemcachedBytecodeCache \u001b[38;5;28;01mas\u001b[39;00m MemcachedBytecodeCache\n\u001b[0;32m----> 9\u001b[0m \u001b[38;5;28;01mfrom\u001b[39;00m \u001b[38;5;21;01m.\u001b[39;00m\u001b[38;5;21;01menvironment\u001b[39;00m \u001b[38;5;28;01mimport\u001b[39;00m Environment \u001b[38;5;28;01mas\u001b[39;00m Environment\n\u001b[1;32m     10\u001b[0m \u001b[38;5;28;01mfrom\u001b[39;00m \u001b[38;5;21;01m.\u001b[39;00m\u001b[38;5;21;01menvironment\u001b[39;00m \u001b[38;5;28;01mimport\u001b[39;00m Template \u001b[38;5;28;01mas\u001b[39;00m Template\n\u001b[1;32m     11\u001b[0m \u001b[38;5;28;01mfrom\u001b[39;00m \u001b[38;5;21;01m.\u001b[39;00m\u001b[38;5;21;01mexceptions\u001b[39;00m \u001b[38;5;28;01mimport\u001b[39;00m TemplateAssertionError \u001b[38;5;28;01mas\u001b[39;00m TemplateAssertionError\n",
      "File \u001b[0;32m~/Library/Python/3.9/lib/python/site-packages/jinja2/environment.py:15\u001b[0m\n\u001b[1;32m     12\u001b[0m \u001b[38;5;28;01mfrom\u001b[39;00m \u001b[38;5;21;01mfunctools\u001b[39;00m \u001b[38;5;28;01mimport\u001b[39;00m reduce\n\u001b[1;32m     13\u001b[0m \u001b[38;5;28;01mfrom\u001b[39;00m \u001b[38;5;21;01mtypes\u001b[39;00m \u001b[38;5;28;01mimport\u001b[39;00m CodeType\n\u001b[0;32m---> 15\u001b[0m \u001b[38;5;28;01mfrom\u001b[39;00m \u001b[38;5;21;01mmarkupsafe\u001b[39;00m \u001b[38;5;28;01mimport\u001b[39;00m Markup\n\u001b[1;32m     17\u001b[0m \u001b[38;5;28;01mfrom\u001b[39;00m \u001b[38;5;21;01m.\u001b[39;00m \u001b[38;5;28;01mimport\u001b[39;00m nodes\n\u001b[1;32m     18\u001b[0m \u001b[38;5;28;01mfrom\u001b[39;00m \u001b[38;5;21;01m.\u001b[39;00m\u001b[38;5;21;01mcompiler\u001b[39;00m \u001b[38;5;28;01mimport\u001b[39;00m CodeGenerator\n",
      "File \u001b[0;32m~/Library/Python/3.9/lib/python/site-packages/markupsafe/__init__.py:326\u001b[0m\n\u001b[1;32m    324\u001b[0m \u001b[38;5;66;03m# circular import\u001b[39;00m\n\u001b[1;32m    325\u001b[0m \u001b[38;5;28;01mtry\u001b[39;00m:\n\u001b[0;32m--> 326\u001b[0m     \u001b[38;5;28;01mfrom\u001b[39;00m \u001b[38;5;21;01m.\u001b[39;00m\u001b[38;5;21;01m_speedups\u001b[39;00m \u001b[38;5;28;01mimport\u001b[39;00m escape \u001b[38;5;28;01mas\u001b[39;00m escape\n\u001b[1;32m    327\u001b[0m     \u001b[38;5;28;01mfrom\u001b[39;00m \u001b[38;5;21;01m.\u001b[39;00m\u001b[38;5;21;01m_speedups\u001b[39;00m \u001b[38;5;28;01mimport\u001b[39;00m escape_silent \u001b[38;5;28;01mas\u001b[39;00m escape_silent\n\u001b[1;32m    328\u001b[0m     \u001b[38;5;28;01mfrom\u001b[39;00m \u001b[38;5;21;01m.\u001b[39;00m\u001b[38;5;21;01m_speedups\u001b[39;00m \u001b[38;5;28;01mimport\u001b[39;00m soft_str \u001b[38;5;28;01mas\u001b[39;00m soft_str\n",
      "File \u001b[0;32m<frozen importlib._bootstrap>:203\u001b[0m, in \u001b[0;36m_lock_unlock_module\u001b[0;34m(name)\u001b[0m\n",
      "\u001b[0;31mKeyboardInterrupt\u001b[0m: "
     ]
    }
   ],
   "source": [
    "from fabrictestbed_extensions.fablib.fablib import FablibManager as fablib_manager\n",
    "fablib = fablib_manager()"
   ]
  },
  {
   "cell_type": "code",
   "execution_count": null,
   "id": "7b506c7c-e57e-4b8d-b10c-117e5cc81295",
   "metadata": {},
   "outputs": [],
   "source": [
    "fablib.delete_all()"
   ]
  },
  {
   "cell_type": "markdown",
   "id": "c2913e89-4188-4ebf-a24c-01cedd16540b",
   "metadata": {
    "tags": []
   },
   "source": [
    "# Step 3: Create the Experiment Slice\n",
    "\n",
    "The following creates three node with basic compute and networking capabilities. You build a slice by creating a new slice and adding resources to the slice. After you build the slice, you must submit a request for the slice to be instantiated.   "
   ]
  },
  {
   "cell_type": "markdown",
   "id": "161198e4-00b0-4994-9de8-28e8bfb16cc8",
   "metadata": {
    "tags": []
   },
   "source": [
    "### Step 3.1: Create a slice\n",
    "The code below creates a new slice with the name \"lab1\""
   ]
  },
  {
   "cell_type": "code",
   "execution_count": null,
   "id": "9c97d810-ac6a-4c04-892d-f0ddbe69954b",
   "metadata": {
    "tags": []
   },
   "outputs": [],
   "source": [
    "slice = fablib.new_slice(name=\"lab1\")"
   ]
  },
  {
   "cell_type": "markdown",
   "id": "a0f228eb-d12b-4644-bbc4-df2e34bbdce8",
   "metadata": {
    "tags": []
   },
   "source": [
    "### Step 3.2: Define the sites\n",
    "The code below requests three sites from FABRIC: INDI, STAR, and NCSA"
   ]
  },
  {
   "cell_type": "markdown",
   "id": "06c132e1-d2e2-4346-b10b-647d12d8049c",
   "metadata": {
    "tags": []
   },
   "source": [
    "<img src=\"./labs_files/lab1/figs/fabric_sites.png\" width=\"550px\"><br>"
   ]
  },
  {
   "cell_type": "code",
   "execution_count": null,
   "id": "f28e0cf1-241d-4257-afbf-6aa44989d995",
   "metadata": {
    "tags": []
   },
   "outputs": [
    {
     "name": "stdout",
     "output_type": "stream",
     "text": [
      "The selected sites are SALT, STAR, ATLA WASH DALL PSC\n"
     ]
    }
   ],
   "source": [
    "site1='SALT'\n",
    "site2='STAR'\n",
    "site3='ATLA'\n",
    "site4='WASH'\n",
    "site5='DALL'\n",
    "site6='PSC'\n",
    "\n",
    "print (f'The selected sites are {site1}, {site2}, {site3} {site4} {site5} {site6}') "
   ]
  },
  {
   "cell_type": "markdown",
   "id": "0f71fead-a091-4af0-95ec-bb264c016c43",
   "metadata": {
    "tags": []
   },
   "source": [
    "### Step 3.3: Creating the nodes\n",
    "The code below creates three nodes: server1, server2 and server3. The servers (server1, server2 and server3) use the following:\n",
    "<ul>\n",
    "    <li> 4 CPU cores</li>\n",
    "    <li> 8GB RAM </li>\n",
    "    <li> 20GB disc size </li>\n",
    "    <li> Image: Ubuntu 20.04\n",
    "</ul>\n",
    "\n",
    "server1 will be created in site1, server2 will be created on site2 and server3 will be created in site3\n",
    "\n",
    "\n",
    "![Topology](./images/bmv2-p4-3switches.png)"
   ]
  },
  {
   "cell_type": "code",
   "execution_count": null,
   "id": "7713728b-2740-4e72-b5dd-7d3963012536",
   "metadata": {
    "tags": []
   },
   "outputs": [],
   "source": [
    "server1 = slice.add_node(name=\"server1\", \n",
    "                      site=site1, \n",
    "                      cores=4, \n",
    "                      ram=8, \n",
    "                      disk=20, \n",
    "                      image='default_ubuntu_20')\n",
    "\n",
    "server2 = slice.add_node(name=\"server2\", \n",
    "                      site=site2, \n",
    "                      cores=4, \n",
    "                      ram=8, \n",
    "                      disk=20, \n",
    "                      image='default_ubuntu_20')\n",
    "\n",
    "server3 = slice.add_node(name=\"server3\", \n",
    "                      site=site3, \n",
    "                      cores=4, \n",
    "                      ram=8, \n",
    "                      disk=20, \n",
    "                      image='default_ubuntu_20')\n"
   ]
  },
  {
   "cell_type": "markdown",
   "id": "525749aa-ea9e-4a4b-ac2e-0988d8f0b769",
   "metadata": {
    "tags": []
   },
   "source": [
    "### Step 3.4: Adding the interfaces to the servers\n",
    "The code below adds a Network Interface Card (NIC) to each server."
   ]
  },
  {
   "cell_type": "code",
   "execution_count": null,
   "id": "6f08e680-9922-4517-8f87-99e86ed455be",
   "metadata": {
    "tags": []
   },
   "outputs": [],
   "source": [
    "server1_iface = server1.add_component(model='NIC_Basic').get_interfaces()[0]\n",
    "server2_iface = server2.add_component(model='NIC_Basic').get_interfaces()[0]\n",
    "server3_iface = server3.add_component(model='NIC_Basic').get_interfaces()[0]"
   ]
  },
  {
   "cell_type": "markdown",
   "id": "9f1c2285-d01b-440c-9605-74fe816f4ee5",
   "metadata": {
    "tags": []
   },
   "source": [
    "### Step 3.5: Creating a node for the P4 switches\n",
    "The code below creates nodes that will run the P4 switches. The node use the following\n",
    "<ul>\n",
    "    <li> 16 CPU cores</li>\n",
    "    <li> 8GB RAM </li>\n",
    "    <li> 40GB disc size </li>\n",
    "    <li> Image: Ubuntu 20.04\n",
    "</ul>\n",
    "\n",
    "- Switch1 will be created on site4\n",
    "- Switch2 will be created on site5\n",
    "- Switch3 will be created on site6\n"
   ]
  },
  {
   "cell_type": "code",
   "execution_count": null,
   "id": "d790f23e-0596-41a2-991d-65627d5cf5e6",
   "metadata": {
    "tags": []
   },
   "outputs": [],
   "source": [
    "# Add a node\n",
    "switch1 = slice.add_node(name=\"switch1\", \n",
    "                      site=site4, \n",
    "                      cores=32, \n",
    "                      ram=16, \n",
    "                      disk=40, \n",
    "                      image='default_ubuntu_20')"
   ]
  },
  {
   "cell_type": "code",
   "execution_count": null,
   "id": "98249467-778c-4ebb-a773-0cb05fc1179f",
   "metadata": {},
   "outputs": [],
   "source": [
    "# Add a node\n",
    "switch2 = slice.add_node(name=\"switch2\", \n",
    "                      site=site5, \n",
    "                      cores=32, \n",
    "                      ram=16, \n",
    "                      disk=40, \n",
    "                      image='default_ubuntu_20')"
   ]
  },
  {
   "cell_type": "code",
   "execution_count": null,
   "id": "80633f09-5fbc-4948-847e-957691df98ff",
   "metadata": {},
   "outputs": [],
   "source": [
    "# Add a node\n",
    "switch3 = slice.add_node(name=\"switch3\", \n",
    "                      site=site6, \n",
    "                      cores=32, \n",
    "                      ram=16, \n",
    "                      disk=40, \n",
    "                      image='default_ubuntu_20')"
   ]
  },
  {
   "cell_type": "markdown",
   "id": "52c163c1-ab41-47cf-96b8-b02c8d3cb005",
   "metadata": {},
   "source": [
    "### Step 3.6: Adding two interfaces to the switch\n",
    "The code below adds two Network Interface Cards (NICs) to the switch."
   ]
  },
  {
   "cell_type": "code",
   "execution_count": null,
   "id": "420e3c86-0a63-49c1-81f0-8c75aea4213c",
   "metadata": {},
   "outputs": [],
   "source": [
    "switch1_iface1 = switch1.add_component(model='NIC_Basic', name='net1_nic').get_interfaces()[0]\n",
    "switch1_iface2 = switch1.add_component(model='NIC_Basic', name='net2_nic').get_interfaces()[0]\n",
    "switch1_iface3 = switch1.add_component(model='NIC_Basic', name='net4_nic').get_interfaces()[0]"
   ]
  },
  {
   "cell_type": "code",
   "execution_count": null,
   "id": "50a9184c-b028-4f4f-8fc7-2dbb105fe6fa",
   "metadata": {},
   "outputs": [],
   "source": [
    "switch2_iface1 = switch2.add_component(model='NIC_Basic', name='net2_nic').get_interfaces()[0]\n",
    "switch2_iface2 = switch2.add_component(model='NIC_Basic', name='net3_nic').get_interfaces()[0]\n",
    "switch2_iface3 = switch2.add_component(model='NIC_Basic', name='net5_nic').get_interfaces()[0]"
   ]
  },
  {
   "cell_type": "code",
   "execution_count": null,
   "id": "0d26fa8c-5479-446b-8057-f4e7a723a077",
   "metadata": {},
   "outputs": [],
   "source": [
    "switch3_iface1 = switch3.add_component(model='NIC_Basic', name='net4_nic').get_interfaces()[0]\n",
    "switch3_iface2 = switch3.add_component(model='NIC_Basic', name='net5_nic').get_interfaces()[0]\n",
    "switch3_iface3 = switch3.add_component(model='NIC_Basic', name='net6_nic').get_interfaces()[0]"
   ]
  },
  {
   "cell_type": "markdown",
   "id": "c15ca24e-8743-4d4a-91ea-128dd78b4273",
   "metadata": {},
   "source": [
    "### Step 3.7: Connecting site1 and site2\n",
    "Create a site-to-site network between \n",
    "- Server1 and Switch1\n",
    "- Switch1 and Switch2\n",
    "- Switch2 and Server2\n",
    "- Switch1 and Switch3\n",
    "- Switch2 and Switch3\n",
    "- Switch3 and Server3\n",
    "\n",
    "![Topology](./images/bmv2-p4-3switches.png)"
   ]
  },
  {
   "cell_type": "code",
   "execution_count": null,
   "id": "03859457-746d-402c-9372-9803df8928e9",
   "metadata": {},
   "outputs": [],
   "source": [
    "net1 = slice.add_l2network(name='server1-switch1', interfaces=[server1_iface, switch1_iface1])"
   ]
  },
  {
   "cell_type": "code",
   "execution_count": null,
   "id": "b3a38ceb-1e3c-43ad-ae93-702cdc7d0c10",
   "metadata": {},
   "outputs": [],
   "source": [
    "net2 = slice.add_l2network(name='switch1-switch2', interfaces=[switch1_iface2, switch2_iface1])"
   ]
  },
  {
   "cell_type": "code",
   "execution_count": null,
   "id": "d6eea4ea-3a97-4960-a730-4348a6a9f0eb",
   "metadata": {},
   "outputs": [],
   "source": [
    "net3 = slice.add_l2network(name='server2-switch2', interfaces=[switch2_iface2, server2_iface])"
   ]
  },
  {
   "cell_type": "code",
   "execution_count": null,
   "id": "3c72b4dd-da4d-49c9-ba1a-ead7c2e9de91",
   "metadata": {},
   "outputs": [],
   "source": [
    "net4 = slice.add_l2network(name='switch1-switch3', interfaces=[switch1_iface3, switch3_iface1])"
   ]
  },
  {
   "cell_type": "code",
   "execution_count": null,
   "id": "8bcfa9eb-16f9-4027-ab27-3e3352606165",
   "metadata": {},
   "outputs": [],
   "source": [
    "net5 = slice.add_l2network(name='switch2-switch3', interfaces=[switch2_iface3, switch3_iface2])"
   ]
  },
  {
   "cell_type": "code",
   "execution_count": null,
   "id": "c596ecf9-b43a-4a62-bd61-4f7ddc9e2848",
   "metadata": {},
   "outputs": [],
   "source": [
    "net6 = slice.add_l2network(name='server3-switch3', interfaces=[switch3_iface3, server3_iface])"
   ]
  },
  {
   "cell_type": "markdown",
   "id": "53ab345c-d68e-440d-9fda-03d67472f1ca",
   "metadata": {},
   "source": [
    "### Step 3.9: Submitting the slice\n",
    "The code below submits the slice. \n",
    "By default, the submit function will block until the node is ready and will display the progress of your slice being built."
   ]
  },
  {
   "cell_type": "code",
   "execution_count": null,
   "id": "e706c53c-7a38-4615-a86e-e8944197921f",
   "metadata": {},
   "outputs": [
    {
     "name": "stdout",
     "output_type": "stream",
     "text": [
      "\n",
      "Retry: 11, Time: 318 sec\n"
     ]
    },
    {
     "data": {
      "text/html": [
       "<style type=\"text/css\">\n",
       "#T_6df4c tr:nth-child(even) {\n",
       "  background: #dbf3ff;\n",
       "  color: #231f20;\n",
       "}\n",
       "#T_6df4c tr:nth-child(odd) {\n",
       "  background: #ffffff;\n",
       "  color: #231f20;\n",
       "}\n",
       "#T_6df4c caption {\n",
       "  text-align: center;\n",
       "  font-size: 150%;\n",
       "}\n",
       "#T_6df4c_row0_col0, #T_6df4c_row0_col1, #T_6df4c_row1_col0, #T_6df4c_row1_col1, #T_6df4c_row2_col0, #T_6df4c_row2_col1, #T_6df4c_row3_col0, #T_6df4c_row3_col1, #T_6df4c_row4_col0, #T_6df4c_row4_col1, #T_6df4c_row5_col0 {\n",
       "  text-align: left;\n",
       "  border: 1px #231f20 solid !important;\n",
       "  overwrite: False;\n",
       "  background-color: ;\n",
       "}\n",
       "#T_6df4c_row5_col1 {\n",
       "  text-align: left;\n",
       "  border: 1px #231f20 solid !important;\n",
       "  overwrite: False;\n",
       "  background-color: #c3ffc4;\n",
       "}\n",
       "</style>\n",
       "<table id=\"T_6df4c\">\n",
       "  <caption>Slice</caption>\n",
       "  <thead>\n",
       "  </thead>\n",
       "  <tbody>\n",
       "    <tr>\n",
       "      <td id=\"T_6df4c_row0_col0\" class=\"data row0 col0\" >ID</td>\n",
       "      <td id=\"T_6df4c_row0_col1\" class=\"data row0 col1\" >0618b848-a34b-4bf1-93e2-a38cd4932ce8</td>\n",
       "    </tr>\n",
       "    <tr>\n",
       "      <td id=\"T_6df4c_row1_col0\" class=\"data row1 col0\" >Name</td>\n",
       "      <td id=\"T_6df4c_row1_col1\" class=\"data row1 col1\" >lab1</td>\n",
       "    </tr>\n",
       "    <tr>\n",
       "      <td id=\"T_6df4c_row2_col0\" class=\"data row2 col0\" >Lease Expiration (UTC)</td>\n",
       "      <td id=\"T_6df4c_row2_col1\" class=\"data row2 col1\" >2024-08-23 14:27:13 +0000</td>\n",
       "    </tr>\n",
       "    <tr>\n",
       "      <td id=\"T_6df4c_row3_col0\" class=\"data row3 col0\" >Lease Start (UTC)</td>\n",
       "      <td id=\"T_6df4c_row3_col1\" class=\"data row3 col1\" >2024-08-22 14:27:13 +0000</td>\n",
       "    </tr>\n",
       "    <tr>\n",
       "      <td id=\"T_6df4c_row4_col0\" class=\"data row4 col0\" >Project ID</td>\n",
       "      <td id=\"T_6df4c_row4_col1\" class=\"data row4 col1\" >16eafd43-3e6c-4546-854c-935eea16552a</td>\n",
       "    </tr>\n",
       "    <tr>\n",
       "      <td id=\"T_6df4c_row5_col0\" class=\"data row5 col0\" >State</td>\n",
       "      <td id=\"T_6df4c_row5_col1\" class=\"data row5 col1\" >StableOK</td>\n",
       "    </tr>\n",
       "  </tbody>\n",
       "</table>\n"
      ],
      "text/plain": [
       "<pandas.io.formats.style.Styler at 0x7d1541ef0b90>"
      ]
     },
     "metadata": {},
     "output_type": "display_data"
    },
    {
     "data": {
      "text/html": [
       "<style type=\"text/css\">\n",
       "#T_9a999 caption {\n",
       "  text-align: center;\n",
       "  font-size: 150%;\n",
       "  caption-side: top;\n",
       "}\n",
       "#T_9a999 th {\n",
       "  text-align: left;\n",
       "}\n",
       "#T_9a999 tr:nth-child(even) {\n",
       "  background: #ffffff;\n",
       "  color: #231f20;\n",
       "}\n",
       "#T_9a999 tr:nth-child(odd) {\n",
       "  background: #dbf3ff;\n",
       "  color: #231f20;\n",
       "}\n",
       "#T_9a999 .level0 {\n",
       "  border: 1px black solid !important;\n",
       "  background: #ffffff;\n",
       "  color: #231f20;\n",
       "}\n",
       "#T_9a999_row0_col0, #T_9a999_row0_col1, #T_9a999_row0_col2, #T_9a999_row0_col3, #T_9a999_row0_col4, #T_9a999_row0_col5, #T_9a999_row0_col6, #T_9a999_row0_col7, #T_9a999_row0_col8, #T_9a999_row0_col9, #T_9a999_row0_col10, #T_9a999_row0_col13, #T_9a999_row0_col14, #T_9a999_row0_col15, #T_9a999_row1_col0, #T_9a999_row1_col1, #T_9a999_row1_col2, #T_9a999_row1_col3, #T_9a999_row1_col4, #T_9a999_row1_col5, #T_9a999_row1_col6, #T_9a999_row1_col7, #T_9a999_row1_col8, #T_9a999_row1_col9, #T_9a999_row1_col10, #T_9a999_row1_col13, #T_9a999_row1_col14, #T_9a999_row1_col15, #T_9a999_row2_col0, #T_9a999_row2_col1, #T_9a999_row2_col2, #T_9a999_row2_col3, #T_9a999_row2_col4, #T_9a999_row2_col5, #T_9a999_row2_col6, #T_9a999_row2_col7, #T_9a999_row2_col8, #T_9a999_row2_col9, #T_9a999_row2_col10, #T_9a999_row2_col13, #T_9a999_row2_col14, #T_9a999_row2_col15, #T_9a999_row3_col0, #T_9a999_row3_col1, #T_9a999_row3_col2, #T_9a999_row3_col3, #T_9a999_row3_col4, #T_9a999_row3_col5, #T_9a999_row3_col6, #T_9a999_row3_col7, #T_9a999_row3_col8, #T_9a999_row3_col9, #T_9a999_row3_col10, #T_9a999_row3_col13, #T_9a999_row3_col14, #T_9a999_row3_col15, #T_9a999_row4_col0, #T_9a999_row4_col1, #T_9a999_row4_col2, #T_9a999_row4_col3, #T_9a999_row4_col4, #T_9a999_row4_col5, #T_9a999_row4_col6, #T_9a999_row4_col7, #T_9a999_row4_col8, #T_9a999_row4_col9, #T_9a999_row4_col10, #T_9a999_row4_col13, #T_9a999_row4_col14, #T_9a999_row4_col15, #T_9a999_row5_col0, #T_9a999_row5_col1, #T_9a999_row5_col2, #T_9a999_row5_col3, #T_9a999_row5_col4, #T_9a999_row5_col5, #T_9a999_row5_col6, #T_9a999_row5_col7, #T_9a999_row5_col8, #T_9a999_row5_col9, #T_9a999_row5_col10, #T_9a999_row5_col13, #T_9a999_row5_col14, #T_9a999_row5_col15 {\n",
       "  text-align: left;\n",
       "  border: 1px #231f20 solid !important;\n",
       "  overwrite: False;\n",
       "}\n",
       "#T_9a999_row0_col11, #T_9a999_row1_col11, #T_9a999_row2_col11, #T_9a999_row3_col11, #T_9a999_row4_col11, #T_9a999_row5_col11 {\n",
       "  text-align: left;\n",
       "  border: 1px #231f20 solid !important;\n",
       "  overwrite: False;\n",
       "  background-color: #c3ffc4;\n",
       "}\n",
       "#T_9a999_row0_col12, #T_9a999_row1_col12, #T_9a999_row2_col12, #T_9a999_row3_col12, #T_9a999_row4_col12, #T_9a999_row5_col12 {\n",
       "  text-align: left;\n",
       "  border: 1px #231f20 solid !important;\n",
       "  overwrite: False;\n",
       "  background-color: ;\n",
       "}\n",
       "</style>\n",
       "<table id=\"T_9a999\">\n",
       "  <caption>Nodes</caption>\n",
       "  <thead>\n",
       "    <tr>\n",
       "      <th id=\"T_9a999_level0_col0\" class=\"col_heading level0 col0\" >ID</th>\n",
       "      <th id=\"T_9a999_level0_col1\" class=\"col_heading level0 col1\" >Name</th>\n",
       "      <th id=\"T_9a999_level0_col2\" class=\"col_heading level0 col2\" >Cores</th>\n",
       "      <th id=\"T_9a999_level0_col3\" class=\"col_heading level0 col3\" >RAM</th>\n",
       "      <th id=\"T_9a999_level0_col4\" class=\"col_heading level0 col4\" >Disk</th>\n",
       "      <th id=\"T_9a999_level0_col5\" class=\"col_heading level0 col5\" >Image</th>\n",
       "      <th id=\"T_9a999_level0_col6\" class=\"col_heading level0 col6\" >Image Type</th>\n",
       "      <th id=\"T_9a999_level0_col7\" class=\"col_heading level0 col7\" >Host</th>\n",
       "      <th id=\"T_9a999_level0_col8\" class=\"col_heading level0 col8\" >Site</th>\n",
       "      <th id=\"T_9a999_level0_col9\" class=\"col_heading level0 col9\" >Username</th>\n",
       "      <th id=\"T_9a999_level0_col10\" class=\"col_heading level0 col10\" >Management IP</th>\n",
       "      <th id=\"T_9a999_level0_col11\" class=\"col_heading level0 col11\" >State</th>\n",
       "      <th id=\"T_9a999_level0_col12\" class=\"col_heading level0 col12\" >Error</th>\n",
       "      <th id=\"T_9a999_level0_col13\" class=\"col_heading level0 col13\" >SSH Command</th>\n",
       "      <th id=\"T_9a999_level0_col14\" class=\"col_heading level0 col14\" >Public SSH Key File</th>\n",
       "      <th id=\"T_9a999_level0_col15\" class=\"col_heading level0 col15\" >Private SSH Key File</th>\n",
       "    </tr>\n",
       "  </thead>\n",
       "  <tbody>\n",
       "    <tr>\n",
       "      <td id=\"T_9a999_row0_col0\" class=\"data row0 col0\" >5387a269-a29f-4748-929b-8e6eaf85e778</td>\n",
       "      <td id=\"T_9a999_row0_col1\" class=\"data row0 col1\" >server1</td>\n",
       "      <td id=\"T_9a999_row0_col2\" class=\"data row0 col2\" >4</td>\n",
       "      <td id=\"T_9a999_row0_col3\" class=\"data row0 col3\" >8</td>\n",
       "      <td id=\"T_9a999_row0_col4\" class=\"data row0 col4\" >100</td>\n",
       "      <td id=\"T_9a999_row0_col5\" class=\"data row0 col5\" >default_ubuntu_20</td>\n",
       "      <td id=\"T_9a999_row0_col6\" class=\"data row0 col6\" >qcow2</td>\n",
       "      <td id=\"T_9a999_row0_col7\" class=\"data row0 col7\" >salt-w2.fabric-testbed.net</td>\n",
       "      <td id=\"T_9a999_row0_col8\" class=\"data row0 col8\" >SALT</td>\n",
       "      <td id=\"T_9a999_row0_col9\" class=\"data row0 col9\" >ubuntu</td>\n",
       "      <td id=\"T_9a999_row0_col10\" class=\"data row0 col10\" >2001:400:a100:3010:f816:3eff:fea5:96b9</td>\n",
       "      <td id=\"T_9a999_row0_col11\" class=\"data row0 col11\" >Active</td>\n",
       "      <td id=\"T_9a999_row0_col12\" class=\"data row0 col12\" ></td>\n",
       "      <td id=\"T_9a999_row0_col13\" class=\"data row0 col13\" >ssh -i /home/fabric/work/fabric_config/slice_key -F /home/fabric/work/fabric_config/ssh_config ubuntu@2001:400:a100:3010:f816:3eff:fea5:96b9</td>\n",
       "      <td id=\"T_9a999_row0_col14\" class=\"data row0 col14\" >/home/fabric/work/fabric_config/slice_key.pub</td>\n",
       "      <td id=\"T_9a999_row0_col15\" class=\"data row0 col15\" >/home/fabric/work/fabric_config/slice_key</td>\n",
       "    </tr>\n",
       "    <tr>\n",
       "      <td id=\"T_9a999_row1_col0\" class=\"data row1 col0\" >83354303-a351-4d90-bfee-038fa70d5dfc</td>\n",
       "      <td id=\"T_9a999_row1_col1\" class=\"data row1 col1\" >server2</td>\n",
       "      <td id=\"T_9a999_row1_col2\" class=\"data row1 col2\" >4</td>\n",
       "      <td id=\"T_9a999_row1_col3\" class=\"data row1 col3\" >8</td>\n",
       "      <td id=\"T_9a999_row1_col4\" class=\"data row1 col4\" >100</td>\n",
       "      <td id=\"T_9a999_row1_col5\" class=\"data row1 col5\" >default_ubuntu_20</td>\n",
       "      <td id=\"T_9a999_row1_col6\" class=\"data row1 col6\" >qcow2</td>\n",
       "      <td id=\"T_9a999_row1_col7\" class=\"data row1 col7\" >star-w3.fabric-testbed.net</td>\n",
       "      <td id=\"T_9a999_row1_col8\" class=\"data row1 col8\" >STAR</td>\n",
       "      <td id=\"T_9a999_row1_col9\" class=\"data row1 col9\" >ubuntu</td>\n",
       "      <td id=\"T_9a999_row1_col10\" class=\"data row1 col10\" >2001:400:a100:3030:f816:3eff:fe47:f336</td>\n",
       "      <td id=\"T_9a999_row1_col11\" class=\"data row1 col11\" >Active</td>\n",
       "      <td id=\"T_9a999_row1_col12\" class=\"data row1 col12\" ></td>\n",
       "      <td id=\"T_9a999_row1_col13\" class=\"data row1 col13\" >ssh -i /home/fabric/work/fabric_config/slice_key -F /home/fabric/work/fabric_config/ssh_config ubuntu@2001:400:a100:3030:f816:3eff:fe47:f336</td>\n",
       "      <td id=\"T_9a999_row1_col14\" class=\"data row1 col14\" >/home/fabric/work/fabric_config/slice_key.pub</td>\n",
       "      <td id=\"T_9a999_row1_col15\" class=\"data row1 col15\" >/home/fabric/work/fabric_config/slice_key</td>\n",
       "    </tr>\n",
       "    <tr>\n",
       "      <td id=\"T_9a999_row2_col0\" class=\"data row2 col0\" >ea42f7a8-59e4-4125-806d-5f7b4dca6ad2</td>\n",
       "      <td id=\"T_9a999_row2_col1\" class=\"data row2 col1\" >server3</td>\n",
       "      <td id=\"T_9a999_row2_col2\" class=\"data row2 col2\" >4</td>\n",
       "      <td id=\"T_9a999_row2_col3\" class=\"data row2 col3\" >8</td>\n",
       "      <td id=\"T_9a999_row2_col4\" class=\"data row2 col4\" >100</td>\n",
       "      <td id=\"T_9a999_row2_col5\" class=\"data row2 col5\" >default_ubuntu_20</td>\n",
       "      <td id=\"T_9a999_row2_col6\" class=\"data row2 col6\" >qcow2</td>\n",
       "      <td id=\"T_9a999_row2_col7\" class=\"data row2 col7\" >atla-w1.fabric-testbed.net</td>\n",
       "      <td id=\"T_9a999_row2_col8\" class=\"data row2 col8\" >ATLA</td>\n",
       "      <td id=\"T_9a999_row2_col9\" class=\"data row2 col9\" >ubuntu</td>\n",
       "      <td id=\"T_9a999_row2_col10\" class=\"data row2 col10\" >2001:400:a100:3050:f816:3eff:fe77:b282</td>\n",
       "      <td id=\"T_9a999_row2_col11\" class=\"data row2 col11\" >Active</td>\n",
       "      <td id=\"T_9a999_row2_col12\" class=\"data row2 col12\" ></td>\n",
       "      <td id=\"T_9a999_row2_col13\" class=\"data row2 col13\" >ssh -i /home/fabric/work/fabric_config/slice_key -F /home/fabric/work/fabric_config/ssh_config ubuntu@2001:400:a100:3050:f816:3eff:fe77:b282</td>\n",
       "      <td id=\"T_9a999_row2_col14\" class=\"data row2 col14\" >/home/fabric/work/fabric_config/slice_key.pub</td>\n",
       "      <td id=\"T_9a999_row2_col15\" class=\"data row2 col15\" >/home/fabric/work/fabric_config/slice_key</td>\n",
       "    </tr>\n",
       "    <tr>\n",
       "      <td id=\"T_9a999_row3_col0\" class=\"data row3 col0\" >65c4d030-f58a-4bf3-b1ad-4b5df5305258</td>\n",
       "      <td id=\"T_9a999_row3_col1\" class=\"data row3 col1\" >switch1</td>\n",
       "      <td id=\"T_9a999_row3_col2\" class=\"data row3 col2\" >32</td>\n",
       "      <td id=\"T_9a999_row3_col3\" class=\"data row3 col3\" >16</td>\n",
       "      <td id=\"T_9a999_row3_col4\" class=\"data row3 col4\" >100</td>\n",
       "      <td id=\"T_9a999_row3_col5\" class=\"data row3 col5\" >default_ubuntu_20</td>\n",
       "      <td id=\"T_9a999_row3_col6\" class=\"data row3 col6\" >qcow2</td>\n",
       "      <td id=\"T_9a999_row3_col7\" class=\"data row3 col7\" >wash-w3.fabric-testbed.net</td>\n",
       "      <td id=\"T_9a999_row3_col8\" class=\"data row3 col8\" >WASH</td>\n",
       "      <td id=\"T_9a999_row3_col9\" class=\"data row3 col9\" >ubuntu</td>\n",
       "      <td id=\"T_9a999_row3_col10\" class=\"data row3 col10\" >2001:400:a100:3020:f816:3eff:fe73:9370</td>\n",
       "      <td id=\"T_9a999_row3_col11\" class=\"data row3 col11\" >Active</td>\n",
       "      <td id=\"T_9a999_row3_col12\" class=\"data row3 col12\" ></td>\n",
       "      <td id=\"T_9a999_row3_col13\" class=\"data row3 col13\" >ssh -i /home/fabric/work/fabric_config/slice_key -F /home/fabric/work/fabric_config/ssh_config ubuntu@2001:400:a100:3020:f816:3eff:fe73:9370</td>\n",
       "      <td id=\"T_9a999_row3_col14\" class=\"data row3 col14\" >/home/fabric/work/fabric_config/slice_key.pub</td>\n",
       "      <td id=\"T_9a999_row3_col15\" class=\"data row3 col15\" >/home/fabric/work/fabric_config/slice_key</td>\n",
       "    </tr>\n",
       "    <tr>\n",
       "      <td id=\"T_9a999_row4_col0\" class=\"data row4 col0\" >cff672ba-c13f-48ff-8694-49d9f67f7b0b</td>\n",
       "      <td id=\"T_9a999_row4_col1\" class=\"data row4 col1\" >switch2</td>\n",
       "      <td id=\"T_9a999_row4_col2\" class=\"data row4 col2\" >32</td>\n",
       "      <td id=\"T_9a999_row4_col3\" class=\"data row4 col3\" >16</td>\n",
       "      <td id=\"T_9a999_row4_col4\" class=\"data row4 col4\" >100</td>\n",
       "      <td id=\"T_9a999_row4_col5\" class=\"data row4 col5\" >default_ubuntu_20</td>\n",
       "      <td id=\"T_9a999_row4_col6\" class=\"data row4 col6\" >qcow2</td>\n",
       "      <td id=\"T_9a999_row4_col7\" class=\"data row4 col7\" >dall-w2.fabric-testbed.net</td>\n",
       "      <td id=\"T_9a999_row4_col8\" class=\"data row4 col8\" >DALL</td>\n",
       "      <td id=\"T_9a999_row4_col9\" class=\"data row4 col9\" >ubuntu</td>\n",
       "      <td id=\"T_9a999_row4_col10\" class=\"data row4 col10\" >2001:400:a100:3000:f816:3eff:fe98:f68e</td>\n",
       "      <td id=\"T_9a999_row4_col11\" class=\"data row4 col11\" >Active</td>\n",
       "      <td id=\"T_9a999_row4_col12\" class=\"data row4 col12\" ></td>\n",
       "      <td id=\"T_9a999_row4_col13\" class=\"data row4 col13\" >ssh -i /home/fabric/work/fabric_config/slice_key -F /home/fabric/work/fabric_config/ssh_config ubuntu@2001:400:a100:3000:f816:3eff:fe98:f68e</td>\n",
       "      <td id=\"T_9a999_row4_col14\" class=\"data row4 col14\" >/home/fabric/work/fabric_config/slice_key.pub</td>\n",
       "      <td id=\"T_9a999_row4_col15\" class=\"data row4 col15\" >/home/fabric/work/fabric_config/slice_key</td>\n",
       "    </tr>\n",
       "    <tr>\n",
       "      <td id=\"T_9a999_row5_col0\" class=\"data row5 col0\" >760c1dcc-5cfa-47e8-af57-6a80cbe6ae01</td>\n",
       "      <td id=\"T_9a999_row5_col1\" class=\"data row5 col1\" >switch3</td>\n",
       "      <td id=\"T_9a999_row5_col2\" class=\"data row5 col2\" >32</td>\n",
       "      <td id=\"T_9a999_row5_col3\" class=\"data row5 col3\" >16</td>\n",
       "      <td id=\"T_9a999_row5_col4\" class=\"data row5 col4\" >100</td>\n",
       "      <td id=\"T_9a999_row5_col5\" class=\"data row5 col5\" >default_ubuntu_20</td>\n",
       "      <td id=\"T_9a999_row5_col6\" class=\"data row5 col6\" >qcow2</td>\n",
       "      <td id=\"T_9a999_row5_col7\" class=\"data row5 col7\" >psc-w3.fabric-testbed.net</td>\n",
       "      <td id=\"T_9a999_row5_col8\" class=\"data row5 col8\" >PSC</td>\n",
       "      <td id=\"T_9a999_row5_col9\" class=\"data row5 col9\" >ubuntu</td>\n",
       "      <td id=\"T_9a999_row5_col10\" class=\"data row5 col10\" >2001:5e8:ff00:ffff:f816:3eff:fea0:67eb</td>\n",
       "      <td id=\"T_9a999_row5_col11\" class=\"data row5 col11\" >Active</td>\n",
       "      <td id=\"T_9a999_row5_col12\" class=\"data row5 col12\" ></td>\n",
       "      <td id=\"T_9a999_row5_col13\" class=\"data row5 col13\" >ssh -i /home/fabric/work/fabric_config/slice_key -F /home/fabric/work/fabric_config/ssh_config ubuntu@2001:5e8:ff00:ffff:f816:3eff:fea0:67eb</td>\n",
       "      <td id=\"T_9a999_row5_col14\" class=\"data row5 col14\" >/home/fabric/work/fabric_config/slice_key.pub</td>\n",
       "      <td id=\"T_9a999_row5_col15\" class=\"data row5 col15\" >/home/fabric/work/fabric_config/slice_key</td>\n",
       "    </tr>\n",
       "  </tbody>\n",
       "</table>\n"
      ],
      "text/plain": [
       "<pandas.io.formats.style.Styler at 0x7d157010b0d0>"
      ]
     },
     "metadata": {},
     "output_type": "display_data"
    },
    {
     "data": {
      "text/html": [
       "<style type=\"text/css\">\n",
       "#T_d360b caption {\n",
       "  text-align: center;\n",
       "  font-size: 150%;\n",
       "  caption-side: top;\n",
       "}\n",
       "#T_d360b th {\n",
       "  text-align: left;\n",
       "}\n",
       "#T_d360b tr:nth-child(even) {\n",
       "  background: #ffffff;\n",
       "  color: #231f20;\n",
       "}\n",
       "#T_d360b tr:nth-child(odd) {\n",
       "  background: #dbf3ff;\n",
       "  color: #231f20;\n",
       "}\n",
       "#T_d360b .level0 {\n",
       "  border: 1px black solid !important;\n",
       "  background: #ffffff;\n",
       "  color: #231f20;\n",
       "}\n",
       "#T_d360b_row0_col0, #T_d360b_row0_col1, #T_d360b_row0_col2, #T_d360b_row0_col3, #T_d360b_row0_col4, #T_d360b_row0_col5, #T_d360b_row0_col6, #T_d360b_row1_col0, #T_d360b_row1_col1, #T_d360b_row1_col2, #T_d360b_row1_col3, #T_d360b_row1_col4, #T_d360b_row1_col5, #T_d360b_row1_col6, #T_d360b_row2_col0, #T_d360b_row2_col1, #T_d360b_row2_col2, #T_d360b_row2_col3, #T_d360b_row2_col4, #T_d360b_row2_col5, #T_d360b_row2_col6, #T_d360b_row3_col0, #T_d360b_row3_col1, #T_d360b_row3_col2, #T_d360b_row3_col3, #T_d360b_row3_col4, #T_d360b_row3_col5, #T_d360b_row3_col6, #T_d360b_row4_col0, #T_d360b_row4_col1, #T_d360b_row4_col2, #T_d360b_row4_col3, #T_d360b_row4_col4, #T_d360b_row4_col5, #T_d360b_row4_col6, #T_d360b_row5_col0, #T_d360b_row5_col1, #T_d360b_row5_col2, #T_d360b_row5_col3, #T_d360b_row5_col4, #T_d360b_row5_col5, #T_d360b_row5_col6 {\n",
       "  text-align: left;\n",
       "  border: 1px #231f20 solid !important;\n",
       "  overwrite: False;\n",
       "}\n",
       "#T_d360b_row0_col7, #T_d360b_row1_col7, #T_d360b_row2_col7, #T_d360b_row3_col7, #T_d360b_row4_col7, #T_d360b_row5_col7 {\n",
       "  text-align: left;\n",
       "  border: 1px #231f20 solid !important;\n",
       "  overwrite: False;\n",
       "  background-color: #c3ffc4;\n",
       "}\n",
       "#T_d360b_row0_col8, #T_d360b_row1_col8, #T_d360b_row2_col8, #T_d360b_row3_col8, #T_d360b_row4_col8, #T_d360b_row5_col8 {\n",
       "  text-align: left;\n",
       "  border: 1px #231f20 solid !important;\n",
       "  overwrite: False;\n",
       "  background-color: ;\n",
       "}\n",
       "</style>\n",
       "<table id=\"T_d360b\">\n",
       "  <caption>Networks</caption>\n",
       "  <thead>\n",
       "    <tr>\n",
       "      <th id=\"T_d360b_level0_col0\" class=\"col_heading level0 col0\" >ID</th>\n",
       "      <th id=\"T_d360b_level0_col1\" class=\"col_heading level0 col1\" >Name</th>\n",
       "      <th id=\"T_d360b_level0_col2\" class=\"col_heading level0 col2\" >Layer</th>\n",
       "      <th id=\"T_d360b_level0_col3\" class=\"col_heading level0 col3\" >Type</th>\n",
       "      <th id=\"T_d360b_level0_col4\" class=\"col_heading level0 col4\" >Site</th>\n",
       "      <th id=\"T_d360b_level0_col5\" class=\"col_heading level0 col5\" >Subnet</th>\n",
       "      <th id=\"T_d360b_level0_col6\" class=\"col_heading level0 col6\" >Gateway</th>\n",
       "      <th id=\"T_d360b_level0_col7\" class=\"col_heading level0 col7\" >State</th>\n",
       "      <th id=\"T_d360b_level0_col8\" class=\"col_heading level0 col8\" >Error</th>\n",
       "    </tr>\n",
       "  </thead>\n",
       "  <tbody>\n",
       "    <tr>\n",
       "      <td id=\"T_d360b_row0_col0\" class=\"data row0 col0\" >57ac6fb0-5b3b-4ca0-b442-deb2a905826b</td>\n",
       "      <td id=\"T_d360b_row0_col1\" class=\"data row0 col1\" >server1-switch1</td>\n",
       "      <td id=\"T_d360b_row0_col2\" class=\"data row0 col2\" >L2</td>\n",
       "      <td id=\"T_d360b_row0_col3\" class=\"data row0 col3\" >L2STS</td>\n",
       "      <td id=\"T_d360b_row0_col4\" class=\"data row0 col4\" >None</td>\n",
       "      <td id=\"T_d360b_row0_col5\" class=\"data row0 col5\" >None</td>\n",
       "      <td id=\"T_d360b_row0_col6\" class=\"data row0 col6\" >None</td>\n",
       "      <td id=\"T_d360b_row0_col7\" class=\"data row0 col7\" >Active</td>\n",
       "      <td id=\"T_d360b_row0_col8\" class=\"data row0 col8\" ></td>\n",
       "    </tr>\n",
       "    <tr>\n",
       "      <td id=\"T_d360b_row1_col0\" class=\"data row1 col0\" >b330bfad-2941-44db-832f-07dfc540d634</td>\n",
       "      <td id=\"T_d360b_row1_col1\" class=\"data row1 col1\" >server2-switch2</td>\n",
       "      <td id=\"T_d360b_row1_col2\" class=\"data row1 col2\" >L2</td>\n",
       "      <td id=\"T_d360b_row1_col3\" class=\"data row1 col3\" >L2STS</td>\n",
       "      <td id=\"T_d360b_row1_col4\" class=\"data row1 col4\" >None</td>\n",
       "      <td id=\"T_d360b_row1_col5\" class=\"data row1 col5\" >None</td>\n",
       "      <td id=\"T_d360b_row1_col6\" class=\"data row1 col6\" >None</td>\n",
       "      <td id=\"T_d360b_row1_col7\" class=\"data row1 col7\" >Active</td>\n",
       "      <td id=\"T_d360b_row1_col8\" class=\"data row1 col8\" ></td>\n",
       "    </tr>\n",
       "    <tr>\n",
       "      <td id=\"T_d360b_row2_col0\" class=\"data row2 col0\" >7019bd77-8b21-4e67-b9ff-42a7a3f93de2</td>\n",
       "      <td id=\"T_d360b_row2_col1\" class=\"data row2 col1\" >server3-switch3</td>\n",
       "      <td id=\"T_d360b_row2_col2\" class=\"data row2 col2\" >L2</td>\n",
       "      <td id=\"T_d360b_row2_col3\" class=\"data row2 col3\" >L2STS</td>\n",
       "      <td id=\"T_d360b_row2_col4\" class=\"data row2 col4\" >None</td>\n",
       "      <td id=\"T_d360b_row2_col5\" class=\"data row2 col5\" >None</td>\n",
       "      <td id=\"T_d360b_row2_col6\" class=\"data row2 col6\" >None</td>\n",
       "      <td id=\"T_d360b_row2_col7\" class=\"data row2 col7\" >Active</td>\n",
       "      <td id=\"T_d360b_row2_col8\" class=\"data row2 col8\" ></td>\n",
       "    </tr>\n",
       "    <tr>\n",
       "      <td id=\"T_d360b_row3_col0\" class=\"data row3 col0\" >15a0c0eb-9ea8-4c60-b63e-91b49894d03b</td>\n",
       "      <td id=\"T_d360b_row3_col1\" class=\"data row3 col1\" >switch1-switch2</td>\n",
       "      <td id=\"T_d360b_row3_col2\" class=\"data row3 col2\" >L2</td>\n",
       "      <td id=\"T_d360b_row3_col3\" class=\"data row3 col3\" >L2STS</td>\n",
       "      <td id=\"T_d360b_row3_col4\" class=\"data row3 col4\" >None</td>\n",
       "      <td id=\"T_d360b_row3_col5\" class=\"data row3 col5\" >None</td>\n",
       "      <td id=\"T_d360b_row3_col6\" class=\"data row3 col6\" >None</td>\n",
       "      <td id=\"T_d360b_row3_col7\" class=\"data row3 col7\" >Active</td>\n",
       "      <td id=\"T_d360b_row3_col8\" class=\"data row3 col8\" ></td>\n",
       "    </tr>\n",
       "    <tr>\n",
       "      <td id=\"T_d360b_row4_col0\" class=\"data row4 col0\" >67d0e46b-afe4-46e2-b6de-a69867f846ac</td>\n",
       "      <td id=\"T_d360b_row4_col1\" class=\"data row4 col1\" >switch1-switch3</td>\n",
       "      <td id=\"T_d360b_row4_col2\" class=\"data row4 col2\" >L2</td>\n",
       "      <td id=\"T_d360b_row4_col3\" class=\"data row4 col3\" >L2STS</td>\n",
       "      <td id=\"T_d360b_row4_col4\" class=\"data row4 col4\" >None</td>\n",
       "      <td id=\"T_d360b_row4_col5\" class=\"data row4 col5\" >None</td>\n",
       "      <td id=\"T_d360b_row4_col6\" class=\"data row4 col6\" >None</td>\n",
       "      <td id=\"T_d360b_row4_col7\" class=\"data row4 col7\" >Active</td>\n",
       "      <td id=\"T_d360b_row4_col8\" class=\"data row4 col8\" ></td>\n",
       "    </tr>\n",
       "    <tr>\n",
       "      <td id=\"T_d360b_row5_col0\" class=\"data row5 col0\" >3e663239-0b35-49e3-8ee6-65fc0ba2cfe2</td>\n",
       "      <td id=\"T_d360b_row5_col1\" class=\"data row5 col1\" >switch2-switch3</td>\n",
       "      <td id=\"T_d360b_row5_col2\" class=\"data row5 col2\" >L2</td>\n",
       "      <td id=\"T_d360b_row5_col3\" class=\"data row5 col3\" >L2STS</td>\n",
       "      <td id=\"T_d360b_row5_col4\" class=\"data row5 col4\" >None</td>\n",
       "      <td id=\"T_d360b_row5_col5\" class=\"data row5 col5\" >None</td>\n",
       "      <td id=\"T_d360b_row5_col6\" class=\"data row5 col6\" >None</td>\n",
       "      <td id=\"T_d360b_row5_col7\" class=\"data row5 col7\" >Active</td>\n",
       "      <td id=\"T_d360b_row5_col8\" class=\"data row5 col8\" ></td>\n",
       "    </tr>\n",
       "  </tbody>\n",
       "</table>\n"
      ],
      "text/plain": [
       "<pandas.io.formats.style.Styler at 0x7d1541acfe90>"
      ]
     },
     "metadata": {},
     "output_type": "display_data"
    },
    {
     "data": {
      "text/html": [
       "<style type=\"text/css\">\n",
       "#T_2247c caption {\n",
       "  text-align: center;\n",
       "  font-size: 150%;\n",
       "  caption-side: top;\n",
       "}\n",
       "#T_2247c th {\n",
       "  text-align: left;\n",
       "}\n",
       "#T_2247c tr:nth-child(even) {\n",
       "  background: #ffffff;\n",
       "  color: #231f20;\n",
       "}\n",
       "#T_2247c tr:nth-child(odd) {\n",
       "  background: #dbf3ff;\n",
       "  color: #231f20;\n",
       "}\n",
       "#T_2247c .level0 {\n",
       "  border: 1px black solid !important;\n",
       "  background: #ffffff;\n",
       "  color: #231f20;\n",
       "}\n",
       "#T_2247c_row0_col0, #T_2247c_row0_col1, #T_2247c_row0_col2, #T_2247c_row0_col3, #T_2247c_row0_col4, #T_2247c_row0_col5, #T_2247c_row0_col6, #T_2247c_row0_col7, #T_2247c_row0_col8, #T_2247c_row0_col9, #T_2247c_row0_col10, #T_2247c_row0_col11, #T_2247c_row0_col12, #T_2247c_row1_col0, #T_2247c_row1_col1, #T_2247c_row1_col2, #T_2247c_row1_col3, #T_2247c_row1_col4, #T_2247c_row1_col5, #T_2247c_row1_col6, #T_2247c_row1_col7, #T_2247c_row1_col8, #T_2247c_row1_col9, #T_2247c_row1_col10, #T_2247c_row1_col11, #T_2247c_row1_col12, #T_2247c_row2_col0, #T_2247c_row2_col1, #T_2247c_row2_col2, #T_2247c_row2_col3, #T_2247c_row2_col4, #T_2247c_row2_col5, #T_2247c_row2_col6, #T_2247c_row2_col7, #T_2247c_row2_col8, #T_2247c_row2_col9, #T_2247c_row2_col10, #T_2247c_row2_col11, #T_2247c_row2_col12, #T_2247c_row3_col0, #T_2247c_row3_col1, #T_2247c_row3_col2, #T_2247c_row3_col3, #T_2247c_row3_col4, #T_2247c_row3_col5, #T_2247c_row3_col6, #T_2247c_row3_col7, #T_2247c_row3_col8, #T_2247c_row3_col9, #T_2247c_row3_col10, #T_2247c_row3_col11, #T_2247c_row3_col12, #T_2247c_row4_col0, #T_2247c_row4_col1, #T_2247c_row4_col2, #T_2247c_row4_col3, #T_2247c_row4_col4, #T_2247c_row4_col5, #T_2247c_row4_col6, #T_2247c_row4_col7, #T_2247c_row4_col8, #T_2247c_row4_col9, #T_2247c_row4_col10, #T_2247c_row4_col11, #T_2247c_row4_col12, #T_2247c_row5_col0, #T_2247c_row5_col1, #T_2247c_row5_col2, #T_2247c_row5_col3, #T_2247c_row5_col4, #T_2247c_row5_col5, #T_2247c_row5_col6, #T_2247c_row5_col7, #T_2247c_row5_col8, #T_2247c_row5_col9, #T_2247c_row5_col10, #T_2247c_row5_col11, #T_2247c_row5_col12, #T_2247c_row6_col0, #T_2247c_row6_col1, #T_2247c_row6_col2, #T_2247c_row6_col3, #T_2247c_row6_col4, #T_2247c_row6_col5, #T_2247c_row6_col6, #T_2247c_row6_col7, #T_2247c_row6_col8, #T_2247c_row6_col9, #T_2247c_row6_col10, #T_2247c_row6_col11, #T_2247c_row6_col12, #T_2247c_row7_col0, #T_2247c_row7_col1, #T_2247c_row7_col2, #T_2247c_row7_col3, #T_2247c_row7_col4, #T_2247c_row7_col5, #T_2247c_row7_col6, #T_2247c_row7_col7, #T_2247c_row7_col8, #T_2247c_row7_col9, #T_2247c_row7_col10, #T_2247c_row7_col11, #T_2247c_row7_col12, #T_2247c_row8_col0, #T_2247c_row8_col1, #T_2247c_row8_col2, #T_2247c_row8_col3, #T_2247c_row8_col4, #T_2247c_row8_col5, #T_2247c_row8_col6, #T_2247c_row8_col7, #T_2247c_row8_col8, #T_2247c_row8_col9, #T_2247c_row8_col10, #T_2247c_row8_col11, #T_2247c_row8_col12, #T_2247c_row9_col0, #T_2247c_row9_col1, #T_2247c_row9_col2, #T_2247c_row9_col3, #T_2247c_row9_col4, #T_2247c_row9_col5, #T_2247c_row9_col6, #T_2247c_row9_col7, #T_2247c_row9_col8, #T_2247c_row9_col9, #T_2247c_row9_col10, #T_2247c_row9_col11, #T_2247c_row9_col12, #T_2247c_row10_col0, #T_2247c_row10_col1, #T_2247c_row10_col2, #T_2247c_row10_col3, #T_2247c_row10_col4, #T_2247c_row10_col5, #T_2247c_row10_col6, #T_2247c_row10_col7, #T_2247c_row10_col8, #T_2247c_row10_col9, #T_2247c_row10_col10, #T_2247c_row10_col11, #T_2247c_row10_col12, #T_2247c_row11_col0, #T_2247c_row11_col1, #T_2247c_row11_col2, #T_2247c_row11_col3, #T_2247c_row11_col4, #T_2247c_row11_col5, #T_2247c_row11_col6, #T_2247c_row11_col7, #T_2247c_row11_col8, #T_2247c_row11_col9, #T_2247c_row11_col10, #T_2247c_row11_col11, #T_2247c_row11_col12 {\n",
       "  text-align: left;\n",
       "  border: 1px #231f20 solid !important;\n",
       "  overwrite: False;\n",
       "}\n",
       "</style>\n",
       "<table id=\"T_2247c\">\n",
       "  <caption>Interfaces</caption>\n",
       "  <thead>\n",
       "    <tr>\n",
       "      <th id=\"T_2247c_level0_col0\" class=\"col_heading level0 col0\" >Name</th>\n",
       "      <th id=\"T_2247c_level0_col1\" class=\"col_heading level0 col1\" >Short Name</th>\n",
       "      <th id=\"T_2247c_level0_col2\" class=\"col_heading level0 col2\" >Node</th>\n",
       "      <th id=\"T_2247c_level0_col3\" class=\"col_heading level0 col3\" >Network</th>\n",
       "      <th id=\"T_2247c_level0_col4\" class=\"col_heading level0 col4\" >Bandwidth</th>\n",
       "      <th id=\"T_2247c_level0_col5\" class=\"col_heading level0 col5\" >Mode</th>\n",
       "      <th id=\"T_2247c_level0_col6\" class=\"col_heading level0 col6\" >VLAN</th>\n",
       "      <th id=\"T_2247c_level0_col7\" class=\"col_heading level0 col7\" >MAC</th>\n",
       "      <th id=\"T_2247c_level0_col8\" class=\"col_heading level0 col8\" >Physical Device</th>\n",
       "      <th id=\"T_2247c_level0_col9\" class=\"col_heading level0 col9\" >Device</th>\n",
       "      <th id=\"T_2247c_level0_col10\" class=\"col_heading level0 col10\" >IP Address</th>\n",
       "      <th id=\"T_2247c_level0_col11\" class=\"col_heading level0 col11\" >Numa Node</th>\n",
       "      <th id=\"T_2247c_level0_col12\" class=\"col_heading level0 col12\" >Switch Port</th>\n",
       "    </tr>\n",
       "  </thead>\n",
       "  <tbody>\n",
       "    <tr>\n",
       "      <td id=\"T_2247c_row0_col0\" class=\"data row0 col0\" >server1-None-p1</td>\n",
       "      <td id=\"T_2247c_row0_col1\" class=\"data row0 col1\" >p1</td>\n",
       "      <td id=\"T_2247c_row0_col2\" class=\"data row0 col2\" >server1</td>\n",
       "      <td id=\"T_2247c_row0_col3\" class=\"data row0 col3\" >server1-switch1</td>\n",
       "      <td id=\"T_2247c_row0_col4\" class=\"data row0 col4\" >100</td>\n",
       "      <td id=\"T_2247c_row0_col5\" class=\"data row0 col5\" >config</td>\n",
       "      <td id=\"T_2247c_row0_col6\" class=\"data row0 col6\" ></td>\n",
       "      <td id=\"T_2247c_row0_col7\" class=\"data row0 col7\" >32:1A:72:75:55:6C</td>\n",
       "      <td id=\"T_2247c_row0_col8\" class=\"data row0 col8\" >enp7s0</td>\n",
       "      <td id=\"T_2247c_row0_col9\" class=\"data row0 col9\" >enp7s0</td>\n",
       "      <td id=\"T_2247c_row0_col10\" class=\"data row0 col10\" >fe80::301a:72ff:fe75:556c</td>\n",
       "      <td id=\"T_2247c_row0_col11\" class=\"data row0 col11\" >4</td>\n",
       "      <td id=\"T_2247c_row0_col12\" class=\"data row0 col12\" >HundredGigE0/0/0/7</td>\n",
       "    </tr>\n",
       "    <tr>\n",
       "      <td id=\"T_2247c_row1_col0\" class=\"data row1 col0\" >server2-None-p1</td>\n",
       "      <td id=\"T_2247c_row1_col1\" class=\"data row1 col1\" >p1</td>\n",
       "      <td id=\"T_2247c_row1_col2\" class=\"data row1 col2\" >server2</td>\n",
       "      <td id=\"T_2247c_row1_col3\" class=\"data row1 col3\" >server2-switch2</td>\n",
       "      <td id=\"T_2247c_row1_col4\" class=\"data row1 col4\" >100</td>\n",
       "      <td id=\"T_2247c_row1_col5\" class=\"data row1 col5\" >config</td>\n",
       "      <td id=\"T_2247c_row1_col6\" class=\"data row1 col6\" ></td>\n",
       "      <td id=\"T_2247c_row1_col7\" class=\"data row1 col7\" >2A:77:C8:60:D3:BF</td>\n",
       "      <td id=\"T_2247c_row1_col8\" class=\"data row1 col8\" >enp7s0</td>\n",
       "      <td id=\"T_2247c_row1_col9\" class=\"data row1 col9\" >enp7s0</td>\n",
       "      <td id=\"T_2247c_row1_col10\" class=\"data row1 col10\" >fe80::2877:c8ff:fe60:d3bf</td>\n",
       "      <td id=\"T_2247c_row1_col11\" class=\"data row1 col11\" >4</td>\n",
       "      <td id=\"T_2247c_row1_col12\" class=\"data row1 col12\" >HundredGigE0/0/0/9</td>\n",
       "    </tr>\n",
       "    <tr>\n",
       "      <td id=\"T_2247c_row2_col0\" class=\"data row2 col0\" >server3-None-p1</td>\n",
       "      <td id=\"T_2247c_row2_col1\" class=\"data row2 col1\" >p1</td>\n",
       "      <td id=\"T_2247c_row2_col2\" class=\"data row2 col2\" >server3</td>\n",
       "      <td id=\"T_2247c_row2_col3\" class=\"data row2 col3\" >server3-switch3</td>\n",
       "      <td id=\"T_2247c_row2_col4\" class=\"data row2 col4\" >100</td>\n",
       "      <td id=\"T_2247c_row2_col5\" class=\"data row2 col5\" >config</td>\n",
       "      <td id=\"T_2247c_row2_col6\" class=\"data row2 col6\" ></td>\n",
       "      <td id=\"T_2247c_row2_col7\" class=\"data row2 col7\" >0E:86:BD:78:2B:A1</td>\n",
       "      <td id=\"T_2247c_row2_col8\" class=\"data row2 col8\" >enp7s0</td>\n",
       "      <td id=\"T_2247c_row2_col9\" class=\"data row2 col9\" >enp7s0</td>\n",
       "      <td id=\"T_2247c_row2_col10\" class=\"data row2 col10\" >fe80::c86:bdff:fe78:2ba1</td>\n",
       "      <td id=\"T_2247c_row2_col11\" class=\"data row2 col11\" >4</td>\n",
       "      <td id=\"T_2247c_row2_col12\" class=\"data row2 col12\" >HundredGigE0/0/0/5</td>\n",
       "    </tr>\n",
       "    <tr>\n",
       "      <td id=\"T_2247c_row3_col0\" class=\"data row3 col0\" >switch1-net1_nic-p1</td>\n",
       "      <td id=\"T_2247c_row3_col1\" class=\"data row3 col1\" >p1</td>\n",
       "      <td id=\"T_2247c_row3_col2\" class=\"data row3 col2\" >switch1</td>\n",
       "      <td id=\"T_2247c_row3_col3\" class=\"data row3 col3\" >server1-switch1</td>\n",
       "      <td id=\"T_2247c_row3_col4\" class=\"data row3 col4\" >100</td>\n",
       "      <td id=\"T_2247c_row3_col5\" class=\"data row3 col5\" >config</td>\n",
       "      <td id=\"T_2247c_row3_col6\" class=\"data row3 col6\" ></td>\n",
       "      <td id=\"T_2247c_row3_col7\" class=\"data row3 col7\" >0A:6B:BB:DB:8E:43</td>\n",
       "      <td id=\"T_2247c_row3_col8\" class=\"data row3 col8\" >enp8s0</td>\n",
       "      <td id=\"T_2247c_row3_col9\" class=\"data row3 col9\" >enp8s0</td>\n",
       "      <td id=\"T_2247c_row3_col10\" class=\"data row3 col10\" >fe80::86b:bbff:fedb:8e43</td>\n",
       "      <td id=\"T_2247c_row3_col11\" class=\"data row3 col11\" >4</td>\n",
       "      <td id=\"T_2247c_row3_col12\" class=\"data row3 col12\" >HundredGigE0/0/0/9</td>\n",
       "    </tr>\n",
       "    <tr>\n",
       "      <td id=\"T_2247c_row4_col0\" class=\"data row4 col0\" >switch1-net2_nic-p1</td>\n",
       "      <td id=\"T_2247c_row4_col1\" class=\"data row4 col1\" >p1</td>\n",
       "      <td id=\"T_2247c_row4_col2\" class=\"data row4 col2\" >switch1</td>\n",
       "      <td id=\"T_2247c_row4_col3\" class=\"data row4 col3\" >switch1-switch2</td>\n",
       "      <td id=\"T_2247c_row4_col4\" class=\"data row4 col4\" >100</td>\n",
       "      <td id=\"T_2247c_row4_col5\" class=\"data row4 col5\" >config</td>\n",
       "      <td id=\"T_2247c_row4_col6\" class=\"data row4 col6\" ></td>\n",
       "      <td id=\"T_2247c_row4_col7\" class=\"data row4 col7\" >4E:6B:86:D3:40:40</td>\n",
       "      <td id=\"T_2247c_row4_col8\" class=\"data row4 col8\" >enp9s0</td>\n",
       "      <td id=\"T_2247c_row4_col9\" class=\"data row4 col9\" >enp9s0</td>\n",
       "      <td id=\"T_2247c_row4_col10\" class=\"data row4 col10\" >fe80::4c6b:86ff:fed3:4040</td>\n",
       "      <td id=\"T_2247c_row4_col11\" class=\"data row4 col11\" >4</td>\n",
       "      <td id=\"T_2247c_row4_col12\" class=\"data row4 col12\" >HundredGigE0/0/0/9</td>\n",
       "    </tr>\n",
       "    <tr>\n",
       "      <td id=\"T_2247c_row5_col0\" class=\"data row5 col0\" >switch1-net4_nic-p1</td>\n",
       "      <td id=\"T_2247c_row5_col1\" class=\"data row5 col1\" >p1</td>\n",
       "      <td id=\"T_2247c_row5_col2\" class=\"data row5 col2\" >switch1</td>\n",
       "      <td id=\"T_2247c_row5_col3\" class=\"data row5 col3\" >switch1-switch3</td>\n",
       "      <td id=\"T_2247c_row5_col4\" class=\"data row5 col4\" >100</td>\n",
       "      <td id=\"T_2247c_row5_col5\" class=\"data row5 col5\" >config</td>\n",
       "      <td id=\"T_2247c_row5_col6\" class=\"data row5 col6\" ></td>\n",
       "      <td id=\"T_2247c_row5_col7\" class=\"data row5 col7\" >0A:53:98:C2:26:8E</td>\n",
       "      <td id=\"T_2247c_row5_col8\" class=\"data row5 col8\" >enp7s0</td>\n",
       "      <td id=\"T_2247c_row5_col9\" class=\"data row5 col9\" >enp7s0</td>\n",
       "      <td id=\"T_2247c_row5_col10\" class=\"data row5 col10\" >fe80::853:98ff:fec2:268e</td>\n",
       "      <td id=\"T_2247c_row5_col11\" class=\"data row5 col11\" >4</td>\n",
       "      <td id=\"T_2247c_row5_col12\" class=\"data row5 col12\" >HundredGigE0/0/0/9</td>\n",
       "    </tr>\n",
       "    <tr>\n",
       "      <td id=\"T_2247c_row6_col0\" class=\"data row6 col0\" >switch2-net2_nic-p1</td>\n",
       "      <td id=\"T_2247c_row6_col1\" class=\"data row6 col1\" >p1</td>\n",
       "      <td id=\"T_2247c_row6_col2\" class=\"data row6 col2\" >switch2</td>\n",
       "      <td id=\"T_2247c_row6_col3\" class=\"data row6 col3\" >switch1-switch2</td>\n",
       "      <td id=\"T_2247c_row6_col4\" class=\"data row6 col4\" >100</td>\n",
       "      <td id=\"T_2247c_row6_col5\" class=\"data row6 col5\" >config</td>\n",
       "      <td id=\"T_2247c_row6_col6\" class=\"data row6 col6\" ></td>\n",
       "      <td id=\"T_2247c_row6_col7\" class=\"data row6 col7\" >16:BF:89:FA:01:6C</td>\n",
       "      <td id=\"T_2247c_row6_col8\" class=\"data row6 col8\" >enp9s0</td>\n",
       "      <td id=\"T_2247c_row6_col9\" class=\"data row6 col9\" >enp9s0</td>\n",
       "      <td id=\"T_2247c_row6_col10\" class=\"data row6 col10\" >fe80::14bf:89ff:fefa:16c</td>\n",
       "      <td id=\"T_2247c_row6_col11\" class=\"data row6 col11\" >4</td>\n",
       "      <td id=\"T_2247c_row6_col12\" class=\"data row6 col12\" >HundredGigE0/0/0/7</td>\n",
       "    </tr>\n",
       "    <tr>\n",
       "      <td id=\"T_2247c_row7_col0\" class=\"data row7 col0\" >switch2-net3_nic-p1</td>\n",
       "      <td id=\"T_2247c_row7_col1\" class=\"data row7 col1\" >p1</td>\n",
       "      <td id=\"T_2247c_row7_col2\" class=\"data row7 col2\" >switch2</td>\n",
       "      <td id=\"T_2247c_row7_col3\" class=\"data row7 col3\" >server2-switch2</td>\n",
       "      <td id=\"T_2247c_row7_col4\" class=\"data row7 col4\" >100</td>\n",
       "      <td id=\"T_2247c_row7_col5\" class=\"data row7 col5\" >config</td>\n",
       "      <td id=\"T_2247c_row7_col6\" class=\"data row7 col6\" ></td>\n",
       "      <td id=\"T_2247c_row7_col7\" class=\"data row7 col7\" >16:38:40:86:F5:9C</td>\n",
       "      <td id=\"T_2247c_row7_col8\" class=\"data row7 col8\" >enp7s0</td>\n",
       "      <td id=\"T_2247c_row7_col9\" class=\"data row7 col9\" >enp7s0</td>\n",
       "      <td id=\"T_2247c_row7_col10\" class=\"data row7 col10\" >fe80::1438:40ff:fe86:f59c</td>\n",
       "      <td id=\"T_2247c_row7_col11\" class=\"data row7 col11\" >4</td>\n",
       "      <td id=\"T_2247c_row7_col12\" class=\"data row7 col12\" >HundredGigE0/0/0/7</td>\n",
       "    </tr>\n",
       "    <tr>\n",
       "      <td id=\"T_2247c_row8_col0\" class=\"data row8 col0\" >switch2-net5_nic-p1</td>\n",
       "      <td id=\"T_2247c_row8_col1\" class=\"data row8 col1\" >p1</td>\n",
       "      <td id=\"T_2247c_row8_col2\" class=\"data row8 col2\" >switch2</td>\n",
       "      <td id=\"T_2247c_row8_col3\" class=\"data row8 col3\" >switch2-switch3</td>\n",
       "      <td id=\"T_2247c_row8_col4\" class=\"data row8 col4\" >100</td>\n",
       "      <td id=\"T_2247c_row8_col5\" class=\"data row8 col5\" >config</td>\n",
       "      <td id=\"T_2247c_row8_col6\" class=\"data row8 col6\" ></td>\n",
       "      <td id=\"T_2247c_row8_col7\" class=\"data row8 col7\" >16:78:EC:B7:76:89</td>\n",
       "      <td id=\"T_2247c_row8_col8\" class=\"data row8 col8\" >enp8s0</td>\n",
       "      <td id=\"T_2247c_row8_col9\" class=\"data row8 col9\" >enp8s0</td>\n",
       "      <td id=\"T_2247c_row8_col10\" class=\"data row8 col10\" >fe80::1478:ecff:feb7:7689</td>\n",
       "      <td id=\"T_2247c_row8_col11\" class=\"data row8 col11\" >4</td>\n",
       "      <td id=\"T_2247c_row8_col12\" class=\"data row8 col12\" >HundredGigE0/0/0/7</td>\n",
       "    </tr>\n",
       "    <tr>\n",
       "      <td id=\"T_2247c_row9_col0\" class=\"data row9 col0\" >switch3-net6_nic-p1</td>\n",
       "      <td id=\"T_2247c_row9_col1\" class=\"data row9 col1\" >p1</td>\n",
       "      <td id=\"T_2247c_row9_col2\" class=\"data row9 col2\" >switch3</td>\n",
       "      <td id=\"T_2247c_row9_col3\" class=\"data row9 col3\" >server3-switch3</td>\n",
       "      <td id=\"T_2247c_row9_col4\" class=\"data row9 col4\" >100</td>\n",
       "      <td id=\"T_2247c_row9_col5\" class=\"data row9 col5\" >config</td>\n",
       "      <td id=\"T_2247c_row9_col6\" class=\"data row9 col6\" ></td>\n",
       "      <td id=\"T_2247c_row9_col7\" class=\"data row9 col7\" >0A:E9:B8:16:7A:89</td>\n",
       "      <td id=\"T_2247c_row9_col8\" class=\"data row9 col8\" >enp9s0</td>\n",
       "      <td id=\"T_2247c_row9_col9\" class=\"data row9 col9\" >enp9s0</td>\n",
       "      <td id=\"T_2247c_row9_col10\" class=\"data row9 col10\" >fe80::8e9:b8ff:fe16:7a89</td>\n",
       "      <td id=\"T_2247c_row9_col11\" class=\"data row9 col11\" >4</td>\n",
       "      <td id=\"T_2247c_row9_col12\" class=\"data row9 col12\" >HundredGigE0/0/0/13</td>\n",
       "    </tr>\n",
       "    <tr>\n",
       "      <td id=\"T_2247c_row10_col0\" class=\"data row10 col0\" >switch3-net4_nic-p1</td>\n",
       "      <td id=\"T_2247c_row10_col1\" class=\"data row10 col1\" >p1</td>\n",
       "      <td id=\"T_2247c_row10_col2\" class=\"data row10 col2\" >switch3</td>\n",
       "      <td id=\"T_2247c_row10_col3\" class=\"data row10 col3\" >switch1-switch3</td>\n",
       "      <td id=\"T_2247c_row10_col4\" class=\"data row10 col4\" >100</td>\n",
       "      <td id=\"T_2247c_row10_col5\" class=\"data row10 col5\" >config</td>\n",
       "      <td id=\"T_2247c_row10_col6\" class=\"data row10 col6\" ></td>\n",
       "      <td id=\"T_2247c_row10_col7\" class=\"data row10 col7\" >06:A2:F4:03:F7:02</td>\n",
       "      <td id=\"T_2247c_row10_col8\" class=\"data row10 col8\" >enp7s0</td>\n",
       "      <td id=\"T_2247c_row10_col9\" class=\"data row10 col9\" >enp7s0</td>\n",
       "      <td id=\"T_2247c_row10_col10\" class=\"data row10 col10\" >fe80::4a2:f4ff:fe03:f702</td>\n",
       "      <td id=\"T_2247c_row10_col11\" class=\"data row10 col11\" >4</td>\n",
       "      <td id=\"T_2247c_row10_col12\" class=\"data row10 col12\" >HundredGigE0/0/0/13</td>\n",
       "    </tr>\n",
       "    <tr>\n",
       "      <td id=\"T_2247c_row11_col0\" class=\"data row11 col0\" >switch3-net5_nic-p1</td>\n",
       "      <td id=\"T_2247c_row11_col1\" class=\"data row11 col1\" >p1</td>\n",
       "      <td id=\"T_2247c_row11_col2\" class=\"data row11 col2\" >switch3</td>\n",
       "      <td id=\"T_2247c_row11_col3\" class=\"data row11 col3\" >switch2-switch3</td>\n",
       "      <td id=\"T_2247c_row11_col4\" class=\"data row11 col4\" >100</td>\n",
       "      <td id=\"T_2247c_row11_col5\" class=\"data row11 col5\" >config</td>\n",
       "      <td id=\"T_2247c_row11_col6\" class=\"data row11 col6\" ></td>\n",
       "      <td id=\"T_2247c_row11_col7\" class=\"data row11 col7\" >0A:17:F3:28:D7:E7</td>\n",
       "      <td id=\"T_2247c_row11_col8\" class=\"data row11 col8\" >enp8s0</td>\n",
       "      <td id=\"T_2247c_row11_col9\" class=\"data row11 col9\" >enp8s0</td>\n",
       "      <td id=\"T_2247c_row11_col10\" class=\"data row11 col10\" >fe80::817:f3ff:fe28:d7e7</td>\n",
       "      <td id=\"T_2247c_row11_col11\" class=\"data row11 col11\" >4</td>\n",
       "      <td id=\"T_2247c_row11_col12\" class=\"data row11 col12\" >HundredGigE0/0/0/13</td>\n",
       "    </tr>\n",
       "  </tbody>\n",
       "</table>\n"
      ],
      "text/plain": [
       "<pandas.io.formats.style.Styler at 0x7d154103f8d0>"
      ]
     },
     "metadata": {},
     "output_type": "display_data"
    },
    {
     "name": "stdout",
     "output_type": "stream",
     "text": [
      "\n",
      "Time to print interfaces 362 seconds\n"
     ]
    }
   ],
   "source": [
    "#Submit Slice Request\n",
    "slice.submit();"
   ]
  },
  {
   "cell_type": "markdown",
   "id": "05bfa5ff-9374-4823-9ea0-09f045a91684",
   "metadata": {},
   "source": [
    "# Step 4: Installing the required packages\n",
    "In this step, we will install the required packages to run the lab. Specifically, we will install the BMv2 software switch and its control plane, the P4 compiler (p4c), and net-tools."
   ]
  },
  {
   "cell_type": "code",
   "execution_count": null,
   "id": "9b60298c-30c4-43a8-82e7-85a7e06396d2",
   "metadata": {},
   "outputs": [],
   "source": [
    "slice = fablib.get_slice(name='lab1')"
   ]
  },
  {
   "cell_type": "markdown",
   "id": "aae6ba53",
   "metadata": {},
   "source": [
    "### Creating a Map to store all the important topology information"
   ]
  },
  {
   "cell_type": "code",
   "execution_count": null,
   "id": "7fb912b8-a91b-44bc-89ee-36f07116800d",
   "metadata": {},
   "outputs": [],
   "source": [
    "topology = {}\n",
    "topology['devices'] = {}"
   ]
  },
  {
   "cell_type": "code",
   "execution_count": null,
   "id": "e65a1e2c-2b01-4c0f-9c83-51309ba4c64f",
   "metadata": {},
   "outputs": [],
   "source": [
    "server_names = ['server1', 'server2', 'server3']\n",
    "switch_names = ['switch1', 'switch2', 'switch3']\n",
    "\n",
    "for server_name in server_names:\n",
    "    server = slice.get_node(name=server_name)\n",
    "    topology['devices'][server_name] = {'node': server}\n",
    "    topology['devices'][server_name]['type'] = 'server'\n",
    "\n",
    "for switch_name in switch_names:\n",
    "    switch = slice.get_node(name=switch_name)\n",
    "    topology['devices'][switch_name] = {'node': switch}\n",
    "    topology['devices'][switch_name]['type'] = 'switch'"
   ]
  },
  {
   "cell_type": "code",
   "execution_count": null,
   "id": "580f4f0b-de24-4aa8-8da9-f540a55ef997",
   "metadata": {},
   "outputs": [
    {
     "name": "stdout",
     "output_type": "stream",
     "text": [
      "{'devices': {'server1': {'node': <fabrictestbed_extensions.fablib.node.Node object at 0x7d156063b190>,\n",
      "                         'type': 'server'},\n",
      "             'server2': {'node': <fabrictestbed_extensions.fablib.node.Node object at 0x7d15419e7b50>,\n",
      "                         'type': 'server'},\n",
      "             'server3': {'node': <fabrictestbed_extensions.fablib.node.Node object at 0x7d15407d74d0>,\n",
      "                         'type': 'server'},\n",
      "             'switch1': {'node': <fabrictestbed_extensions.fablib.node.Node object at 0x7d156065a690>,\n",
      "                         'type': 'switch'},\n",
      "             'switch2': {'node': <fabrictestbed_extensions.fablib.node.Node object at 0x7d1560638510>,\n",
      "                         'type': 'switch'},\n",
      "             'switch3': {'node': <fabrictestbed_extensions.fablib.node.Node object at 0x7d157006a290>,\n",
      "                         'type': 'switch'}}}\n"
     ]
    }
   ],
   "source": [
    "import pprint\n",
    "from pprint import pprint as pp\n",
    "pp(topology)"
   ]
  },
  {
   "cell_type": "code",
   "execution_count": null,
   "id": "7668f5e2-ab45-4b22-9213-fcb96fae61da",
   "metadata": {},
   "outputs": [],
   "source": [
    "devices = topology['devices']"
   ]
  },
  {
   "cell_type": "markdown",
   "id": "e158f852-d764-4728-af01-7de9f669dd78",
   "metadata": {},
   "source": [
    "## Step 4.1 Installing BMv2\n",
    "The BMv2 software switch will be installed on the switch nodes. We will upload the script [scripts/install_bmv2.sh](./scripts/install_bmv2.sh) to the switches and execute it"
   ]
  },
  {
   "cell_type": "code",
   "execution_count": null,
   "id": "00430e7b-472e-4d5b-a81d-03dfaaec14ae",
   "metadata": {},
   "outputs": [],
   "source": [
    "switch1 = slice.get_node(name=\"switch1\")     \n",
    "switch1.upload_file('scripts/install_bmv2.sh', 'install_bmv2.sh')\n",
    "stdout, stderr = switch1.execute(f'chmod +x install_bmv2.sh &&  ./install_bmv2.sh',quiet=True)"
   ]
  },
  {
   "cell_type": "code",
   "execution_count": null,
   "id": "eb8f4fd7-c61d-465c-872e-f49601299110",
   "metadata": {},
   "outputs": [],
   "source": [
    "switch2 = slice.get_node(name=\"switch2\")     \n",
    "switch2.upload_file('scripts/install_bmv2.sh', 'install_bmv2.sh')\n",
    "stdout, stderr = switch2.execute(f'chmod +x install_bmv2.sh &&  ./install_bmv2.sh',quiet=True)"
   ]
  },
  {
   "cell_type": "code",
   "execution_count": null,
   "id": "0ec65736-55d5-4a1a-9f8c-64731bb0e6db",
   "metadata": {},
   "outputs": [],
   "source": [
    "switch3 = slice.get_node(name=\"switch3\")     \n",
    "switch3.upload_file('scripts/install_bmv2.sh', 'install_bmv2.sh')\n",
    "stdout, stderr = switch3.execute(f'chmod +x install_bmv2.sh &&  ./install_bmv2.sh',quiet=True)"
   ]
  },
  {
   "cell_type": "markdown",
   "id": "13cf4d2f-0ba4-4629-b221-87b19d4c0324",
   "metadata": {
    "tags": []
   },
   "source": [
    "## Step 4.2 Installing net-tools\n",
    "The net-tools package will be installed on the switches, and server nodes. This package will allow us to use the *ifconfig* and the *arp* commands "
   ]
  },
  {
   "cell_type": "code",
   "execution_count": null,
   "id": "caa0c8d8-5d49-44cb-8d0a-1feb391fa322",
   "metadata": {},
   "outputs": [],
   "source": [
    "server1 = slice.get_node(name=\"server1\")\n",
    "server2 = slice.get_node(name=\"server2\")\n",
    "server3 = slice.get_node(name=\"server3\")\n",
    "stdout, stderr = server1.execute(f'sudo apt-get install -y net-tools', quiet=True)\n",
    "stdout, stderr = server2.execute(f'sudo apt-get install -y net-tools', quiet=True)\n",
    "stdout, stderr = server3.execute(f'sudo apt-get install -y net-tools', quiet=True)\n",
    "stdout, stderr = switch1.execute(f'sudo apt-get install -y net-tools', quiet=True)\n",
    "stdout, stderr = switch2.execute(f'sudo apt-get install -y net-tools', quiet=True)\n",
    "stdout, stderr = switch3.execute(f'sudo apt-get install -y net-tools', quiet=True)"
   ]
  },
  {
   "cell_type": "markdown",
   "id": "dac55d61-249f-45d2-ada4-99247b2697e9",
   "metadata": {},
   "source": [
    "# Step 5: Assigning IP and MAC addresses\n",
    "In this step, we will assign IPv4 addresses to the interfaces of the servers and the switches. We will also hardcode the MAC addresses. "
   ]
  },
  {
   "cell_type": "markdown",
   "id": "4d0eb819-68ad-4dbb-a279-40c997c3537b",
   "metadata": {},
   "source": [
    "## Step 5.1: Get interfaces names\n",
    "In this step we will get the interface names so that we can assign IP addresses to them. Map the printed interface names to those seen in this figure:\n",
    "\n",
    "![Topology](./images/bmv2-p4-3switches.png)"
   ]
  },
  {
   "cell_type": "code",
   "execution_count": null,
   "id": "1999024a-39f5-402c-8017-86463aeafbd4",
   "metadata": {},
   "outputs": [
    {
     "name": "stdout",
     "output_type": "stream",
     "text": [
      "server1_iface: enp7s0\n",
      "switch1_iface1: enp8s0\n",
      "switch1_iface2: enp9s0\n",
      "switch1_iface3: enp7s0\n",
      "switch2_iface1: enp9s0\n",
      "switch2_iface2: enp7s0\n",
      "switch2_iface3: enp8s0\n",
      "switch3_iface1: enp7s0\n",
      "switch3_iface2: enp8s0\n",
      "switch3_iface3: enp9s0\n",
      "server2_iface: enp7s0\n",
      "server3_iface: enp7s0\n"
     ]
    }
   ],
   "source": [
    "node1_iface = server1.get_interface(network_name='server1-switch1') \n",
    "server1_iface_name = node1_iface.get_device_name()\n",
    "print(f'server1_iface: {server1_iface_name}')\n",
    "\n",
    "switch1_iface1 = switch1.get_interface(network_name='server1-switch1') \n",
    "switch1_iface1_name = switch1_iface1.get_device_name()\n",
    "print(f'switch1_iface1: {switch1_iface1_name}')\n",
    "\n",
    "switch1_iface2 = switch1.get_interface(network_name='switch1-switch2') \n",
    "switch1_iface2_name = switch1_iface2.get_device_name()\n",
    "print(f'switch1_iface2: {switch1_iface2_name}')\n",
    "\n",
    "switch1_iface3 = switch1.get_interface(network_name='switch1-switch3') \n",
    "switch1_iface3_name = switch1_iface3.get_device_name()\n",
    "print(f'switch1_iface3: {switch1_iface3_name}')\n",
    "\n",
    "switch2_iface1 = switch2.get_interface(network_name='switch1-switch2') \n",
    "switch2_iface1_name = switch2_iface1.get_device_name()\n",
    "print(f'switch2_iface1: {switch2_iface1_name}')\n",
    "\n",
    "switch2_iface2 = switch2.get_interface(network_name='server2-switch2') \n",
    "switch2_iface2_name = switch2_iface2.get_device_name()\n",
    "print(f'switch2_iface2: {switch2_iface2_name}')\n",
    "\n",
    "switch2_iface3 = switch2.get_interface(network_name='switch2-switch3') \n",
    "switch2_iface3_name = switch2_iface3.get_device_name()\n",
    "print(f'switch2_iface3: {switch2_iface3_name}')\n",
    "\n",
    "switch3_iface1 = switch3.get_interface(network_name='switch1-switch3') \n",
    "switch3_iface1_name = switch3_iface1.get_device_name()\n",
    "print(f'switch3_iface1: {switch3_iface1_name}')\n",
    "\n",
    "switch3_iface2 = switch3.get_interface(network_name='switch2-switch3') \n",
    "switch3_iface2_name = switch3_iface2.get_device_name()\n",
    "print(f'switch3_iface2: {switch3_iface2_name}')\n",
    "\n",
    "switch3_iface3 = switch3.get_interface(network_name='server3-switch3') \n",
    "switch3_iface3_name = switch3_iface3.get_device_name()\n",
    "print(f'switch3_iface3: {switch3_iface3_name}')\n",
    "\n",
    "node2_iface = server2.get_interface(network_name='server2-switch2') \n",
    "server2_iface_name = node2_iface.get_device_name()\n",
    "print(f'server2_iface: {server2_iface_name}')\n",
    "\n",
    "node3_iface = server3.get_interface(network_name='server3-switch3') \n",
    "server3_iface_name = node3_iface.get_device_name()\n",
    "print(f'server3_iface: {server3_iface_name}')"
   ]
  },
  {
   "cell_type": "markdown",
   "id": "468540b5-8192-4af3-a992-18ae011bb5d3",
   "metadata": {
    "tags": []
   },
   "source": [
    "## Step 5.2: Turning all interfaces up\n",
    "In this step, we will use the ip link command to turn the interfaces up"
   ]
  },
  {
   "cell_type": "code",
   "execution_count": null,
   "id": "d8eea380-d6bf-48e0-aec2-015c6e4bf861",
   "metadata": {},
   "outputs": [
    {
     "name": "stdout",
     "output_type": "stream",
     "text": [
      "{'devices': {'server1': {'interfaces': {'server1-switch1': {'name': 'enp7s0'}},\n",
      "                         'node': <fabrictestbed_extensions.fablib.node.Node object at 0x7d156063b190>,\n",
      "                         'type': 'server'},\n",
      "             'server2': {'interfaces': {'server2-switch2': {'name': 'enp7s0'}},\n",
      "                         'node': <fabrictestbed_extensions.fablib.node.Node object at 0x7d15419e7b50>,\n",
      "                         'type': 'server'},\n",
      "             'server3': {'interfaces': {'server3-switch3': {'name': 'enp7s0'}},\n",
      "                         'node': <fabrictestbed_extensions.fablib.node.Node object at 0x7d15407d74d0>,\n",
      "                         'type': 'server'},\n",
      "             'switch1': {'interfaces': {'server1-switch1': {'name': 'enp8s0'},\n",
      "                                        'switch1-switch2': {'name': 'enp9s0'},\n",
      "                                        'switch1-switch3': {'name': 'enp7s0'}},\n",
      "                         'node': <fabrictestbed_extensions.fablib.node.Node object at 0x7d156065a690>,\n",
      "                         'type': 'switch'},\n",
      "             'switch2': {'interfaces': {'server2-switch2': {'name': 'enp7s0'},\n",
      "                                        'switch1-switch2': {'name': 'enp9s0'},\n",
      "                                        'switch2-switch3': {'name': 'enp8s0'}},\n",
      "                         'node': <fabrictestbed_extensions.fablib.node.Node object at 0x7d1560638510>,\n",
      "                         'type': 'switch'},\n",
      "             'switch3': {'interfaces': {'server3-switch3': {'name': 'enp9s0'},\n",
      "                                        'switch1-switch3': {'name': 'enp7s0'},\n",
      "                                        'switch2-switch3': {'name': 'enp8s0'}},\n",
      "                         'node': <fabrictestbed_extensions.fablib.node.Node object at 0x7d157006a290>,\n",
      "                         'type': 'switch'}}}\n"
     ]
    }
   ],
   "source": [
    "for device in devices:\n",
    "    node = devices[device]['node']\n",
    "    ifaces = node.get_interfaces()\n",
    "    topology['devices'][device]['interfaces'] = {}\n",
    "    for iface in ifaces:\n",
    "        network = iface.get_network()\n",
    "        topology['devices'][device]['interfaces'][network.get_name()] = {'name': iface.get_device_name()}\n",
    "pp(topology)"
   ]
  },
  {
   "cell_type": "code",
   "execution_count": null,
   "id": "f48d34c4-a812-40b5-abaf-29b6cbe69755",
   "metadata": {
    "tags": []
   },
   "outputs": [],
   "source": [
    "stdout, stderr = server1.execute(f'sudo ip link set dev {server1_iface_name} up', quiet=True)\n",
    "stdout, stderr = server2.execute(f'sudo ip link set dev {server2_iface_name} up', quiet=True)\n",
    "stdout, stderr = server3.execute(f'sudo ip link set dev {server3_iface_name} up', quiet=True)\n",
    "\n",
    "stdout, stderr = switch1.execute(f'sudo ip link set dev {switch1_iface1_name} up', quiet=True)\n",
    "stdout, stderr = switch1.execute(f'sudo ip link set dev {switch1_iface2_name} up', quiet=True)\n",
    "stdout, stderr = switch1.execute(f'sudo ip link set dev {switch1_iface3_name} up', quiet=True)\n",
    "\n",
    "stdout, stderr = switch2.execute(f'sudo ip link set dev {switch2_iface1_name} up', quiet=True)\n",
    "stdout, stderr = switch2.execute(f'sudo ip link set dev {switch2_iface2_name} up', quiet=True)\n",
    "stdout, stderr = switch2.execute(f'sudo ip link set dev {switch2_iface3_name} up', quiet=True)\n",
    "\n",
    "stdout, stderr = switch3.execute(f'sudo ip link set dev {switch3_iface1_name} up', quiet=True)\n",
    "stdout, stderr = switch3.execute(f'sudo ip link set dev {switch3_iface2_name} up', quiet=True)\n",
    "stdout, stderr = switch3.execute(f'sudo ip link set dev {switch3_iface3_name} up', quiet=True)"
   ]
  },
  {
   "cell_type": "markdown",
   "id": "136da10f-bb1e-4666-9084-020354db0a2c",
   "metadata": {
    "tags": []
   },
   "source": [
    "## Step 5.3: Hardcode MAC addresses\n",
    "For simplicity, we will use the following MAC addresses for the interfaces:\n",
    "<ul>\n",
    "    <li> server1_iface_MAC = '00:00:00:00:00:01' (shown as 00:01 in the figure below) </li>\n",
    "    <li>switch1_iface1_MAC = '00:00:00:00:00:02' (shown as 00:02 in the figure below)</li>\n",
    "    <li>switch1_iface2_MAC = '00:00:00:00:00:03' (shown as 00:03 in the figure below)</li>\n",
    "    <li>switch2_iface1_MAC = '00:00:00:00:00:04' (shown as 00:04 in the figure below)</li>\n",
    "    <li>switch2_iface2_MAC = '00:00:00:00:00:05' (shown as 00:05 in the figure below)</li>\n",
    "    <li>server2_iface_MAC = '00:00:00:00:00:06' (shown as 00:06 in the figure below)</li>\n",
    "    <li>switch1_iface3_MAC = '00:00:00:00:00:07' (shown as 00:07 in the figure below)</li>\n",
    "    <li>switch2_iface3_MAC = '00:00:00:00:00:08' (shown as 00:08 in the figure below)</li>\n",
    "    <li>switch3_iface1_MAC = '00:00:00:00:00:09' (shown as 00:09 in the figure below)</li>\n",
    "    <li>switch3_iface2_MAC = '00:00:00:00:00:10' (shown as 00:10 in the figure below)</li>\n",
    "    <li>switch3_iface1_MAC = '00:00:00:00:00:11' (shown as 00:11 in the figure below)</li>\n",
    "    <li> server3_iface_MAC = '00:00:00:00:00:12' (shown as 00:12 in the figure below) </li>\n",
    "\n",
    "</ul>\n",
    "\n",
    "\n",
    "\n",
    "![Topology](./images/bmv2-p4-3switches.png)"
   ]
  },
  {
   "cell_type": "code",
   "execution_count": null,
   "id": "a410cde7-465b-4df3-80fa-819e1c16c439",
   "metadata": {
    "tags": []
   },
   "outputs": [],
   "source": [
    "server1_iface_MAC = '00:00:00:00:00:01'\n",
    "\n",
    "switch1_iface1_MAC = '00:00:00:00:00:02'\n",
    "switch1_iface2_MAC = '00:00:00:00:00:03'\n",
    "\n",
    "switch2_iface1_MAC = '00:00:00:00:00:04'\n",
    "switch2_iface2_MAC = '00:00:00:00:00:05'\n",
    "\n",
    "server2_iface_MAC = '00:00:00:00:00:06'\n",
    "\n",
    "switch1_iface3_MAC = '00:00:00:00:00:07'\n",
    "switch2_iface3_MAC = '00:00:00:00:00:08'\n",
    "\n",
    "switch3_iface1_MAC = '00:00:00:00:00:09'\n",
    "switch3_iface2_MAC = '00:00:00:00:00:10'\n",
    "\n",
    "switch3_iface3_MAC = '00:00:00:00:00:11'\n",
    "\n",
    "server3_iface_MAC = '00:00:00:00:00:12'\n"
   ]
  },
  {
   "cell_type": "markdown",
   "id": "1099ce50-10ba-4879-8fc8-79e7e3218fa6",
   "metadata": {},
   "source": [
    "## Step 5.4 Configuring the IP and MAC addresses on server1_iface and switch_iface1\n",
    "\n",
    "We will use\n",
    "- Network 192.168.1.0/24 between Server1 (192.168.1.10) and Switch1 (192.168.1.1)\n",
    "- Network 192.168.2.0/24 between Server2 (192.168.2.10) and Switch2 (192.168.2.1)\n",
    "- Network 192.168.3.0/24 between Server3 (192.168.3.10) and Switch3 (192.168.3.1)\n",
    "\n",
    "\n",
    "![Topology](./images/bmv2-p4-3switches.png)"
   ]
  },
  {
   "cell_type": "code",
   "execution_count": null,
   "id": "6e04681f-865b-440c-9f62-5fc987b3f0e9",
   "metadata": {
    "tags": []
   },
   "outputs": [
    {
     "name": "stdout",
     "output_type": "stream",
     "text": [
      "{'devices': {'server1': {'interfaces': {'server1-switch1': {'MAC': '00:00:00:00:00:01',\n",
      "                                                            'ip': '192.168.1.10/24',\n",
      "                                                            'name': 'enp7s0'}},\n",
      "                         'node': <fabrictestbed_extensions.fablib.node.Node object at 0x7d156063b190>,\n",
      "                         'type': 'server'},\n",
      "             'server2': {'interfaces': {'server2-switch2': {'name': 'enp7s0'}},\n",
      "                         'node': <fabrictestbed_extensions.fablib.node.Node object at 0x7d15419e7b50>,\n",
      "                         'type': 'server'},\n",
      "             'server3': {'interfaces': {'server3-switch3': {'name': 'enp7s0'}},\n",
      "                         'node': <fabrictestbed_extensions.fablib.node.Node object at 0x7d15407d74d0>,\n",
      "                         'type': 'server'},\n",
      "             'switch1': {'interfaces': {'server1-switch1': {'MAC': '00:00:00:00:00:02',\n",
      "                                                            'ip': '192.168.1.1/24',\n",
      "                                                            'name': 'enp8s0'},\n",
      "                                        'switch1-switch2': {'name': 'enp9s0'},\n",
      "                                        'switch1-switch3': {'name': 'enp7s0'}},\n",
      "                         'node': <fabrictestbed_extensions.fablib.node.Node object at 0x7d156065a690>,\n",
      "                         'type': 'switch'},\n",
      "             'switch2': {'interfaces': {'server2-switch2': {'name': 'enp7s0'},\n",
      "                                        'switch1-switch2': {'name': 'enp9s0'},\n",
      "                                        'switch2-switch3': {'name': 'enp8s0'}},\n",
      "                         'node': <fabrictestbed_extensions.fablib.node.Node object at 0x7d1560638510>,\n",
      "                         'type': 'switch'},\n",
      "             'switch3': {'interfaces': {'server3-switch3': {'name': 'enp9s0'},\n",
      "                                        'switch1-switch3': {'name': 'enp7s0'},\n",
      "                                        'switch2-switch3': {'name': 'enp8s0'}},\n",
      "                         'node': <fabrictestbed_extensions.fablib.node.Node object at 0x7d157006a290>,\n",
      "                         'type': 'switch'}}}\n"
     ]
    }
   ],
   "source": [
    "server1_switch_subnet = \"192.168.1.0/24\"\n",
    "server1_ip = '192.168.1.10/24'\n",
    "switch1_ip1 = '192.168.1.1/24'\n",
    "\n",
    "stdout, stderr = server1.execute(f'sudo ifconfig {server1_iface_name} {server1_ip}')\n",
    "topology['devices']['server1']['interfaces']['server1-switch1']['ip'] = server1_ip\n",
    "stdout, stderr = switch1.execute(f'sudo ifconfig {switch1_iface1_name} {switch1_ip1}')\n",
    "topology['devices']['switch1']['interfaces']['server1-switch1']['ip'] = switch1_ip1\n",
    "stdout, stderr = server1.execute(f'sudo ifconfig {server1_iface_name} hw ether {server1_iface_MAC}')\n",
    "topology['devices']['server1']['interfaces']['server1-switch1']['MAC'] = server1_iface_MAC\n",
    "stdout, stderr = switch1.execute(f'sudo ifconfig {switch1_iface1_name} hw ether {switch1_iface1_MAC}')\n",
    "topology['devices']['switch1']['interfaces']['server1-switch1']['MAC'] = switch1_iface1_MAC\n",
    "pp(topology)"
   ]
  },
  {
   "cell_type": "code",
   "execution_count": null,
   "id": "a4c97744-783d-4236-8c38-2963cac75dd4",
   "metadata": {},
   "outputs": [],
   "source": [
    "stdout, stderr = switch1.execute(f'sudo ifconfig {switch1_iface2_name} hw ether {switch1_iface2_MAC}')\n",
    "topology['devices']['switch1']['interfaces']['switch1-switch2']['MAC'] = switch1_iface2_MAC\n",
    "stdout, stderr = switch2.execute(f'sudo ifconfig {switch2_iface1_name} hw ether {switch2_iface1_MAC}')\n",
    "topology['devices']['switch2']['interfaces']['switch1-switch2']['MAC'] = switch2_iface1_MAC"
   ]
  },
  {
   "cell_type": "code",
   "execution_count": null,
   "id": "c8d94b18-58bd-4283-b1be-328c362a4c1d",
   "metadata": {},
   "outputs": [
    {
     "name": "stdout",
     "output_type": "stream",
     "text": [
      "{'devices': {'server1': {'interfaces': {'server1-switch1': {'MAC': '00:00:00:00:00:01',\n",
      "                                                            'ip': '192.168.1.10/24',\n",
      "                                                            'name': 'enp7s0'}},\n",
      "                         'node': <fabrictestbed_extensions.fablib.node.Node object at 0x7d156063b190>,\n",
      "                         'type': 'server'},\n",
      "             'server2': {'interfaces': {'server2-switch2': {'name': 'enp7s0'}},\n",
      "                         'node': <fabrictestbed_extensions.fablib.node.Node object at 0x7d15419e7b50>,\n",
      "                         'type': 'server'},\n",
      "             'server3': {'interfaces': {'server3-switch3': {'name': 'enp7s0'}},\n",
      "                         'node': <fabrictestbed_extensions.fablib.node.Node object at 0x7d15407d74d0>,\n",
      "                         'type': 'server'},\n",
      "             'switch1': {'interfaces': {'server1-switch1': {'MAC': '00:00:00:00:00:02',\n",
      "                                                            'ip': '192.168.1.1/24',\n",
      "                                                            'name': 'enp8s0'},\n",
      "                                        'switch1-switch2': {'MAC': '00:00:00:00:00:03',\n",
      "                                                            'name': 'enp9s0'},\n",
      "                                        'switch1-switch3': {'MAC': '00:00:00:00:00:07',\n",
      "                                                            'name': 'enp7s0'}},\n",
      "                         'node': <fabrictestbed_extensions.fablib.node.Node object at 0x7d156065a690>,\n",
      "                         'type': 'switch'},\n",
      "             'switch2': {'interfaces': {'server2-switch2': {'name': 'enp7s0'},\n",
      "                                        'switch1-switch2': {'MAC': '00:00:00:00:00:04',\n",
      "                                                            'name': 'enp9s0'},\n",
      "                                        'switch2-switch3': {'name': 'enp8s0'}},\n",
      "                         'node': <fabrictestbed_extensions.fablib.node.Node object at 0x7d1560638510>,\n",
      "                         'type': 'switch'},\n",
      "             'switch3': {'interfaces': {'server3-switch3': {'name': 'enp9s0'},\n",
      "                                        'switch1-switch3': {'MAC': '00:00:00:00:00:09',\n",
      "                                                            'name': 'enp7s0'},\n",
      "                                        'switch2-switch3': {'name': 'enp8s0'}},\n",
      "                         'node': <fabrictestbed_extensions.fablib.node.Node object at 0x7d157006a290>,\n",
      "                         'type': 'switch'}}}\n"
     ]
    }
   ],
   "source": [
    "stdout, stderr = switch1.execute(f'sudo ifconfig {switch1_iface3_name} hw ether {switch1_iface3_MAC}')\n",
    "topology['devices']['switch1']['interfaces']['switch1-switch3']['MAC'] = switch1_iface3_MAC\n",
    "stdout, stderr = switch3.execute(f'sudo ifconfig {switch3_iface1_name} hw ether {switch3_iface1_MAC}')\n",
    "topology['devices']['switch3']['interfaces']['switch1-switch3']['MAC'] = switch3_iface1_MAC\n",
    "pp(topology)"
   ]
  },
  {
   "cell_type": "code",
   "execution_count": null,
   "id": "e41e611d-7b92-4ef5-8525-a9ceaf1b0eb0",
   "metadata": {
    "tags": []
   },
   "outputs": [],
   "source": [
    "server2_switch_subnet = \"192.168.2.0/24\"\n",
    "server2_ip = '192.168.2.10/24'\n",
    "switch2_ip2 = '192.168.2.1/24'\n",
    "\n",
    "stdout, stderr = server2.execute(f'sudo ifconfig {server2_iface_name} {server2_ip}')\n",
    "topology['devices']['server2']['interfaces']['server2-switch2']['ip'] = server2_ip\n",
    "stdout, stderr = switch2.execute(f'sudo ifconfig {switch2_iface2_name} {switch2_ip2}')\n",
    "topology['devices']['switch2']['interfaces']['server2-switch2']['ip'] = switch2_ip2\n",
    "stdout, stderr = server2.execute(f'sudo ifconfig {server2_iface_name} hw ether {server2_iface_MAC}')\n",
    "topology['devices']['server2']['interfaces']['server2-switch2']['MAC'] = server2_iface_MAC\n",
    "stdout, stderr = switch2.execute(f'sudo ifconfig {switch2_iface2_name} hw ether {switch2_iface2_MAC}')\n",
    "topology['devices']['switch2']['interfaces']['server2-switch2']['MAC'] = switch2_iface2_MAC"
   ]
  },
  {
   "cell_type": "code",
   "execution_count": null,
   "id": "101a29a7-aec4-4d55-a18f-c64bc6b2abb3",
   "metadata": {},
   "outputs": [
    {
     "name": "stdout",
     "output_type": "stream",
     "text": [
      "{'devices': {'server1': {'interfaces': {'server1-switch1': {'MAC': '00:00:00:00:00:01',\n",
      "                                                            'ip': '192.168.1.10/24',\n",
      "                                                            'name': 'enp7s0'}},\n",
      "                         'node': <fabrictestbed_extensions.fablib.node.Node object at 0x7d156063b190>,\n",
      "                         'type': 'server'},\n",
      "             'server2': {'interfaces': {'server2-switch2': {'MAC': '00:00:00:00:00:06',\n",
      "                                                            'ip': '192.168.2.10/24',\n",
      "                                                            'name': 'enp7s0'}},\n",
      "                         'node': <fabrictestbed_extensions.fablib.node.Node object at 0x7d15419e7b50>,\n",
      "                         'type': 'server'},\n",
      "             'server3': {'interfaces': {'server3-switch3': {'name': 'enp7s0'}},\n",
      "                         'node': <fabrictestbed_extensions.fablib.node.Node object at 0x7d15407d74d0>,\n",
      "                         'type': 'server'},\n",
      "             'switch1': {'interfaces': {'server1-switch1': {'MAC': '00:00:00:00:00:02',\n",
      "                                                            'ip': '192.168.1.1/24',\n",
      "                                                            'name': 'enp8s0'},\n",
      "                                        'switch1-switch2': {'MAC': '00:00:00:00:00:03',\n",
      "                                                            'name': 'enp9s0'},\n",
      "                                        'switch1-switch3': {'MAC': '00:00:00:00:00:07',\n",
      "                                                            'name': 'enp7s0'}},\n",
      "                         'node': <fabrictestbed_extensions.fablib.node.Node object at 0x7d156065a690>,\n",
      "                         'type': 'switch'},\n",
      "             'switch2': {'interfaces': {'server2-switch2': {'MAC': '00:00:00:00:00:05',\n",
      "                                                            'ip': '192.168.2.1/24',\n",
      "                                                            'name': 'enp7s0'},\n",
      "                                        'switch1-switch2': {'MAC': '00:00:00:00:00:04',\n",
      "                                                            'name': 'enp9s0'},\n",
      "                                        'switch2-switch3': {'MAC': '00:00:00:00:00:08',\n",
      "                                                            'name': 'enp8s0'}},\n",
      "                         'node': <fabrictestbed_extensions.fablib.node.Node object at 0x7d1560638510>,\n",
      "                         'type': 'switch'},\n",
      "             'switch3': {'interfaces': {'server3-switch3': {'name': 'enp9s0'},\n",
      "                                        'switch1-switch3': {'MAC': '00:00:00:00:00:09',\n",
      "                                                            'name': 'enp7s0'},\n",
      "                                        'switch2-switch3': {'MAC': '00:00:00:00:00:10',\n",
      "                                                            'name': 'enp8s0'}},\n",
      "                         'node': <fabrictestbed_extensions.fablib.node.Node object at 0x7d157006a290>,\n",
      "                         'type': 'switch'}}}\n"
     ]
    }
   ],
   "source": [
    "stdout, stderr = switch2.execute(f'sudo ifconfig {switch2_iface3_name} hw ether {switch2_iface3_MAC}')\n",
    "topology['devices']['switch2']['interfaces']['switch2-switch3']['MAC'] = switch2_iface3_MAC\n",
    "stdout, stderr = switch3.execute(f'sudo ifconfig {switch3_iface2_name} hw ether {switch3_iface2_MAC}')\n",
    "topology['devices']['switch3']['interfaces']['switch2-switch3']['MAC'] = switch3_iface2_MAC\n",
    "pp(topology)"
   ]
  },
  {
   "cell_type": "code",
   "execution_count": null,
   "id": "bb548cfa-d753-4acb-b69e-be77fcd45aa9",
   "metadata": {},
   "outputs": [
    {
     "name": "stdout",
     "output_type": "stream",
     "text": [
      "{'devices': {'server1': {'interfaces': {'server1-switch1': {'MAC': '00:00:00:00:00:01',\n",
      "                                                            'ip': '192.168.1.10/24',\n",
      "                                                            'name': 'enp7s0'}},\n",
      "                         'node': <fabrictestbed_extensions.fablib.node.Node object at 0x7d156063b190>,\n",
      "                         'type': 'server'},\n",
      "             'server2': {'interfaces': {'server2-switch2': {'MAC': '00:00:00:00:00:06',\n",
      "                                                            'ip': '192.168.2.10/24',\n",
      "                                                            'name': 'enp7s0'}},\n",
      "                         'node': <fabrictestbed_extensions.fablib.node.Node object at 0x7d15419e7b50>,\n",
      "                         'type': 'server'},\n",
      "             'server3': {'interfaces': {'server3-switch3': {'MAC': '00:00:00:00:00:12',\n",
      "                                                            'ip': '192.168.3.10/24',\n",
      "                                                            'name': 'enp7s0'}},\n",
      "                         'node': <fabrictestbed_extensions.fablib.node.Node object at 0x7d15407d74d0>,\n",
      "                         'type': 'server'},\n",
      "             'switch1': {'interfaces': {'server1-switch1': {'MAC': '00:00:00:00:00:02',\n",
      "                                                            'ip': '192.168.1.1/24',\n",
      "                                                            'name': 'enp8s0'},\n",
      "                                        'switch1-switch2': {'MAC': '00:00:00:00:00:03',\n",
      "                                                            'name': 'enp9s0'},\n",
      "                                        'switch1-switch3': {'MAC': '00:00:00:00:00:07',\n",
      "                                                            'name': 'enp7s0'}},\n",
      "                         'node': <fabrictestbed_extensions.fablib.node.Node object at 0x7d156065a690>,\n",
      "                         'type': 'switch'},\n",
      "             'switch2': {'interfaces': {'server2-switch2': {'MAC': '00:00:00:00:00:05',\n",
      "                                                            'ip': '192.168.2.1/24',\n",
      "                                                            'name': 'enp7s0'},\n",
      "                                        'switch1-switch2': {'MAC': '00:00:00:00:00:04',\n",
      "                                                            'name': 'enp9s0'},\n",
      "                                        'switch2-switch3': {'MAC': '00:00:00:00:00:08',\n",
      "                                                            'name': 'enp8s0'}},\n",
      "                         'node': <fabrictestbed_extensions.fablib.node.Node object at 0x7d1560638510>,\n",
      "                         'type': 'switch'},\n",
      "             'switch3': {'interfaces': {'server3-switch3': {'MAC': '00:00:00:00:00:11',\n",
      "                                                            'ip': '192.168.3.1/24',\n",
      "                                                            'name': 'enp9s0'},\n",
      "                                        'switch1-switch3': {'MAC': '00:00:00:00:00:09',\n",
      "                                                            'name': 'enp7s0'},\n",
      "                                        'switch2-switch3': {'MAC': '00:00:00:00:00:10',\n",
      "                                                            'name': 'enp8s0'}},\n",
      "                         'node': <fabrictestbed_extensions.fablib.node.Node object at 0x7d157006a290>,\n",
      "                         'type': 'switch'}}}\n"
     ]
    }
   ],
   "source": [
    "server3_switch_subnet = \"192.168.3.0/24\"\n",
    "server3_ip = '192.168.3.10/24'\n",
    "switch3_ip2 = '192.168.3.1/24'\n",
    "\n",
    "stdout, stderr = server3.execute(f'sudo ifconfig {server3_iface_name} {server3_ip}')\n",
    "topology['devices']['server3']['interfaces']['server3-switch3']['ip'] = server3_ip\n",
    "stdout, stderr = switch3.execute(f'sudo ifconfig {switch3_iface3_name} {switch3_ip2}')\n",
    "topology['devices']['switch3']['interfaces']['server3-switch3']['ip'] = switch3_ip2\n",
    "\n",
    "stdout, stderr = server3.execute(f'sudo ifconfig {server3_iface_name} hw ether {server3_iface_MAC}')\n",
    "topology['devices']['server3']['interfaces']['server3-switch3']['MAC'] = server3_iface_MAC\n",
    "stdout, stderr = switch3.execute(f'sudo ifconfig {switch3_iface3_name} hw ether {switch3_iface3_MAC}')\n",
    "topology['devices']['switch3']['interfaces']['server3-switch3']['MAC'] = switch3_iface3_MAC\n",
    "pp(topology)"
   ]
  },
  {
   "cell_type": "markdown",
   "id": "df3c54cf-457e-4f7c-9e9d-438808c68fe8",
   "metadata": {},
   "source": [
    "# Step 6: Configure forwarding and routing"
   ]
  },
  {
   "cell_type": "markdown",
   "id": "f8ecee56-5751-41e7-aa1b-f7641fa5ae11",
   "metadata": {},
   "source": [
    "## Step 6.1: Enable forwarding on the switch\n",
    "\n",
    "The command \"sudo sysctl -w net.ipv4.ip_forward=1\" is used to enable IP forwarding on a Linux system.\n",
    "\n",
    "IP forwarding is a feature that allows a system to act as a router by forwarding network packets from one network interface to another. By default, IP forwarding is usually disabled on Linux systems for security reasons. \n",
    "\n",
    "The command will be executed on the switch device."
   ]
  },
  {
   "cell_type": "code",
   "execution_count": null,
   "id": "d0a57f78-6e78-4487-81f6-dad296353407",
   "metadata": {},
   "outputs": [],
   "source": [
    "stdout, stderr = switch1.execute('sudo sysctl -w net.ipv4.ip_forward=1' , quiet=True)"
   ]
  },
  {
   "cell_type": "code",
   "execution_count": null,
   "id": "b451d9de-f152-43cd-af25-14dbdee8e69b",
   "metadata": {},
   "outputs": [],
   "source": [
    "stdout, stderr = switch2.execute('sudo sysctl -w net.ipv4.ip_forward=1' , quiet=True)"
   ]
  },
  {
   "cell_type": "code",
   "execution_count": null,
   "id": "22065cdd-5a91-4906-943e-de96c2ed8af6",
   "metadata": {},
   "outputs": [],
   "source": [
    "stdout, stderr = switch3.execute('sudo sysctl -w net.ipv4.ip_forward=1' , quiet=True)"
   ]
  },
  {
   "cell_type": "markdown",
   "id": "6c423ec8-d859-4716-b79a-d56671173413",
   "metadata": {},
   "source": [
    "## Step 6.2: Delete routing entries for the routes to force traffic to go through the BMv2 switch\n",
    "\n",
    "In this step, we are deleting the routes on the switch's routing table in Linux. By deleting the routes, the packets will go through the BMv2 switch instead of being forwarded by the kernel."
   ]
  },
  {
   "cell_type": "code",
   "execution_count": null,
   "id": "72de7117-060d-4490-940e-13561fa2e852",
   "metadata": {},
   "outputs": [],
   "source": [
    "stdout, stderr = switch1.execute(f'sudo ip route del {server1_switch_subnet}', quiet=True)\n",
    "stdout, stderr = switch1.execute(f'sudo ip route del {server2_switch_subnet}', quiet=True)\n",
    "stdout, stderr = switch1.execute(f'sudo ip route del {server3_switch_subnet}', quiet=True)"
   ]
  },
  {
   "cell_type": "code",
   "execution_count": null,
   "id": "4f41e138-71e1-433a-bd79-65e7567bbb49",
   "metadata": {},
   "outputs": [],
   "source": [
    "stdout, stderr = switch2.execute(f'sudo ip route del {server1_switch_subnet}', quiet=True)\n",
    "stdout, stderr = switch2.execute(f'sudo ip route del {server2_switch_subnet}', quiet=True)\n",
    "stdout, stderr = switch2.execute(f'sudo ip route del {server3_switch_subnet}', quiet=True)"
   ]
  },
  {
   "cell_type": "code",
   "execution_count": null,
   "id": "6e8bcdf6-d4b1-4984-87f5-6f7d8a854765",
   "metadata": {},
   "outputs": [],
   "source": [
    "stdout, stderr = switch3.execute(f'sudo ip route del {server1_switch_subnet}', quiet=True)\n",
    "stdout, stderr = switch3.execute(f'sudo ip route del {server2_switch_subnet}', quiet=True)\n",
    "stdout, stderr = switch3.execute(f'sudo ip route del {server3_switch_subnet}', quiet=True)"
   ]
  },
  {
   "cell_type": "markdown",
   "id": "b5628c85-1f68-4a4b-916f-b68c46a51967",
   "metadata": {},
   "source": [
    "## Step 6.3: Configure routing\n",
    "\n",
    "In this step, we will configure static routes on server1 and server2. \n",
    "<ul>\n",
    "    <li> For server1, we will add a route to reach the network 192.168.2.0/24 via 192.168.1.1 and 192.168.3.0/24 via 192.168.1.1</li>\n",
    "    <li> For server2, we will add a route to reach the network 192.168.1.0/24 via 192.168.2.1 and 192.168.3.0/24 via 192.168.2.1</li>\n",
    "    <li> For server3, we will add a route to reach the network 192.168.1.0/24 via 192.168.3.1 and 192.168.2.0/24 via 192.168.3.1</li>\n",
    "\n",
    "</ul>\n"
   ]
  },
  {
   "cell_type": "code",
   "execution_count": null,
   "id": "e3459ed6-eb9c-4246-9981-12203b2929fd",
   "metadata": {},
   "outputs": [],
   "source": [
    "gw1 = switch1_ip1.split('/')[0] # gw1 -> 192.168.1.1 \n",
    "gw2 = switch2_ip2.split('/')[0] # gw2 -> 192.168.2.1\n",
    "gw3 = switch3_ip2.split('/')[0] # gw3 -> 192.168.3.1\n",
    "\n",
    "stdout, stderr = server1.execute(f'sudo ip route add {server2_switch_subnet} via {gw1}')\n",
    "stdout, stderr = server1.execute(f'sudo ip route add {server3_switch_subnet} via {gw1}')\n",
    "\n",
    "\n",
    "stdout, stderr = server2.execute(f'sudo ip route add {server1_switch_subnet} via {gw2}')\n",
    "stdout, stderr = server2.execute(f'sudo ip route add {server3_switch_subnet} via {gw2}')\n",
    "\n",
    "stdout, stderr = server3.execute(f'sudo ip route add {server1_switch_subnet} via {gw3}')\n",
    "stdout, stderr = server3.execute(f'sudo ip route add {server2_switch_subnet} via {gw3}')\n"
   ]
  },
  {
   "cell_type": "markdown",
   "id": "d31983ac-4fd0-4f17-986b-cc347e772d18",
   "metadata": {
    "tags": []
   },
   "source": [
    "## Step 6.4: Configure ARP\n",
    "\n",
    "In this step, we will configure static ARP entries on server1, server2 and server3. The reason we are doing this is because the switch does not process ARP packets unless programmed to. To make sure that ARP packets are not sent towards the switch, we will hardcode the MACs on the servers.\n",
    "\n",
    "For each server, we will add an ARP entry to its switch's neighboring interface."
   ]
  },
  {
   "cell_type": "code",
   "execution_count": null,
   "id": "0cdb7aae-ee53-4e5a-9bbc-4a76f3fde954",
   "metadata": {},
   "outputs": [
    {
     "name": "stdout",
     "output_type": "stream",
     "text": [
      "sudo arp -s 192.168.1.1 00:00:00:00:00:02\n",
      "sudo arp -s 192.168.2.1 00:00:00:00:00:05\n",
      "sudo arp -s 192.168.3.1 00:00:00:00:00:11\n"
     ]
    }
   ],
   "source": [
    "print(f\"sudo arp -s {gw1} {switch1_iface1_MAC}\")\n",
    "stdout, stderr = server1.execute(f'sudo arp -s {gw1} {switch1_iface1_MAC}')\n",
    "\n",
    "print(f\"sudo arp -s {gw2} {switch2_iface2_MAC}\")\n",
    "stdout, stderr = server2.execute(f'sudo arp -s {gw2} {switch2_iface2_MAC}')\n",
    "\n",
    "print(f\"sudo arp -s {gw3} {switch3_iface3_MAC}\")\n",
    "stdout, stderr = server3.execute(f'sudo arp -s {gw3} {switch3_iface3_MAC}')"
   ]
  },
  {
   "cell_type": "markdown",
   "id": "b6a7aa6a-a33e-46e1-af89-34960ed73ad4",
   "metadata": {},
   "source": [
    "# Step 7: Compiling and starting a simple P4 routing program\n",
    "\n",
    "In this step, we will compile the P4 program and start the switch using the *p4c* compiler. To view and edit the P4 program, [Click Here](labs_files/lab1/main.p4)\n",
    "\n",
    "The P4 program [main.p4](labs_files/lab1/main.p4) is located under lab_files/lab1/.\n",
    "\n",
    "We will stop any previous instance of the switch (if any is existing) by killing its process.\n",
    "\n",
    "Then, we will start the switch and allocate the interfaces to logical ports. \n",
    "\n",
    "![Topology](./images/bmv2-p4-3switches.png)"
   ]
  },
  {
   "cell_type": "code",
   "execution_count": null,
   "id": "c5dd726d-bf55-48d6-b68a-dfa211f06570",
   "metadata": {},
   "outputs": [
    {
     "name": "stdout",
     "output_type": "stream",
     "text": [
      "{'devices': {'server1': {'interfaces': {'server1-switch1': {'MAC': '00:00:00:00:00:01',\n",
      "                                                            'ip': '192.168.1.10/24',\n",
      "                                                            'name': 'enp7s0'}},\n",
      "                         'node': <fabrictestbed_extensions.fablib.node.Node object at 0x7d156063b190>,\n",
      "                         'type': 'server'},\n",
      "             'server2': {'interfaces': {'server2-switch2': {'MAC': '00:00:00:00:00:06',\n",
      "                                                            'ip': '192.168.2.10/24',\n",
      "                                                            'name': 'enp7s0'}},\n",
      "                         'node': <fabrictestbed_extensions.fablib.node.Node object at 0x7d15419e7b50>,\n",
      "                         'type': 'server'},\n",
      "             'server3': {'interfaces': {'server3-switch3': {'MAC': '00:00:00:00:00:12',\n",
      "                                                            'ip': '192.168.3.10/24',\n",
      "                                                            'name': 'enp7s0'}},\n",
      "                         'node': <fabrictestbed_extensions.fablib.node.Node object at 0x7d15407d74d0>,\n",
      "                         'type': 'server'},\n",
      "             'switch1': {'interfaces': {'server1-switch1': {'MAC': '00:00:00:00:00:02',\n",
      "                                                            'ip': '192.168.1.1/24',\n",
      "                                                            'name': 'enp8s0',\n",
      "                                                            'port': 0},\n",
      "                                        'switch1-switch2': {'MAC': '00:00:00:00:00:03',\n",
      "                                                            'name': 'enp9s0',\n",
      "                                                            'port': 1},\n",
      "                                        'switch1-switch3': {'MAC': '00:00:00:00:00:07',\n",
      "                                                            'name': 'enp7s0',\n",
      "                                                            'port': 2}},\n",
      "                         'node': <fabrictestbed_extensions.fablib.node.Node object at 0x7d156065a690>,\n",
      "                         'type': 'switch'},\n",
      "             'switch2': {'interfaces': {'server2-switch2': {'MAC': '00:00:00:00:00:05',\n",
      "                                                            'ip': '192.168.2.1/24',\n",
      "                                                            'name': 'enp7s0',\n",
      "                                                            'port': 1},\n",
      "                                        'switch1-switch2': {'MAC': '00:00:00:00:00:04',\n",
      "                                                            'name': 'enp9s0',\n",
      "                                                            'port': 0},\n",
      "                                        'switch2-switch3': {'MAC': '00:00:00:00:00:08',\n",
      "                                                            'name': 'enp8s0',\n",
      "                                                            'port': 2}},\n",
      "                         'node': <fabrictestbed_extensions.fablib.node.Node object at 0x7d1560638510>,\n",
      "                         'type': 'switch'},\n",
      "             'switch3': {'interfaces': {'server3-switch3': {'MAC': '00:00:00:00:00:11',\n",
      "                                                            'ip': '192.168.3.1/24',\n",
      "                                                            'name': 'enp9s0',\n",
      "                                                            'port': 2},\n",
      "                                        'switch1-switch3': {'MAC': '00:00:00:00:00:09',\n",
      "                                                            'name': 'enp7s0',\n",
      "                                                            'port': 0},\n",
      "                                        'switch2-switch3': {'MAC': '00:00:00:00:00:10',\n",
      "                                                            'name': 'enp8s0',\n",
      "                                                            'port': 1}},\n",
      "                         'node': <fabrictestbed_extensions.fablib.node.Node object at 0x7d157006a290>,\n",
      "                         'type': 'switch'}}}\n"
     ]
    }
   ],
   "source": [
    "sw1_ifaces = devices['switch1']['interfaces']\n",
    "\n",
    "for iface in sw1_ifaces:\n",
    "    if sw1_ifaces[iface]['name'] == switch1_iface1_name:\n",
    "        topology['devices']['switch1']['interfaces'][iface]['port'] = 0\n",
    "    if sw1_ifaces[iface]['name'] == switch1_iface2_name:\n",
    "        topology['devices']['switch1']['interfaces'][iface]['port'] = 1\n",
    "    if sw1_ifaces[iface]['name'] == switch1_iface3_name:\n",
    "        topology['devices']['switch1']['interfaces'][iface]['port'] = 2\n",
    "        \n",
    "sw2_ifaces = devices['switch2']['interfaces']\n",
    "\n",
    "for iface in sw2_ifaces:\n",
    "    if sw2_ifaces[iface]['name'] == switch2_iface1_name:\n",
    "        topology['devices']['switch2']['interfaces'][iface]['port'] = 0\n",
    "    if sw2_ifaces[iface]['name'] == switch2_iface2_name:\n",
    "        topology['devices']['switch2']['interfaces'][iface]['port'] = 1\n",
    "    if sw2_ifaces[iface]['name'] == switch2_iface3_name:\n",
    "        topology['devices']['switch2']['interfaces'][iface]['port'] = 2\n",
    "\n",
    "sw3_ifaces = devices['switch3']['interfaces']\n",
    "\n",
    "for iface in sw3_ifaces:\n",
    "    if sw3_ifaces[iface]['name'] == switch3_iface1_name:\n",
    "        topology['devices']['switch3']['interfaces'][iface]['port'] = 0\n",
    "    if sw3_ifaces[iface]['name'] == switch3_iface2_name:\n",
    "        topology['devices']['switch3']['interfaces'][iface]['port'] = 1\n",
    "    if sw3_ifaces[iface]['name'] == switch3_iface3_name:\n",
    "        topology['devices']['switch3']['interfaces'][iface]['port'] = 2\n",
    "\n",
    "pp(topology)"
   ]
  },
  {
   "cell_type": "code",
   "execution_count": null,
   "id": "5dc254dc-0e79-44a1-ba88-91c1107042f5",
   "metadata": {},
   "outputs": [
    {
     "name": "stdout",
     "output_type": "stream",
     "text": [
      "{'devices': {'server1': {'interfaces': {'server1-switch1': {'MAC': '00:00:00:00:00:01',\n",
      "                                                            'ip': '192.168.1.10/24',\n",
      "                                                            'name': 'enp7s0'}},\n",
      "                         'node': <fabrictestbed_extensions.fablib.node.Node object at 0x7d156063b190>,\n",
      "                         'type': 'server'},\n",
      "             'server2': {'interfaces': {'server2-switch2': {'MAC': '00:00:00:00:00:06',\n",
      "                                                            'ip': '192.168.2.10/24',\n",
      "                                                            'name': 'enp7s0'}},\n",
      "                         'node': <fabrictestbed_extensions.fablib.node.Node object at 0x7d15419e7b50>,\n",
      "                         'type': 'server'},\n",
      "             'server3': {'interfaces': {'server3-switch3': {'MAC': '00:00:00:00:00:12',\n",
      "                                                            'ip': '192.168.3.10/24',\n",
      "                                                            'name': 'enp7s0'}},\n",
      "                         'node': <fabrictestbed_extensions.fablib.node.Node object at 0x7d15407d74d0>,\n",
      "                         'type': 'server'},\n",
      "             'switch1': {'interfaces': {'server1-switch1': {'MAC': '00:00:00:00:00:02',\n",
      "                                                            'ip': '192.168.1.1/24',\n",
      "                                                            'name': 'enp8s0',\n",
      "                                                            'port': 0},\n",
      "                                        'switch1-switch2': {'MAC': '00:00:00:00:00:03',\n",
      "                                                            'name': 'enp9s0',\n",
      "                                                            'port': 1},\n",
      "                                        'switch1-switch3': {'MAC': '00:00:00:00:00:07',\n",
      "                                                            'name': 'enp7s0',\n",
      "                                                            'port': 2}},\n",
      "                         'node': <fabrictestbed_extensions.fablib.node.Node object at 0x7d156065a690>,\n",
      "                         'subnet': '192.168.1.0/24',\n",
      "                         'type': 'switch'},\n",
      "             'switch2': {'interfaces': {'server2-switch2': {'MAC': '00:00:00:00:00:05',\n",
      "                                                            'ip': '192.168.2.1/24',\n",
      "                                                            'name': 'enp7s0',\n",
      "                                                            'port': 1},\n",
      "                                        'switch1-switch2': {'MAC': '00:00:00:00:00:04',\n",
      "                                                            'name': 'enp9s0',\n",
      "                                                            'port': 0},\n",
      "                                        'switch2-switch3': {'MAC': '00:00:00:00:00:08',\n",
      "                                                            'name': 'enp8s0',\n",
      "                                                            'port': 2}},\n",
      "                         'node': <fabrictestbed_extensions.fablib.node.Node object at 0x7d1560638510>,\n",
      "                         'subnet': '192.168.2.0/24',\n",
      "                         'type': 'switch'},\n",
      "             'switch3': {'interfaces': {'server3-switch3': {'MAC': '00:00:00:00:00:11',\n",
      "                                                            'ip': '192.168.3.1/24',\n",
      "                                                            'name': 'enp9s0',\n",
      "                                                            'port': 2},\n",
      "                                        'switch1-switch3': {'MAC': '00:00:00:00:00:09',\n",
      "                                                            'name': 'enp7s0',\n",
      "                                                            'port': 0},\n",
      "                                        'switch2-switch3': {'MAC': '00:00:00:00:00:10',\n",
      "                                                            'name': 'enp8s0',\n",
      "                                                            'port': 1}},\n",
      "                         'node': <fabrictestbed_extensions.fablib.node.Node object at 0x7d157006a290>,\n",
      "                         'subnet': '192.168.3.0/24',\n",
      "                         'type': 'switch'}}}\n"
     ]
    }
   ],
   "source": [
    "for i in range(1, 4):\n",
    "    topology['devices'][f'switch{i}']['subnet'] = f'192.168.{i}.0/24'\n",
    "pp(topology)"
   ]
  },
  {
   "cell_type": "code",
   "execution_count": null,
   "id": "1d3d3199-d204-419d-9c0c-22fe7f9ef87a",
   "metadata": {
    "tags": []
   },
   "outputs": [
    {
     "name": "stdout",
     "output_type": "stream",
     "text": [
      "Calling target program-options parser\n",
      "Adding interface enp8s0 as port 0\n",
      "Adding interface enp9s0 as port 1\n",
      "Adding interface enp7s0 as port 2\n"
     ]
    }
   ],
   "source": [
    "switch1.upload_file('labs_files/main.p4', 'main.p4')\n",
    "stdout, stderr = switch1.execute(f'p4c main.p4')\n",
    "stdout, stderr = switch1.execute(f'sudo pkill simple_switch')\n",
    "stdout, stderr = switch1.execute(f'sudo simple_switch -i 0@{switch1_iface1_name} -i 1@{switch1_iface2_name} -i 2@{switch1_iface3_name} main.json &')"
   ]
  },
  {
   "cell_type": "code",
   "execution_count": null,
   "id": "bd71659c-4291-4ad1-b830-27786ebb63de",
   "metadata": {},
   "outputs": [
    {
     "name": "stdout",
     "output_type": "stream",
     "text": [
      "Calling target program-options parser\n",
      "Adding interface enp9s0 as port 0\n",
      "Adding interface enp7s0 as port 1\n",
      "Adding interface enp8s0 as port 2\n"
     ]
    }
   ],
   "source": [
    "switch2.upload_file('labs_files/main.p4', 'main.p4')\n",
    "stdout, stderr = switch2.execute(f'p4c main.p4')\n",
    "stdout, stderr = switch2.execute(f'sudo pkill simple_switch')\n",
    "stdout, stderr = switch2.execute(f'sudo simple_switch -i 0@{switch2_iface1_name} -i 1@{switch2_iface2_name} -i 2@{switch2_iface3_name} main.json &')"
   ]
  },
  {
   "cell_type": "code",
   "execution_count": null,
   "id": "72ea0e21-1deb-439c-9982-2432e28919b6",
   "metadata": {},
   "outputs": [
    {
     "name": "stdout",
     "output_type": "stream",
     "text": [
      "Calling target program-options parser\n",
      "Adding interface enp7s0 as port 0\n",
      "Adding interface enp8s0 as port 1\n",
      "Adding interface enp9s0 as port 2\n"
     ]
    }
   ],
   "source": [
    "switch3.upload_file('labs_files/main.p4', 'main.p4')\n",
    "stdout, stderr = switch3.execute(f'p4c main.p4')\n",
    "stdout, stderr = switch3.execute(f'sudo pkill simple_switch')\n",
    "stdout, stderr = switch3.execute(f'sudo simple_switch -i 0@{switch3_iface1_name} -i 1@{switch3_iface2_name} -i 2@{switch3_iface3_name} main.json &')"
   ]
  },
  {
   "cell_type": "markdown",
   "id": "fbcb21fc-f3e5-4ae0-b8dc-b19ed495d127",
   "metadata": {},
   "source": [
    "# Disable Offloading for Higher Rates"
   ]
  },
  {
   "cell_type": "code",
   "execution_count": null,
   "id": "d798c97e",
   "metadata": {},
   "outputs": [
    {
     "name": "stdout",
     "output_type": "stream",
     "text": [
      "'switch1 enp8s0'\n",
      "'switch1 enp9s0'\n",
      "'switch1 enp7s0'\n",
      "'switch2 enp9s0'\n",
      "'switch2 enp7s0'\n",
      "'switch2 enp8s0'\n",
      "'switch3 enp9s0'\n",
      "'switch3 enp7s0'\n",
      "'switch3 enp8s0'\n"
     ]
    }
   ],
   "source": [
    "for name in switch_names:\n",
    "    node = devices[name]['node']\n",
    "    ifaces = devices[name]['interfaces']\n",
    "    node.upload_file('scripts/disable_offload.sh', 'disable_offload.sh')\n",
    "    for iface in ifaces:\n",
    "        iface_name = devices[name]['interfaces'][iface]['name']\n",
    "        node.execute(f'sudo chmod +x ./disable_offload.sh && sudo ./disable_offload.sh {iface_name}', quiet=True)\n",
    "        pp(name + \" \" + iface_name)"
   ]
  },
  {
   "cell_type": "markdown",
   "id": "7bf4eabb-31cd-41c9-9fd1-b1c2b9d8b0d6",
   "metadata": {},
   "source": [
    "## Step 7.1: Populating table from the control plane\n",
    "\n",
    "In this step we will populate the forwarding table by executing a script. We will learn how to populate the tables manually in another lab."
   ]
  },
  {
   "cell_type": "code",
   "execution_count": null,
   "id": "496e9541-7405-497c-ad06-e81e995bad44",
   "metadata": {},
   "outputs": [],
   "source": [
    "slice = fablib.get_slice(\"lab1\")\n",
    "switch1 = slice.get_node(\"switch1\")\n",
    "switch2 = slice.get_node(\"switch2\")\n",
    "switch3 = slice.get_node(\"switch3\")"
   ]
  },
  {
   "cell_type": "code",
   "execution_count": null,
   "id": "359e7d84-5089-4611-8c10-e29dbe4c74a6",
   "metadata": {
    "tags": []
   },
   "outputs": [
    {
     "name": "stdout",
     "output_type": "stream",
     "text": [
      "Obtaining JSON from switch...\n",
      "Done\n",
      "Control utility for runtime P4 table manipulation\n",
      "RuntimeCmd: Adding entry to lpm match table MyIngress.ipv4_lpm\n",
      "match key:           LPM-c0:a8:01:0a/32\n",
      "action:              MyIngress.forward\n",
      "runtime data:        00:00:00:00:00:01\t00:00\n",
      "Entry has been added with handle 0\n",
      "RuntimeCmd: \n",
      "Obtaining JSON from switch...\n",
      "Done\n",
      "Control utility for runtime P4 table manipulation\n",
      "RuntimeCmd: Adding entry to lpm match table MyIngress.ipv4_lpm\n",
      "match key:           LPM-c0:a8:02:00/24\n",
      "action:              MyIngress.forward\n",
      "runtime data:        00:00:00:00:00:04\t00:01\n",
      "Entry has been added with handle 1\n",
      "RuntimeCmd: \n",
      "Obtaining JSON from switch...\n",
      "Done\n",
      "Control utility for runtime P4 table manipulation\n",
      "RuntimeCmd: Adding entry to lpm match table MyIngress.ipv4_lpm\n",
      "match key:           LPM-c0:a8:03:00/24\n",
      "action:              MyIngress.forward\n",
      "runtime data:        00:00:00:00:00:09\t00:02\n",
      "Entry has been added with handle 2\n",
      "RuntimeCmd: \n"
     ]
    }
   ],
   "source": [
    "switch1.upload_file('labs_files/rules1.sh', 'rules1.sh')\n",
    "stdout, stderr = switch1.execute('chmod +x rules1.sh && ./rules1.sh')"
   ]
  },
  {
   "cell_type": "code",
   "execution_count": null,
   "id": "d6af1432-b0b3-4235-a6d7-6688c49570c2",
   "metadata": {},
   "outputs": [
    {
     "name": "stdout",
     "output_type": "stream",
     "text": [
      "Obtaining JSON from switch...\n",
      "Done\n",
      "Control utility for runtime P4 table manipulation\n",
      "RuntimeCmd: Adding entry to lpm match table MyIngress.ipv4_lpm\n",
      "match key:           LPM-c0:a8:01:00/24\n",
      "action:              MyIngress.forward\n",
      "runtime data:        00:00:00:00:00:03\t00:00\n",
      "Entry has been added with handle 0\n",
      "RuntimeCmd: \n",
      "Obtaining JSON from switch...\n",
      "Done\n",
      "Control utility for runtime P4 table manipulation\n",
      "RuntimeCmd: Adding entry to lpm match table MyIngress.ipv4_lpm\n",
      "match key:           LPM-c0:a8:02:0a/32\n",
      "action:              MyIngress.forward\n",
      "runtime data:        00:00:00:00:00:06\t00:01\n",
      "Entry has been added with handle 1\n",
      "RuntimeCmd: \n",
      "Obtaining JSON from switch...\n",
      "Done\n",
      "Control utility for runtime P4 table manipulation\n",
      "RuntimeCmd: Adding entry to lpm match table MyIngress.ipv4_lpm\n",
      "match key:           LPM-c0:a8:03:00/24\n",
      "action:              MyIngress.forward\n",
      "runtime data:        00:00:00:00:00:10\t00:02\n",
      "Entry has been added with handle 2\n",
      "RuntimeCmd: \n"
     ]
    }
   ],
   "source": [
    "switch2.upload_file('labs_files/rules2.sh', 'rules2.sh')\n",
    "stdout, stderr = switch2.execute('chmod +x rules2.sh && ./rules2.sh')"
   ]
  },
  {
   "cell_type": "code",
   "execution_count": null,
   "id": "f510e03c-8874-4aa4-a046-73284ac6f9da",
   "metadata": {},
   "outputs": [
    {
     "name": "stdout",
     "output_type": "stream",
     "text": [
      "Obtaining JSON from switch...\n",
      "Done\n",
      "Control utility for runtime P4 table manipulation\n",
      "RuntimeCmd: Adding entry to lpm match table MyIngress.ipv4_lpm\n",
      "match key:           LPM-c0:a8:01:00/24\n",
      "action:              MyIngress.forward\n",
      "runtime data:        00:00:00:00:00:07\t00:00\n",
      "Entry has been added with handle 0\n",
      "RuntimeCmd: \n",
      "Obtaining JSON from switch...\n",
      "Done\n",
      "Control utility for runtime P4 table manipulation\n",
      "RuntimeCmd: Adding entry to lpm match table MyIngress.ipv4_lpm\n",
      "match key:           LPM-c0:a8:02:00/24\n",
      "action:              MyIngress.forward\n",
      "runtime data:        00:00:00:00:00:08\t00:01\n",
      "Entry has been added with handle 1\n",
      "RuntimeCmd: \n",
      "Obtaining JSON from switch...\n",
      "Done\n",
      "Control utility for runtime P4 table manipulation\n",
      "RuntimeCmd: Adding entry to lpm match table MyIngress.ipv4_lpm\n",
      "match key:           LPM-c0:a8:03:0a/32\n",
      "action:              MyIngress.forward\n",
      "runtime data:        00:00:00:00:00:12\t00:02\n",
      "Entry has been added with handle 2\n",
      "RuntimeCmd: \n"
     ]
    }
   ],
   "source": [
    "switch3.upload_file('labs_files/rules3.sh', 'rules3.sh')\n",
    "stdout, stderr = switch3.execute('chmod +x rules3.sh && ./rules3.sh')"
   ]
  },
  {
   "cell_type": "code",
   "execution_count": null,
   "id": "4e46929a-c939-47a0-b69d-901b1108f160",
   "metadata": {},
   "outputs": [],
   "source": [
    "rules = {}\n",
    "rules['switch1'] = {}\n",
    "rules['switch2'] = {}\n",
    "rules['switch3'] = {}"
   ]
  },
  {
   "cell_type": "markdown",
   "id": "9bff0003",
   "metadata": {},
   "source": [
    "### Creating a Dictionary to store current rules\n",
    "\n",
    "- Dictionary to store the current rules in all the tables\n",
    "- Can potentially add this to the topology dictionary to simplify things"
   ]
  },
  {
   "cell_type": "code",
   "execution_count": null,
   "id": "7db0ecc2-022a-4d52-b0ab-bd62740a77e8",
   "metadata": {},
   "outputs": [
    {
     "name": "stdout",
     "output_type": "stream",
     "text": [
      "192.168.1.10/32 00:00:00:00:00:01 0\n",
      "192.168.2.0/24 00:00:00:00:00:04 1\n",
      "192.168.3.0/24 00:00:00:00:00:09 2\n",
      "192.168.1.0/24 00:00:00:00:00:03 0\n",
      "192.168.2.10/32 00:00:00:00:00:06 1\n",
      "192.168.3.0/24 00:00:00:00:00:10 2\n",
      "192.168.1.0/24 00:00:00:00:00:07 0\n",
      "192.168.2.0/24 00:00:00:00:00:08 1\n",
      "192.168.3.10/32 00:00:00:00:00:12 2\n",
      "{'rules1': {0: {'dest_MAC': '00:00:00:00:00:01',\n",
      "                'dest_ip': '192.168.1.10/32',\n",
      "                'egress_port': '0'},\n",
      "            1: {'dest_MAC': '00:00:00:00:00:04',\n",
      "                'dest_ip': '192.168.2.0/24',\n",
      "                'egress_port': '1'},\n",
      "            2: {'dest_MAC': '00:00:00:00:00:09',\n",
      "                'dest_ip': '192.168.3.0/24',\n",
      "                'egress_port': '2'}},\n",
      " 'rules2': {0: {'dest_MAC': '00:00:00:00:00:03',\n",
      "                'dest_ip': '192.168.1.0/24',\n",
      "                'egress_port': '0'},\n",
      "            1: {'dest_MAC': '00:00:00:00:00:06',\n",
      "                'dest_ip': '192.168.2.10/32',\n",
      "                'egress_port': '1'},\n",
      "            2: {'dest_MAC': '00:00:00:00:00:10',\n",
      "                'dest_ip': '192.168.3.0/24',\n",
      "                'egress_port': '2'}},\n",
      " 'rules3': {0: {'dest_MAC': '00:00:00:00:00:07',\n",
      "                'dest_ip': '192.168.1.0/24',\n",
      "                'egress_port': '0'},\n",
      "            1: {'dest_MAC': '00:00:00:00:00:08',\n",
      "                'dest_ip': '192.168.2.0/24',\n",
      "                'egress_port': '1'},\n",
      "            2: {'dest_MAC': '00:00:00:00:00:12',\n",
      "                'dest_ip': '192.168.3.10/32',\n",
      "                'egress_port': '2'}}}\n"
     ]
    }
   ],
   "source": [
    "rules1 = open('labs_files/rules1.sh', 'r')\n",
    "for i, line in enumerate(rules1):\n",
    "    line = line[:-1]\n",
    "    words = line.split(\" \")\n",
    "    print(words[4] + \" \" + words[6] + \" \" + words[7][:-1])\n",
    "    rules['switch1'][i] = {\n",
    "        'dest_ip': words[4],\n",
    "        'dest_MAC': words[6],\n",
    "        'egress_port': words[7][:-1]\n",
    "    }\n",
    "rules2 = open('labs_files/rules2.sh', 'r')\n",
    "for i, line in enumerate(rules2):\n",
    "    line = line[:-1]\n",
    "    words = line.split(\" \")\n",
    "    print(words[4] + \" \" + words[6] + \" \" + words[7][:-1])\n",
    "    rules['switch2'][i] = {\n",
    "        'dest_ip': words[4],\n",
    "        'dest_MAC': words[6],\n",
    "        'egress_port': words[7][:-1]\n",
    "    }\n",
    "\n",
    "rules3 = open('labs_files/rules3.sh', 'r')\n",
    "for i, line in enumerate(rules3):\n",
    "    line = line[:-1]\n",
    "    words = line.split(\" \")\n",
    "    print(words[4] + \" \" + words[6] + \" \" + words[7][:-1])\n",
    "    rules['switch3'][i] = {\n",
    "        'dest_ip': words[4],\n",
    "        'dest_MAC': words[6],\n",
    "        'egress_port': words[7][:-1]\n",
    "    }\n",
    "pp(rules)"
   ]
  },
  {
   "cell_type": "markdown",
   "id": "e1158916-f42e-4f41-8b11-85d5bf8c7f1c",
   "metadata": {},
   "source": [
    "## Step 7.2: Running a ping test"
   ]
  },
  {
   "cell_type": "code",
   "execution_count": null,
   "id": "dc4885f4-c56e-49bb-a84d-9b4dd4b5bb26",
   "metadata": {},
   "outputs": [
    {
     "name": "stdout",
     "output_type": "stream",
     "text": [
      "PING 192.168.2.10 (192.168.2.10) 56(84) bytes of data.\n",
      "64 bytes from 192.168.2.10: icmp_seq=1 ttl=62 time=105 ms\n",
      "64 bytes from 192.168.2.10: icmp_seq=2 ttl=62 time=103 ms\n",
      "64 bytes from 192.168.2.10: icmp_seq=3 ttl=62 time=103 ms\n",
      "\n",
      "--- 192.168.2.10 ping statistics ---\n",
      "3 packets transmitted, 3 received, 0% packet loss, time 2002ms\n",
      "rtt min/avg/max/mdev = 103.110/103.825/104.951/0.805 ms\n"
     ]
    }
   ],
   "source": [
    "server2_dest_ip = server2_ip.split('/')[0]\n",
    "stdout, stderr = server1.execute(f'ping {server2_dest_ip} -c 3')"
   ]
  },
  {
   "cell_type": "code",
   "execution_count": null,
   "id": "737a6af2-2b8c-4f40-a439-851fd63301cc",
   "metadata": {},
   "outputs": [
    {
     "name": "stdout",
     "output_type": "stream",
     "text": [
      "PING 192.168.3.10 (192.168.3.10) 56(84) bytes of data.\n",
      "64 bytes from 192.168.3.10: icmp_seq=1 ttl=62 time=71.7 ms\n",
      "64 bytes from 192.168.3.10: icmp_seq=2 ttl=62 time=70.9 ms\n",
      "64 bytes from 192.168.3.10: icmp_seq=3 ttl=62 time=71.1 ms\n",
      "\n",
      "--- 192.168.3.10 ping statistics ---\n",
      "3 packets transmitted, 3 received, 0% packet loss, time 2004ms\n",
      "rtt min/avg/max/mdev = 70.896/71.215/71.688/0.340 ms\n"
     ]
    }
   ],
   "source": [
    "server3_dest_ip = server3_ip.split('/')[0]\n",
    "stdout, stderr = server1.execute(f'ping {server3_dest_ip} -c 3')"
   ]
  },
  {
   "cell_type": "code",
   "execution_count": null,
   "id": "614274aa-cef5-4765-b4ae-01b7ae7d02b1",
   "metadata": {},
   "outputs": [
    {
     "name": "stdout",
     "output_type": "stream",
     "text": [
      "PING 192.168.3.10 (192.168.3.10) 56(84) bytes of data.\n",
      "64 bytes from 192.168.3.10: icmp_seq=1 ttl=62 time=84.0 ms\n",
      "64 bytes from 192.168.3.10: icmp_seq=2 ttl=62 time=83.3 ms\n",
      "64 bytes from 192.168.3.10: icmp_seq=3 ttl=62 time=83.5 ms\n",
      "\n",
      "--- 192.168.3.10 ping statistics ---\n",
      "3 packets transmitted, 3 received, 0% packet loss, time 2002ms\n",
      "rtt min/avg/max/mdev = 83.331/83.623/84.043/0.304 ms\n"
     ]
    }
   ],
   "source": [
    "server3_dest_ip = server3_ip.split('/')[0]\n",
    "stdout, stderr = server2.execute(f'ping {server3_dest_ip} -c 3')"
   ]
  },
  {
   "cell_type": "markdown",
   "id": "9a55b511-8608-4e38-8c0e-670859ee7047",
   "metadata": {},
   "source": [
    "# New Rules"
   ]
  },
  {
   "cell_type": "code",
   "execution_count": null,
   "id": "f30dfd14-08d8-40cd-8a8a-2eb09846ee1d",
   "metadata": {},
   "outputs": [],
   "source": [
    "pp(topology)"
   ]
  },
  {
   "cell_type": "code",
   "execution_count": null,
   "id": "bdf9d77d-801d-4b41-9be7-8338723c5a82",
   "metadata": {},
   "outputs": [],
   "source": [
    "stdout, stderr = server1.execute(f'sudo apt-get update && sudo apt-get install -y iperf3', quiet=True)\n",
    "stdout, stderr = server2.execute(f'sudo apt-get update && sudo apt-get install -y iperf3', quiet=True)\n",
    "stdout, stderr = server3.execute(f'sudo apt-get update && sudo apt-get install -y iperf3', quiet=True)"
   ]
  },
  {
   "cell_type": "code",
   "execution_count": null,
   "id": "f76f8d3b-9f75-42e2-be95-434a4de021ee",
   "metadata": {},
   "outputs": [],
   "source": [
    "import json\n",
    "import numpy\n",
    "temp = None"
   ]
  },
  {
   "cell_type": "markdown",
   "id": "257b897f",
   "metadata": {},
   "source": [
    "### Creating a Graph to be able to implement Djikstra's algorithm on the topology\n",
    "\n",
    "- The edges are updated using iperf. Will need to find a way to monitor traffic flow between switches\n",
    "    - Thinking of using scapy"
   ]
  },
  {
   "cell_type": "code",
   "execution_count": null,
   "id": "9b5c45da-cb36-4a01-bf4d-6ce6cc3f3a1f",
   "metadata": {},
   "outputs": [
    {
     "name": "stdout",
     "output_type": "stream",
     "text": [
      "server1 server2 5728.024269733771\n",
      "server1 server3 298555.01411223196\n",
      "server2 server1 4579.427207901409\n",
      "server2 server3 286539.10909354035\n",
      "server3 server1 309910.3294163838\n",
      "server3 server2 290508.3553248562\n",
      "{'switch1': {'switch2': 0.0001745802658839779,\n",
      "             'switch3': 3.3494664391202717e-06},\n",
      " 'switch2': {'switch1': 0.00021836792127071826,\n",
      "             'switch3': 3.489924998941597e-06},\n",
      " 'switch3': {'switch1': 3.2267398182021798e-06,\n",
      "             'switch2': 3.442241786408403e-06}}\n"
     ]
    }
   ],
   "source": [
    "graph = {}\n",
    "subnets = ['192.168.1.10', '192.168.2.10', '192.168.3.10']\n",
    "for i, src in enumerate(server_names):\n",
    "    src_node = devices[src]['node']\n",
    "    src_ip = devices[src]['interfaces'][f'server{i+1}-switch{i+1}']['ip']\n",
    "    src_name = switch_names[i]\n",
    "    graph[src_name] = {}\n",
    "    for j, dst in enumerate(server_names):\n",
    "        if i != j:\n",
    "            dst_ip = devices[dst]['interfaces'][f'server{j+1}-switch{j+1}']['ip']\n",
    "            dst_ip = dst_ip.split('/')[0]\n",
    "            dst_name = switch_names[j]\n",
    "            dst_node = devices[dst]['node']\n",
    "\n",
    "            dst_node.execute_thread('iperf3 -s -1')\n",
    "            stdout, stderr = src_node.execute(f'iperf3 -c {dst_ip} -J', quiet=True)\n",
    "            \n",
    "            temp = tojson = json.loads(stdout)\n",
    "            while 'error' in tojson:\n",
    "                stdout, stderr = src_node.execute(f'iperf3 -c {dst_ip} -J', quiet=True)\n",
    "                temp = tojson = json.loads(stdout)\n",
    "            print(src + \" \" + dst + \" \" + str(tojson['end']['sum_received']['bits_per_second']))\n",
    "            cleaned_bit = 1 / tojson['end']['sum_received']['bits_per_second']\n",
    "            \n",
    "            '''data = []\n",
    "            for x, interval in enumerate(tojson['intervals']):\n",
    "                data.append(tojson['intervals'][x]['streams'][0]['bits_per_second'])\n",
    "            print(numpy.mean(data))\n",
    "            print(data) '''\n",
    "            graph[src_name][dst_name] = cleaned_bit\n",
    "\n",
    "pp(graph) "
   ]
  },
  {
   "cell_type": "code",
   "execution_count": null,
   "id": "f464f36b-80f2-499e-8282-b38ecd63ace9",
   "metadata": {},
   "outputs": [
    {
     "name": "stdout",
     "output_type": "stream",
     "text": [
      "{'server1': {'switch1': 0},\n",
      " 'server2': {'switch2': 0},\n",
      " 'server3': {'switch3': 0},\n",
      " 'switch1': {'server1': 0,\n",
      "             'switch2': 0.0001745802658839779,\n",
      "             'switch3': 3.3494664391202717e-06},\n",
      " 'switch2': {'server2': 0,\n",
      "             'switch1': 0.00021836792127071826,\n",
      "             'switch3': 3.489924998941597e-06},\n",
      " 'switch3': {'server3': 0,\n",
      "             'switch1': 3.2267398182021798e-06,\n",
      "             'switch2': 3.442241786408403e-06}}\n"
     ]
    }
   ],
   "source": [
    "graph['server1'] = {'switch1': 0}\n",
    "graph['server2'] = {'switch2': 0}\n",
    "graph['server3'] = {'switch3': 0}\n",
    "graph['switch1']['server1'] = 0\n",
    "graph['switch2']['server2'] = 0\n",
    "graph['switch3']['server3'] = 0\n",
    "pp(graph)"
   ]
  },
  {
   "cell_type": "code",
   "execution_count": null,
   "id": "1a3aeb56-76fd-4445-b5b2-997c2d4edc45",
   "metadata": {},
   "outputs": [],
   "source": [
    "import sys\n",
    "from heapq import heapify, heappush, heappop"
   ]
  },
  {
   "cell_type": "markdown",
   "id": "aaa1e242",
   "metadata": {},
   "source": [
    "### Adding a delay between switch1 and switch2"
   ]
  },
  {
   "cell_type": "code",
   "execution_count": null,
   "id": "a33d086b-1c9d-4899-b9fc-0a78c80b692f",
   "metadata": {},
   "outputs": [
    {
     "data": {
      "text/plain": [
       "('', '')"
      ]
     },
     "execution_count": 119,
     "metadata": {},
     "output_type": "execute_result"
    }
   ],
   "source": [
    "switch1.execute(f'sudo tc qdisc add dev {devices['switch1']['interfaces']['switch1-switch2']['name']} root netem delay 10000ms', quiet=True)"
   ]
  },
  {
   "cell_type": "markdown",
   "id": "778a8f1d",
   "metadata": {},
   "source": [
    "### Djikstra Implementation\n",
    "\n",
    "- Utilizes a priority queue to get the next shortest paths to explore\n",
    "- Runs in $O(E \\cdot log(N) + N)$"
   ]
  },
  {
   "cell_type": "code",
   "execution_count": null,
   "id": "ad520f26-91d4-482a-a06a-05d5f907f7bb",
   "metadata": {},
   "outputs": [],
   "source": [
    "def dijkstra(graph, src, dest):\n",
    "    node_data = {}\n",
    "    for device in devices:\n",
    "        node_data[device] = {\n",
    "            'cost': float('inf'),\n",
    "            'prev': None\n",
    "        }\n",
    "    node_data[src]['dist'] = 0\n",
    "    pq = []\n",
    "    heappush(pq, (0, src))\n",
    "\n",
    "    visited = set()\n",
    "    while pq:\n",
    "        curr_dist, curr_node = heappop(pq)\n",
    "        \n",
    "        if curr_node in visited:\n",
    "            continue\n",
    "        visited.add(curr_node)\n",
    "        if curr_node == dest:\n",
    "            break\n",
    "        \n",
    "        for neighbor, weight in graph[curr_node].items():\n",
    "            new_dist = curr_dist + weight\n",
    "\n",
    "            if new_dist < node_data[neighbor]['cost']:\n",
    "                node_data[neighbor]['cost'] = new_dist\n",
    "                node_data[neighbor]['prev'] = curr_node\n",
    "                heappush(pq, (new_dist, neighbor))\n",
    "    \n",
    "    path = []\n",
    "    curr_node = dest\n",
    "    while curr_node is not None:\n",
    "        path.append(curr_node)\n",
    "        if curr_node == src:\n",
    "            break\n",
    "        curr_node = node_data[curr_node]['prev']\n",
    "     \n",
    "\n",
    "    path.reverse()\n",
    "    return path\n",
    "        \n"
   ]
  },
  {
   "cell_type": "code",
   "execution_count": null,
   "id": "1fc9c367-f8c3-4d2d-9807-2951b2d99383",
   "metadata": {},
   "outputs": [
    {
     "name": "stdout",
     "output_type": "stream",
     "text": [
      "['server1', 'switch1', 'switch3', 'switch2', 'server2']\n"
     ]
    }
   ],
   "source": [
    "res = dijkstra(graph, 'server1', 'server2')\n",
    "print(res)"
   ]
  },
  {
   "cell_type": "markdown",
   "id": "9bdf6eed",
   "metadata": {},
   "source": [
    "### Updating routes based on the results from the Djikstra's Algorithm\n",
    "\n",
    "- Takes the route information and updates the routes in the switches as need be\n",
    "- Do this by checking current rules and update them as need be"
   ]
  },
  {
   "cell_type": "code",
   "execution_count": null,
   "id": "0dead0a5-bc89-4ee4-99ac-1cd93aa467e4",
   "metadata": {},
   "outputs": [
    {
     "name": "stdout",
     "output_type": "stream",
     "text": [
      "1 00:00:00:00:00:09 2\n",
      "Obtaining JSON from switch...\n",
      "Done\n",
      "Control utility for runtime P4 table manipulation\n",
      "RuntimeCmd: Modifying entry 1 for lpm match table MyIngress.ipv4_lpm\n",
      "RuntimeCmd: \n",
      "1 00:00:00:00:00:08 1\n",
      "Obtaining JSON from switch...\n",
      "Done\n",
      "Control utility for runtime P4 table manipulation\n",
      "RuntimeCmd: Modifying entry 1 for lpm match table MyIngress.ipv4_lpm\n",
      "RuntimeCmd: \n"
     ]
    }
   ],
   "source": [
    "route = res[1:len(res)-1]\n",
    "dst = route[-1]\n",
    "src = route[0]\n",
    "i = 0\n",
    "for i in range(len(route)-1):\n",
    "    sw1, sw2 = route[i], route[i+1]\n",
    "    \n",
    "    node = devices[sw1]['node']\n",
    "    num = sw1[-1]\n",
    "    for h in rules[f'switch{num}']:\n",
    "        handle = MAC = egress = None\n",
    "        if rules[f'switch{num}'][h]['dest_ip'] == devices[dst]['subnet']:\n",
    "            handle = h\n",
    "            net1 = f'{sw1}-{sw2}'\n",
    "            net2 = f'{sw2}-{sw1}'\n",
    "            if net1 in devices[sw2]['interfaces']:\n",
    "                MAC = devices[sw2]['interfaces'][net1]['MAC']\n",
    "                egress = devices[sw1]['interfaces'][net1]['port']\n",
    "            elif net2 in devices[sw2]['interfaces']:\n",
    "                MAC = devices[sw2]['interfaces'][net2]['MAC']\n",
    "                egress = devices[sw1]['interfaces'][net2]['port']\n",
    "            \n",
    "            print(f'{handle} {MAC} {egress}')\n",
    "            command = f'echo \\\"table_modify MyIngress.ipv4_lpm MyIngress.forward {handle} {MAC} {egress}\\\" | simple_switch_CLI'\n",
    "            node.execute(command)\n",
    "            rules[f'switch{num}'][handle]['dest_MAC'] = MAC\n",
    "            rules[f'switch{num}'][handle]['egress_port'] = egress\n",
    "            break"
   ]
  },
  {
   "cell_type": "markdown",
   "id": "81eb3e2f-13a4-42bc-9e6f-721c50bfd276",
   "metadata": {},
   "source": [
    "# Generating New Graphs"
   ]
  },
  {
   "cell_type": "code",
   "execution_count": null,
   "id": "c488cc8c-377a-44ec-8be5-626dc3784af9",
   "metadata": {},
   "outputs": [],
   "source": [
    "server3.execute_thread('iperf3 -s -1')\n",
    "stdout, stderr = server1.execute('iperf3 -c 192.168.3.10 -J -t 50', quiet=True)\n",
    "orig = json.loads(stdout)"
   ]
  },
  {
   "cell_type": "code",
   "execution_count": null,
   "id": "9e14e4cd-9fcd-47a9-92c0-50ee037d4f54",
   "metadata": {},
   "outputs": [],
   "source": [
    "orig_data = []\n",
    "for j in range(len(orig['intervals'])):\n",
    "    orig_data.append(orig['intervals'][j]['streams'][0]['bits_per_second'])\n"
   ]
  },
  {
   "cell_type": "code",
   "execution_count": null,
   "id": "af3c9ebd-a428-4f75-92eb-0906ddbe37f5",
   "metadata": {},
   "outputs": [],
   "source": [
    "import matplotlib.pyplot as plt\n",
    "\n",
    "x = [i for i in range(1, 51)]\n",
    "orig_y = []\n",
    "for test in orig_data:\n",
    "    orig_y.append(test / (10**6))\n",
    "plt.plot(x, orig_y)"
   ]
  },
  {
   "cell_type": "code",
   "execution_count": null,
   "id": "a83aec7d-4950-410b-a650-92bf2b57cbf7",
   "metadata": {},
   "outputs": [],
   "source": [
    "server3.execute_thread('iperf3 -s -1')\n",
    "stdout, stderr = server1.execute('iperf3 -c 192.168.3.10 -J -t 50', quiet=True)\n",
    "new = json.loads(stdout)"
   ]
  },
  {
   "cell_type": "code",
   "execution_count": null,
   "id": "90ff5da2-e176-455c-b217-2f6cf2525e6d",
   "metadata": {},
   "outputs": [],
   "source": [
    "new_data = []\n",
    "for j in range(len(new['intervals'])):\n",
    "    new_data.append(new['intervals'][j]['streams'][0]['bits_per_second'])\n",
    "print(new_data)"
   ]
  },
  {
   "cell_type": "code",
   "execution_count": null,
   "id": "63430288-6898-4459-b1df-34c11d7ea666",
   "metadata": {},
   "outputs": [],
   "source": [
    "import matplotlib.pyplot as plt\n",
    "\n",
    "x = [i for i in range(1, 51)]\n",
    "new_y = []\n",
    "for test in new_data:\n",
    "    new_y.append(test / (10**6))"
   ]
  },
  {
   "cell_type": "code",
   "execution_count": null,
   "id": "06161d04-f5ce-4a31-8d35-06dd04c0244c",
   "metadata": {},
   "outputs": [],
   "source": [
    "plt.plot(x, new_y)\n",
    "plt.plot(x, orig_y)\n",
    "plt.legend(['Dynamic Routing', 'No intervention'])\n",
    "plt.xlabel('Time (seconds)')\n",
    "plt.ylabel('Bitrate (Mbps)')\n",
    "plt.title('Network Efficiency with Intervention vs No Intervention')\n",
    "\n",
    "plt.savefig('model_intervension.jpg')"
   ]
  },
  {
   "cell_type": "markdown",
   "id": "e92e3d97-a261-4c00-984c-2750cbd45064",
   "metadata": {
    "tags": []
   },
   "source": [
    "## Step 9: Delete the Slice\n",
    "\n",
    "This concludes Lab 1. Please delete your slice when you are done with your experiment."
   ]
  },
  {
   "cell_type": "code",
   "execution_count": null,
   "id": "1f27f3fc-004f-46c2-984c-8c2a90883eb6",
   "metadata": {
    "tags": []
   },
   "outputs": [],
   "source": [
    "from fabrictestbed_extensions.fablib.fablib import FablibManager as fablib_manager\n",
    "fablib = fablib_manager()\n",
    "slice = fablib.get_slice(name=\"lab1\")\n",
    "slice.delete()"
   ]
  }
 ],
 "metadata": {
  "kernelspec": {
   "display_name": "Python 3 (ipykernel)",
   "language": "python",
   "name": "python3"
  },
  "language_info": {
   "codemirror_mode": {
    "name": "ipython",
    "version": 3
   },
   "file_extension": ".py",
   "mimetype": "text/x-python",
   "name": "python",
   "nbconvert_exporter": "python",
   "pygments_lexer": "ipython3",
   "version": "3.9.6"
  }
 },
 "nbformat": 4,
 "nbformat_minor": 5
}
