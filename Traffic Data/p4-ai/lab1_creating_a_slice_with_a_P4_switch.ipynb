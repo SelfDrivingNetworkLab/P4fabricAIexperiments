{
 "cells": [
  {
   "cell_type": "markdown",
   "id": "2a519f73-cdd2-4b28-a231-a2064f5e2191",
   "metadata": {
    "jp-MarkdownHeadingCollapsed": true,
    "tags": []
   },
   "source": [
    "# Lab 1 - Creating a Slice with a P4 Switch\n",
    "\n",
    "This lab will walk you through creating an experiment that contains a a P4 programmable switch. The P4 switch that we will use is a software switch known as the behavioral model (BMv2).  Specifically, the experiment deploys a slice with three nodes: two end-hosts and a P4 switch. The topology is shown in the figure below\n",
    "\n",
    "![Topology](./images/bmv2-p4-3switches.png)\n",
    "\n",
    "# Step 1:  Configure the Environment\n",
    "\n",
    "Before running this notebook, you will need to configure your environment using the [Configure Environment](../../../configure.ipynb) notebook. Please stop here, open and run that notebook, then return to this notebook.\n",
    "\n",
    "If you are using the FABRIC JupyterHub many of the environment variables will be automatically configured for you.  You will still need to set your bastion username, upload your bastion private key, and set the path to where you put your bastion private key. Your bastion username and private key should already be in your possession.  \n",
    "\n",
    "If you are using the FABRIC API outside of the JupyterHub you will need to configure all of the environment variables. Defaults below will be correct in many situations but you will need to confirm your configuration.  If you have questions about this configuration, please contact the FABRIC admins using the [FABRIC User Forum](https://learn.fabric-testbed.net/forums/) \n",
    "\n",
    "More information about accessing your experiments through the FABRIC bastion hosts can be found [here](https://learn.fabric-testbed.net/knowledge-base/logging-into-fabric-vms/).\n",
    " "
   ]
  },
  {
   "cell_type": "markdown",
   "id": "2b571c06-bfd5-464a-acf4-d28845c8e840",
   "metadata": {
    "tags": []
   },
   "source": [
    "# Step 2: Import the FABlib Library"
   ]
  },
  {
   "cell_type": "code",
   "execution_count": null,
   "id": "2e9c3ea6-f0b5-4e34-9a4c-82785ff386c4",
   "metadata": {},
   "outputs": [],
   "source": [
    "from fabrictestbed_extensions.fablib.fablib import FablibManager as fablib_manager\n",
    "fablib = fablib_manager()"
   ]
  },
  {
   "cell_type": "markdown",
   "id": "c2913e89-4188-4ebf-a24c-01cedd16540b",
   "metadata": {
    "tags": []
   },
   "source": [
    "# Step 3: Create the Experiment Slice\n",
    "\n",
    "The following creates three node with basic compute and networking capabilities. You build a slice by creating a new slice and adding resources to the slice. After you build the slice, you must submit a request for the slice to be instantiated.   "
   ]
  },
  {
   "cell_type": "markdown",
   "id": "161198e4-00b0-4994-9de8-28e8bfb16cc8",
   "metadata": {
    "tags": []
   },
   "source": [
    "### Step 3.1: Create a slice\n",
    "The code below creates a new slice with the name \"lab1\""
   ]
  },
  {
   "cell_type": "code",
   "execution_count": null,
   "id": "9c97d810-ac6a-4c04-892d-f0ddbe69954b",
   "metadata": {
    "tags": []
   },
   "outputs": [],
   "source": [
    "slice = fablib.new_slice(name=\"lab1\")"
   ]
  },
  {
   "cell_type": "markdown",
   "id": "a0f228eb-d12b-4644-bbc4-df2e34bbdce8",
   "metadata": {
    "tags": []
   },
   "source": [
    "### Step 3.2: Define the sites\n",
    "The code below requests three sites from FABRIC: INDI, STAR, and NCSA"
   ]
  },
  {
   "cell_type": "markdown",
   "id": "06c132e1-d2e2-4346-b10b-647d12d8049c",
   "metadata": {
    "tags": []
   },
   "source": [
    "<img src=\"./labs_files/lab1/figs/fabric_sites.png\" width=\"550px\"><br>"
   ]
  },
  {
   "cell_type": "code",
   "execution_count": null,
   "id": "f28e0cf1-241d-4257-afbf-6aa44989d995",
   "metadata": {
    "tags": []
   },
   "outputs": [],
   "source": [
    "site1='SALT'\n",
    "site2='STAR'\n",
    "site3='ATLA'\n",
    "site4='WASH'\n",
    "site5='DALL'\n",
    "site6='PSC'\n",
    "\n",
    "print (f'The selected sites are {site1}, {site2}, {site3} {site4} {site5} {site6}') "
   ]
  },
  {
   "cell_type": "markdown",
   "id": "0f71fead-a091-4af0-95ec-bb264c016c43",
   "metadata": {
    "tags": []
   },
   "source": [
    "### Step 3.3: Creating the nodes\n",
    "The code below creates three nodes: server1, server2 and server3. The servers (server1, server2 and server3) use the following:\n",
    "<ul>\n",
    "    <li> 4 CPU cores</li>\n",
    "    <li> 8GB RAM </li>\n",
    "    <li> 20GB disc size </li>\n",
    "    <li> Image: Ubuntu 20.04\n",
    "</ul>\n",
    "\n",
    "server1 will be created in site1, server2 will be created on site2 and server3 will be created in site3\n",
    "\n",
    "\n",
    "![Topology](./images/bmv2-p4-3switches.png)"
   ]
  },
  {
   "cell_type": "code",
   "execution_count": null,
   "id": "7713728b-2740-4e72-b5dd-7d3963012536",
   "metadata": {
    "tags": []
   },
   "outputs": [],
   "source": [
    "server1 = slice.add_node(name=\"server1\", \n",
    "                      site=site1, \n",
    "                      cores=4, \n",
    "                      ram=8, \n",
    "                      disk=20, \n",
    "                      image='default_ubuntu_20')\n",
    "\n",
    "server2 = slice.add_node(name=\"server2\", \n",
    "                      site=site2, \n",
    "                      cores=4, \n",
    "                      ram=8, \n",
    "                      disk=20, \n",
    "                      image='default_ubuntu_20')\n",
    "\n",
    "server3 = slice.add_node(name=\"server3\", \n",
    "                      site=site3, \n",
    "                      cores=4, \n",
    "                      ram=8, \n",
    "                      disk=20, \n",
    "                      image='default_ubuntu_20')\n"
   ]
  },
  {
   "cell_type": "markdown",
   "id": "525749aa-ea9e-4a4b-ac2e-0988d8f0b769",
   "metadata": {
    "tags": []
   },
   "source": [
    "### Step 3.4: Adding the interfaces to the servers\n",
    "The code below adds a Network Interface Card (NIC) to each server."
   ]
  },
  {
   "cell_type": "code",
   "execution_count": null,
   "id": "6f08e680-9922-4517-8f87-99e86ed455be",
   "metadata": {
    "tags": []
   },
   "outputs": [],
   "source": [
    "server1_iface = server1.add_component(model='NIC_Basic').get_interfaces()[0]\n",
    "server2_iface = server2.add_component(model='NIC_Basic').get_interfaces()[0]\n",
    "server3_iface = server3.add_component(model='NIC_Basic').get_interfaces()[0]"
   ]
  },
  {
   "cell_type": "markdown",
   "id": "9f1c2285-d01b-440c-9605-74fe816f4ee5",
   "metadata": {
    "tags": []
   },
   "source": [
    "### Step 3.5: Creating a node for the P4 switches\n",
    "The code below creates nodes that will run the P4 switches. The node use the following\n",
    "<ul>\n",
    "    <li> 16 CPU cores</li>\n",
    "    <li> 8GB RAM </li>\n",
    "    <li> 40GB disc size </li>\n",
    "    <li> Image: Ubuntu 20.04\n",
    "</ul>\n",
    "\n",
    "- Switch1 will be created on site4\n",
    "- Switch2 will be created on site5\n",
    "- Switch3 will be created on site6\n"
   ]
  },
  {
   "cell_type": "code",
   "execution_count": null,
   "id": "d790f23e-0596-41a2-991d-65627d5cf5e6",
   "metadata": {
    "tags": []
   },
   "outputs": [],
   "source": [
    "# Add a node\n",
    "switch1 = slice.add_node(name=\"switch1\", \n",
    "                      site=site4, \n",
    "                      cores=32, \n",
    "                      ram=16, \n",
    "                      disk=40, \n",
    "                      image='default_ubuntu_20')"
   ]
  },
  {
   "cell_type": "code",
   "execution_count": null,
   "id": "98249467-778c-4ebb-a773-0cb05fc1179f",
   "metadata": {},
   "outputs": [],
   "source": [
    "# Add a node\n",
    "switch2 = slice.add_node(name=\"switch2\", \n",
    "                      site=site5, \n",
    "                      cores=32, \n",
    "                      ram=16, \n",
    "                      disk=40, \n",
    "                      image='default_ubuntu_20')"
   ]
  },
  {
   "cell_type": "code",
   "execution_count": null,
   "id": "80633f09-5fbc-4948-847e-957691df98ff",
   "metadata": {},
   "outputs": [],
   "source": [
    "# Add a node\n",
    "switch3 = slice.add_node(name=\"switch3\", \n",
    "                      site=site6, \n",
    "                      cores=32, \n",
    "                      ram=16, \n",
    "                      disk=40, \n",
    "                      image='default_ubuntu_20')"
   ]
  },
  {
   "cell_type": "markdown",
   "id": "52c163c1-ab41-47cf-96b8-b02c8d3cb005",
   "metadata": {},
   "source": [
    "### Step 3.6: Adding two interfaces to the switch\n",
    "The code below adds two Network Interface Cards (NICs) to the switch."
   ]
  },
  {
   "cell_type": "code",
   "execution_count": null,
   "id": "420e3c86-0a63-49c1-81f0-8c75aea4213c",
   "metadata": {},
   "outputs": [],
   "source": [
    "switch1_iface1 = switch1.add_component(model='NIC_Basic', name='net1_nic').get_interfaces()[0]\n",
    "switch1_iface2 = switch1.add_component(model='NIC_Basic', name='net2_nic').get_interfaces()[0]\n",
    "switch1_iface3 = switch1.add_component(model='NIC_Basic', name='net4_nic').get_interfaces()[0]"
   ]
  },
  {
   "cell_type": "code",
   "execution_count": null,
   "id": "50a9184c-b028-4f4f-8fc7-2dbb105fe6fa",
   "metadata": {},
   "outputs": [],
   "source": [
    "switch2_iface1 = switch2.add_component(model='NIC_Basic', name='net2_nic').get_interfaces()[0]\n",
    "switch2_iface2 = switch2.add_component(model='NIC_Basic', name='net3_nic').get_interfaces()[0]\n",
    "switch2_iface3 = switch2.add_component(model='NIC_Basic', name='net5_nic').get_interfaces()[0]"
   ]
  },
  {
   "cell_type": "code",
   "execution_count": null,
   "id": "0d26fa8c-5479-446b-8057-f4e7a723a077",
   "metadata": {},
   "outputs": [],
   "source": [
    "switch3_iface1 = switch3.add_component(model='NIC_Basic', name='net4_nic').get_interfaces()[0]\n",
    "switch3_iface2 = switch3.add_component(model='NIC_Basic', name='net5_nic').get_interfaces()[0]\n",
    "switch3_iface3 = switch3.add_component(model='NIC_Basic', name='net6_nic').get_interfaces()[0]"
   ]
  },
  {
   "cell_type": "markdown",
   "id": "c15ca24e-8743-4d4a-91ea-128dd78b4273",
   "metadata": {},
   "source": [
    "### Step 3.7: Connecting site1 and site2\n",
    "Create a site-to-site network between \n",
    "- Server1 and Switch1\n",
    "- Switch1 and Switch2\n",
    "- Switch2 and Server2\n",
    "- Switch1 and Switch3\n",
    "- Switch2 and Switch3\n",
    "- Switch3 and Server3\n",
    "\n",
    "![Topology](./images/bmv2-p4-3switches.png)"
   ]
  },
  {
   "cell_type": "code",
   "execution_count": null,
   "id": "03859457-746d-402c-9372-9803df8928e9",
   "metadata": {},
   "outputs": [],
   "source": [
    "net1 = slice.add_l2network(name='net1', interfaces=[server1_iface, switch1_iface1])"
   ]
  },
  {
   "cell_type": "code",
   "execution_count": null,
   "id": "b3a38ceb-1e3c-43ad-ae93-702cdc7d0c10",
   "metadata": {},
   "outputs": [],
   "source": [
    "net2 = slice.add_l2network(name='net2', interfaces=[switch1_iface2, switch2_iface1])"
   ]
  },
  {
   "cell_type": "code",
   "execution_count": null,
   "id": "d6eea4ea-3a97-4960-a730-4348a6a9f0eb",
   "metadata": {},
   "outputs": [],
   "source": [
    "net3 = slice.add_l2network(name='net3', interfaces=[switch2_iface2, server2_iface])"
   ]
  },
  {
   "cell_type": "code",
   "execution_count": null,
   "id": "3c72b4dd-da4d-49c9-ba1a-ead7c2e9de91",
   "metadata": {},
   "outputs": [],
   "source": [
    "net4 = slice.add_l2network(name='net4', interfaces=[switch1_iface3, switch3_iface1])"
   ]
  },
  {
   "cell_type": "code",
   "execution_count": null,
   "id": "8bcfa9eb-16f9-4027-ab27-3e3352606165",
   "metadata": {},
   "outputs": [],
   "source": [
    "net5 = slice.add_l2network(name='net5', interfaces=[switch2_iface3, switch3_iface2])"
   ]
  },
  {
   "cell_type": "code",
   "execution_count": null,
   "id": "c596ecf9-b43a-4a62-bd61-4f7ddc9e2848",
   "metadata": {},
   "outputs": [],
   "source": [
    "net6 = slice.add_l2network(name='net6', interfaces=[switch3_iface3, server3_iface])"
   ]
  },
  {
   "cell_type": "markdown",
   "id": "53ab345c-d68e-440d-9fda-03d67472f1ca",
   "metadata": {},
   "source": [
    "### Step 3.9: Submitting the slice\n",
    "The code below submits the slice. \n",
    "By default, the submit function will block until the node is ready and will display the progress of your slice being built."
   ]
  },
  {
   "cell_type": "code",
   "execution_count": null,
   "id": "e706c53c-7a38-4615-a86e-e8944197921f",
   "metadata": {},
   "outputs": [],
   "source": [
    "#Submit Slice Request\n",
    "slice.submit();"
   ]
  },
  {
   "cell_type": "markdown",
   "id": "05bfa5ff-9374-4823-9ea0-09f045a91684",
   "metadata": {},
   "source": [
    "# Step 4: Installing the required packages\n",
    "In this step, we will install the required packages to run the lab. Specifically, we will install the BMv2 software switch and its control plane, the P4 compiler (p4c), and net-tools."
   ]
  },
  {
   "cell_type": "markdown",
   "id": "e158f852-d764-4728-af01-7de9f669dd78",
   "metadata": {},
   "source": [
    "## Step 4.1 Installing BMv2\n",
    "The BMv2 software switch will be installed on the switch nodes. We will upload the script [scripts/install_bmv2.sh](./scripts/install_bmv2.sh) to the switches and execute it"
   ]
  },
  {
   "cell_type": "code",
   "execution_count": null,
   "id": "00430e7b-472e-4d5b-a81d-03dfaaec14ae",
   "metadata": {},
   "outputs": [],
   "source": [
    "switch1 = slice.get_node(name=\"switch1\")     \n",
    "switch1.upload_file('scripts/install_bmv2.sh', 'install_bmv2.sh')\n",
    "stdout, stderr = switch1.execute(f'chmod +x install_bmv2.sh &&  ./install_bmv2.sh',quiet=True)"
   ]
  },
  {
   "cell_type": "code",
   "execution_count": null,
   "id": "eb8f4fd7-c61d-465c-872e-f49601299110",
   "metadata": {},
   "outputs": [],
   "source": [
    "switch2 = slice.get_node(name=\"switch2\")     \n",
    "switch2.upload_file('scripts/install_bmv2.sh', 'install_bmv2.sh')\n",
    "stdout, stderr = switch2.execute(f'chmod +x install_bmv2.sh &&  ./install_bmv2.sh',quiet=True)"
   ]
  },
  {
   "cell_type": "code",
   "execution_count": null,
   "id": "0ec65736-55d5-4a1a-9f8c-64731bb0e6db",
   "metadata": {},
   "outputs": [],
   "source": [
    "switch3 = slice.get_node(name=\"switch3\")     \n",
    "switch3.upload_file('scripts/install_bmv2.sh', 'install_bmv2.sh')\n",
    "stdout, stderr = switch3.execute(f'chmod +x install_bmv2.sh &&  ./install_bmv2.sh',quiet=True)"
   ]
  },
  {
   "cell_type": "markdown",
   "id": "13cf4d2f-0ba4-4629-b221-87b19d4c0324",
   "metadata": {
    "tags": []
   },
   "source": [
    "## Step 4.2 Installing net-tools\n",
    "The net-tools package will be installed on the switches, and server nodes. This package will allow us to use the *ifconfig* and the *arp* commands "
   ]
  },
  {
   "cell_type": "code",
   "execution_count": null,
   "id": "caa0c8d8-5d49-44cb-8d0a-1feb391fa322",
   "metadata": {},
   "outputs": [],
   "source": [
    "server1 = slice.get_node(name=\"server1\")\n",
    "server2 = slice.get_node(name=\"server2\")\n",
    "server3 = slice.get_node(name=\"server3\")\n",
    "stdout, stderr = server1.execute(f'sudo apt-get install -y net-tools', quiet=True)\n",
    "stdout, stderr = server2.execute(f'sudo apt-get install -y net-tools', quiet=True)\n",
    "stdout, stderr = server3.execute(f'sudo apt-get install -y net-tools', quiet=True)\n",
    "stdout, stderr = switch1.execute(f'sudo apt-get install -y net-tools', quiet=True)\n",
    "stdout, stderr = switch2.execute(f'sudo apt-get install -y net-tools', quiet=True)\n",
    "stdout, stderr = switch3.execute(f'sudo apt-get install -y net-tools', quiet=True)"
   ]
  },
  {
   "cell_type": "markdown",
   "id": "dac55d61-249f-45d2-ada4-99247b2697e9",
   "metadata": {},
   "source": [
    "# Step 5: Assigning IP and MAC addresses\n",
    "In this step, we will assign IPv4 addresses to the interfaces of the servers and the switches. We will also hardcode the MAC addresses. "
   ]
  },
  {
   "cell_type": "markdown",
   "id": "4d0eb819-68ad-4dbb-a279-40c997c3537b",
   "metadata": {},
   "source": [
    "## Step 5.1: Get interfaces names\n",
    "In this step we will get the interface names so that we can assign IP addresses to them. Map the printed interface names to those seen in this figure:\n",
    "\n",
    "![Topology](./images/bmv2-p4-3switches.png)"
   ]
  },
  {
   "cell_type": "code",
   "execution_count": null,
   "id": "1999024a-39f5-402c-8017-86463aeafbd4",
   "metadata": {},
   "outputs": [],
   "source": [
    "node1_iface = server1.get_interface(network_name='net1') \n",
    "server1_iface_name = node1_iface.get_device_name()\n",
    "print(f'server1_iface: {server1_iface_name}')\n",
    "\n",
    "switch1_iface1 = switch1.get_interface(network_name='net1') \n",
    "switch1_iface1_name = switch1_iface1.get_device_name()\n",
    "print(f'switch1_iface1: {switch1_iface1_name}')\n",
    "\n",
    "switch1_iface2 = switch1.get_interface(network_name='net2') \n",
    "switch1_iface2_name = switch1_iface2.get_device_name()\n",
    "print(f'switch1_iface2: {switch1_iface2_name}')\n",
    "\n",
    "switch1_iface3 = switch1.get_interface(network_name='net4') \n",
    "switch1_iface3_name = switch1_iface3.get_device_name()\n",
    "print(f'switch1_iface3: {switch1_iface3_name}')\n",
    "\n",
    "switch2_iface1 = switch2.get_interface(network_name='net2') \n",
    "switch2_iface1_name = switch2_iface1.get_device_name()\n",
    "print(f'switch2_iface1: {switch2_iface1_name}')\n",
    "\n",
    "switch2_iface2 = switch2.get_interface(network_name='net3') \n",
    "switch2_iface2_name = switch2_iface2.get_device_name()\n",
    "print(f'switch2_iface2: {switch2_iface2_name}')\n",
    "\n",
    "switch2_iface3 = switch2.get_interface(network_name='net5') \n",
    "switch2_iface3_name = switch2_iface3.get_device_name()\n",
    "print(f'switch2_iface3: {switch2_iface3_name}')\n",
    "\n",
    "switch3_iface1 = switch3.get_interface(network_name='net4') \n",
    "switch3_iface1_name = switch3_iface1.get_device_name()\n",
    "print(f'switch3_iface1: {switch3_iface1_name}')\n",
    "\n",
    "switch3_iface2 = switch3.get_interface(network_name='net5') \n",
    "switch3_iface2_name = switch3_iface2.get_device_name()\n",
    "print(f'switch3_iface2: {switch3_iface2_name}')\n",
    "\n",
    "switch3_iface3 = switch3.get_interface(network_name='net6') \n",
    "switch3_iface3_name = switch3_iface3.get_device_name()\n",
    "print(f'switch3_iface3: {switch3_iface3_name}')\n",
    "\n",
    "node2_iface = server2.get_interface(network_name='net3') \n",
    "server2_iface_name = node2_iface.get_device_name()\n",
    "print(f'server2_iface: {server2_iface_name}')\n",
    "\n",
    "node3_iface = server3.get_interface(network_name='net6') \n",
    "server3_iface_name = node3_iface.get_device_name()\n",
    "print(f'server3_iface: {server3_iface_name}')"
   ]
  },
  {
   "cell_type": "markdown",
   "id": "468540b5-8192-4af3-a992-18ae011bb5d3",
   "metadata": {
    "tags": []
   },
   "source": [
    "## Step 5.2: Turning all interfaces up\n",
    "In this step, we will use the ip link command to turn the interfaces up"
   ]
  },
  {
   "cell_type": "code",
   "execution_count": null,
   "id": "f48d34c4-a812-40b5-abaf-29b6cbe69755",
   "metadata": {
    "tags": []
   },
   "outputs": [],
   "source": [
    "stdout, stderr = server1.execute(f'sudo ip link set dev {server1_iface_name} up', quiet=True)\n",
    "stdout, stderr = server2.execute(f'sudo ip link set dev {server2_iface_name} up', quiet=True)\n",
    "stdout, stderr = server3.execute(f'sudo ip link set dev {server3_iface_name} up', quiet=True)\n",
    "\n",
    "stdout, stderr = switch1.execute(f'sudo ip link set dev {switch1_iface1_name} up', quiet=True)\n",
    "stdout, stderr = switch1.execute(f'sudo ip link set dev {switch1_iface2_name} up', quiet=True)\n",
    "stdout, stderr = switch1.execute(f'sudo ip link set dev {switch1_iface3_name} up', quiet=True)\n",
    "\n",
    "stdout, stderr = switch2.execute(f'sudo ip link set dev {switch2_iface1_name} up', quiet=True)\n",
    "stdout, stderr = switch2.execute(f'sudo ip link set dev {switch2_iface2_name} up', quiet=True)\n",
    "stdout, stderr = switch2.execute(f'sudo ip link set dev {switch2_iface3_name} up', quiet=True)\n",
    "\n",
    "stdout, stderr = switch3.execute(f'sudo ip link set dev {switch3_iface1_name} up', quiet=True)\n",
    "stdout, stderr = switch3.execute(f'sudo ip link set dev {switch3_iface2_name} up', quiet=True)\n",
    "stdout, stderr = switch3.execute(f'sudo ip link set dev {switch3_iface3_name} up', quiet=True)"
   ]
  },
  {
   "cell_type": "markdown",
   "id": "136da10f-bb1e-4666-9084-020354db0a2c",
   "metadata": {
    "tags": []
   },
   "source": [
    "## Step 5.3: Hardcode MAC addresses\n",
    "For simplicity, we will use the following MAC addresses for the interfaces:\n",
    "<ul>\n",
    "    <li> server1_iface_MAC = '00:00:00:00:00:01' (shown as 00:01 in the figure below) </li>\n",
    "    <li>switch1_iface1_MAC = '00:00:00:00:00:02' (shown as 00:02 in the figure below)</li>\n",
    "    <li>switch1_iface2_MAC = '00:00:00:00:00:03' (shown as 00:03 in the figure below)</li>\n",
    "    <li>switch2_iface1_MAC = '00:00:00:00:00:04' (shown as 00:04 in the figure below)</li>\n",
    "    <li>switch2_iface2_MAC = '00:00:00:00:00:05' (shown as 00:05 in the figure below)</li>\n",
    "    <li>server2_iface_MAC = '00:00:00:00:00:06' (shown as 00:06 in the figure below)</li>\n",
    "    <li>switch1_iface3_MAC = '00:00:00:00:00:07' (shown as 00:07 in the figure below)</li>\n",
    "    <li>switch2_iface3_MAC = '00:00:00:00:00:08' (shown as 00:08 in the figure below)</li>\n",
    "    <li>switch3_iface1_MAC = '00:00:00:00:00:09' (shown as 00:09 in the figure below)</li>\n",
    "    <li>switch3_iface2_MAC = '00:00:00:00:00:10' (shown as 00:10 in the figure below)</li>\n",
    "    <li>switch3_iface1_MAC = '00:00:00:00:00:11' (shown as 00:11 in the figure below)</li>\n",
    "    <li> server3_iface_MAC = '00:00:00:00:00:12' (shown as 00:12 in the figure below) </li>\n",
    "\n",
    "</ul>\n",
    "\n",
    "\n",
    "\n",
    "![Topology](./images/bmv2-p4-3switches.png)"
   ]
  },
  {
   "cell_type": "code",
   "execution_count": null,
   "id": "a410cde7-465b-4df3-80fa-819e1c16c439",
   "metadata": {
    "tags": []
   },
   "outputs": [],
   "source": [
    "server1_iface_MAC = '00:00:00:00:00:01'\n",
    "\n",
    "switch1_iface1_MAC = '00:00:00:00:00:02'\n",
    "switch1_iface2_MAC = '00:00:00:00:00:03'\n",
    "\n",
    "switch2_iface1_MAC = '00:00:00:00:00:04'\n",
    "switch2_iface2_MAC = '00:00:00:00:00:05'\n",
    "\n",
    "server2_iface_MAC = '00:00:00:00:00:06'\n",
    "\n",
    "switch1_iface3_MAC = '00:00:00:00:00:07'\n",
    "switch2_iface3_MAC = '00:00:00:00:00:08'\n",
    "\n",
    "switch3_iface1_MAC = '00:00:00:00:00:09'\n",
    "switch3_iface2_MAC = '00:00:00:00:00:10'\n",
    "\n",
    "switch3_iface3_MAC = '00:00:00:00:00:11'\n",
    "\n",
    "server3_iface_MAC = '00:00:00:00:00:12'\n"
   ]
  },
  {
   "cell_type": "markdown",
   "id": "1099ce50-10ba-4879-8fc8-79e7e3218fa6",
   "metadata": {},
   "source": [
    "## Step 5.4 Configuring the IP and MAC addresses on server1_iface and switch_iface1\n",
    "\n",
    "We will use\n",
    "- Network 192.168.1.0/24 between Server1 (192.168.1.10) and Switch1 (192.168.1.1)\n",
    "- Network 192.168.2.0/24 between Server2 (192.168.2.10) and Switch2 (192.168.2.1)\n",
    "- Network 192.168.3.0/24 between Server3 (192.168.3.10) and Switch3 (192.168.3.1)\n",
    "\n",
    "\n",
    "![Topology](./images/bmv2-p4-3switches.png)"
   ]
  },
  {
   "cell_type": "code",
   "execution_count": null,
   "id": "6e04681f-865b-440c-9f62-5fc987b3f0e9",
   "metadata": {
    "tags": []
   },
   "outputs": [],
   "source": [
    "server1_switch_subnet = \"192.168.1.0/24\"\n",
    "server1_ip = '192.168.1.10/24'\n",
    "switch1_ip1 = '192.168.1.1/24'\n",
    "\n",
    "stdout, stderr = server1.execute(f'sudo ifconfig {server1_iface_name} {server1_ip}')\n",
    "stdout, stderr = switch1.execute(f'sudo ifconfig {switch1_iface1_name} {switch1_ip1}')\n",
    "\n",
    "stdout, stderr = server1.execute(f'sudo ifconfig {server1_iface_name} hw ether {server1_iface_MAC}')\n",
    "stdout, stderr = switch1.execute(f'sudo ifconfig {switch1_iface1_name} hw ether {switch1_iface1_MAC}')\n"
   ]
  },
  {
   "cell_type": "code",
   "execution_count": null,
   "id": "a4c97744-783d-4236-8c38-2963cac75dd4",
   "metadata": {},
   "outputs": [],
   "source": [
    "stdout, stderr = switch1.execute(f'sudo ifconfig {switch1_iface2_name} hw ether {switch1_iface2_MAC}')\n",
    "stdout, stderr = switch2.execute(f'sudo ifconfig {switch2_iface1_name} hw ether {switch2_iface1_MAC}')"
   ]
  },
  {
   "cell_type": "code",
   "execution_count": null,
   "id": "c8d94b18-58bd-4283-b1be-328c362a4c1d",
   "metadata": {},
   "outputs": [],
   "source": [
    "stdout, stderr = switch1.execute(f'sudo ifconfig {switch1_iface3_name} hw ether {switch1_iface3_MAC}')\n",
    "stdout, stderr = switch3.execute(f'sudo ifconfig {switch3_iface1_name} hw ether {switch3_iface1_MAC}')"
   ]
  },
  {
   "cell_type": "code",
   "execution_count": null,
   "id": "e41e611d-7b92-4ef5-8525-a9ceaf1b0eb0",
   "metadata": {
    "tags": []
   },
   "outputs": [],
   "source": [
    "server2_switch_subnet = \"192.168.2.0/24\"\n",
    "server2_ip = '192.168.2.10/24'\n",
    "switch2_ip2 = '192.168.2.1/24'\n",
    "\n",
    "stdout, stderr = server2.execute(f'sudo ifconfig {server2_iface_name} {server2_ip}')\n",
    "stdout, stderr = switch2.execute(f'sudo ifconfig {switch2_iface2_name} {switch2_ip2}')\n",
    "\n",
    "stdout, stderr = server2.execute(f'sudo ifconfig {server2_iface_name} hw ether {server2_iface_MAC}')\n",
    "stdout, stderr = switch2.execute(f'sudo ifconfig {switch2_iface2_name} hw ether {switch2_iface2_MAC}')\n"
   ]
  },
  {
   "cell_type": "code",
   "execution_count": null,
   "id": "101a29a7-aec4-4d55-a18f-c64bc6b2abb3",
   "metadata": {},
   "outputs": [],
   "source": [
    "stdout, stderr = switch2.execute(f'sudo ifconfig {switch2_iface3_name} hw ether {switch2_iface3_MAC}')\n",
    "stdout, stderr = switch3.execute(f'sudo ifconfig {switch3_iface2_name} hw ether {switch3_iface2_MAC}')"
   ]
  },
  {
   "cell_type": "code",
   "execution_count": null,
   "id": "bb548cfa-d753-4acb-b69e-be77fcd45aa9",
   "metadata": {},
   "outputs": [],
   "source": [
    "server3_switch_subnet = \"192.168.3.0/24\"\n",
    "server3_ip = '192.168.3.10/24'\n",
    "switch3_ip2 = '192.168.3.1/24'\n",
    "\n",
    "stdout, stderr = server3.execute(f'sudo ifconfig {server3_iface_name} {server3_ip}')\n",
    "stdout, stderr = switch3.execute(f'sudo ifconfig {switch3_iface3_name} {switch3_ip2}')\n",
    "\n",
    "stdout, stderr = server3.execute(f'sudo ifconfig {server3_iface_name} hw ether {server3_iface_MAC}')\n",
    "stdout, stderr = switch3.execute(f'sudo ifconfig {switch3_iface3_name} hw ether {switch3_iface3_MAC}')\n"
   ]
  },
  {
   "cell_type": "markdown",
   "id": "df3c54cf-457e-4f7c-9e9d-438808c68fe8",
   "metadata": {},
   "source": [
    "# Step 6: Configure forwarding and routing"
   ]
  },
  {
   "cell_type": "markdown",
   "id": "f8ecee56-5751-41e7-aa1b-f7641fa5ae11",
   "metadata": {},
   "source": [
    "## Step 6.1: Enable forwarding on the switch\n",
    "\n",
    "The command \"sudo sysctl -w net.ipv4.ip_forward=1\" is used to enable IP forwarding on a Linux system.\n",
    "\n",
    "IP forwarding is a feature that allows a system to act as a router by forwarding network packets from one network interface to another. By default, IP forwarding is usually disabled on Linux systems for security reasons. \n",
    "\n",
    "The command will be executed on the switch device."
   ]
  },
  {
   "cell_type": "code",
   "execution_count": null,
   "id": "d0a57f78-6e78-4487-81f6-dad296353407",
   "metadata": {},
   "outputs": [],
   "source": [
    "stdout, stderr = switch1.execute('sudo sysctl -w net.ipv4.ip_forward=1' , quiet=True)"
   ]
  },
  {
   "cell_type": "code",
   "execution_count": null,
   "id": "b451d9de-f152-43cd-af25-14dbdee8e69b",
   "metadata": {},
   "outputs": [],
   "source": [
    "stdout, stderr = switch2.execute('sudo sysctl -w net.ipv4.ip_forward=1' , quiet=True)"
   ]
  },
  {
   "cell_type": "code",
   "execution_count": null,
   "id": "22065cdd-5a91-4906-943e-de96c2ed8af6",
   "metadata": {},
   "outputs": [],
   "source": [
    "stdout, stderr = switch3.execute('sudo sysctl -w net.ipv4.ip_forward=1' , quiet=True)"
   ]
  },
  {
   "cell_type": "markdown",
   "id": "6c423ec8-d859-4716-b79a-d56671173413",
   "metadata": {},
   "source": [
    "## Step 6.2: Delete routing entries for the routes to force traffic to go through the BMv2 switch\n",
    "\n",
    "In this step, we are deleting the routes on the switch's routing table in Linux. By deleting the routes, the packets will go through the BMv2 switch instead of being forwarded by the kernel."
   ]
  },
  {
   "cell_type": "code",
   "execution_count": null,
   "id": "72de7117-060d-4490-940e-13561fa2e852",
   "metadata": {},
   "outputs": [],
   "source": [
    "stdout, stderr = switch1.execute(f'sudo ip route del {server1_switch_subnet}', quiet=True)\n",
    "stdout, stderr = switch1.execute(f'sudo ip route del {server2_switch_subnet}', quiet=True)\n",
    "stdout, stderr = switch1.execute(f'sudo ip route del {server3_switch_subnet}', quiet=True)"
   ]
  },
  {
   "cell_type": "code",
   "execution_count": null,
   "id": "4f41e138-71e1-433a-bd79-65e7567bbb49",
   "metadata": {},
   "outputs": [],
   "source": [
    "stdout, stderr = switch2.execute(f'sudo ip route del {server1_switch_subnet}', quiet=True)\n",
    "stdout, stderr = switch2.execute(f'sudo ip route del {server2_switch_subnet}', quiet=True)\n",
    "stdout, stderr = switch2.execute(f'sudo ip route del {server3_switch_subnet}', quiet=True)"
   ]
  },
  {
   "cell_type": "code",
   "execution_count": null,
   "id": "6e8bcdf6-d4b1-4984-87f5-6f7d8a854765",
   "metadata": {},
   "outputs": [],
   "source": [
    "stdout, stderr = switch3.execute(f'sudo ip route del {server1_switch_subnet}', quiet=True)\n",
    "stdout, stderr = switch3.execute(f'sudo ip route del {server2_switch_subnet}', quiet=True)\n",
    "stdout, stderr = switch3.execute(f'sudo ip route del {server3_switch_subnet}', quiet=True)"
   ]
  },
  {
   "cell_type": "markdown",
   "id": "b5628c85-1f68-4a4b-916f-b68c46a51967",
   "metadata": {},
   "source": [
    "## Step 6.3: Configure routing\n",
    "\n",
    "In this step, we will configure static routes on server1 and server2. \n",
    "<ul>\n",
    "    <li> For server1, we will add a route to reach the network 192.168.2.0/24 via 192.168.1.1 and 192.168.3.0/24 via 192.168.1.1</li>\n",
    "    <li> For server2, we will add a route to reach the network 192.168.1.0/24 via 192.168.2.1 and 192.168.3.0/24 via 192.168.2.1</li>\n",
    "    <li> For server3, we will add a route to reach the network 192.168.1.0/24 via 192.168.3.1 and 192.168.2.0/24 via 192.168.3.1</li>\n",
    "\n",
    "</ul>\n"
   ]
  },
  {
   "cell_type": "code",
   "execution_count": null,
   "id": "e3459ed6-eb9c-4246-9981-12203b2929fd",
   "metadata": {},
   "outputs": [],
   "source": [
    "gw1 = switch1_ip1.split('/')[0] # gw1 -> 192.168.1.1 \n",
    "gw2 = switch2_ip2.split('/')[0] # gw2 -> 192.168.2.1\n",
    "gw3 = switch3_ip2.split('/')[0] # gw3 -> 192.168.3.1\n",
    "\n",
    "stdout, stderr = server1.execute(f'sudo ip route add {server2_switch_subnet} via {gw1}')\n",
    "stdout, stderr = server1.execute(f'sudo ip route add {server3_switch_subnet} via {gw1}')\n",
    "\n",
    "\n",
    "stdout, stderr = server2.execute(f'sudo ip route add {server1_switch_subnet} via {gw2}')\n",
    "stdout, stderr = server2.execute(f'sudo ip route add {server3_switch_subnet} via {gw2}')\n",
    "\n",
    "stdout, stderr = server3.execute(f'sudo ip route add {server1_switch_subnet} via {gw3}')\n",
    "stdout, stderr = server3.execute(f'sudo ip route add {server2_switch_subnet} via {gw3}')\n"
   ]
  },
  {
   "cell_type": "markdown",
   "id": "d31983ac-4fd0-4f17-986b-cc347e772d18",
   "metadata": {
    "tags": []
   },
   "source": [
    "## Step 6.4: Configure ARP\n",
    "\n",
    "In this step, we will configure static ARP entries on server1, server2 and server3. The reason we are doing this is because the switch does not process ARP packets unless programmed to. To make sure that ARP packets are not sent towards the switch, we will hardcode the MACs on the servers.\n",
    "\n",
    "For each server, we will add an ARP entry to its switch's neighboring interface."
   ]
  },
  {
   "cell_type": "code",
   "execution_count": null,
   "id": "0cdb7aae-ee53-4e5a-9bbc-4a76f3fde954",
   "metadata": {},
   "outputs": [],
   "source": [
    "print(f\"sudo arp -s {gw1} {switch1_iface1_MAC}\")\n",
    "stdout, stderr = server1.execute(f'sudo arp -s {gw1} {switch1_iface1_MAC}')\n",
    "\n",
    "print(f\"sudo arp -s {gw2} {switch2_iface2_MAC}\")\n",
    "stdout, stderr = server2.execute(f'sudo arp -s {gw2} {switch2_iface2_MAC}')\n",
    "\n",
    "print(f\"sudo arp -s {gw3} {switch3_iface3_MAC}\")\n",
    "stdout, stderr = server3.execute(f'sudo arp -s {gw3} {switch3_iface3_MAC}')"
   ]
  },
  {
   "cell_type": "markdown",
   "id": "b6a7aa6a-a33e-46e1-af89-34960ed73ad4",
   "metadata": {},
   "source": [
    "# Step 7: Compiling and starting a simple P4 routing program\n",
    "\n",
    "In this step, we will compile the P4 program and start the switch using the *p4c* compiler. To view and edit the P4 program, [Click Here](labs_files/lab1/main.p4)\n",
    "\n",
    "The P4 program [main.p4](labs_files/lab1/main.p4) is located under lab_files/lab1/.\n",
    "\n",
    "We will stop any previous instance of the switch (if any is existing) by killing its process.\n",
    "\n",
    "Then, we will start the switch and allocate the interfaces to logical ports. \n",
    "\n",
    "![Topology](./images/bmv2-p4-3switches.png)"
   ]
  },
  {
   "cell_type": "code",
   "execution_count": null,
   "id": "1d3d3199-d204-419d-9c0c-22fe7f9ef87a",
   "metadata": {
    "tags": []
   },
   "outputs": [],
   "source": [
    "switch1.upload_file('labs_files/lab1/main.p4', 'main.p4')\n",
    "stdout, stderr = switch1.execute(f'p4c main.p4')\n",
    "stdout, stderr = switch1.execute(f'sudo pkill simple_switch')\n",
    "stdout, stderr = switch1.execute(f'sudo simple_switch -i 0@{switch1_iface1_name} -i 1@{switch1_iface2_name} -i 2@{switch1_iface3_name} main.json &')"
   ]
  },
  {
   "cell_type": "code",
   "execution_count": null,
   "id": "bd71659c-4291-4ad1-b830-27786ebb63de",
   "metadata": {},
   "outputs": [],
   "source": [
    "switch2.upload_file('labs_files/lab1/main.p4', 'main.p4')\n",
    "stdout, stderr = switch2.execute(f'p4c main.p4')\n",
    "stdout, stderr = switch2.execute(f'sudo pkill simple_switch')\n",
    "stdout, stderr = switch2.execute(f'sudo simple_switch -i 0@{switch2_iface1_name} -i 1@{switch2_iface2_name} -i 2@{switch2_iface3_name} main.json &')"
   ]
  },
  {
   "cell_type": "code",
   "execution_count": null,
   "id": "72ea0e21-1deb-439c-9982-2432e28919b6",
   "metadata": {},
   "outputs": [],
   "source": [
    "switch3.upload_file('labs_files/lab1/main.p4', 'main.p4')\n",
    "stdout, stderr = switch3.execute(f'p4c main.p4')\n",
    "stdout, stderr = switch3.execute(f'sudo pkill simple_switch')\n",
    "stdout, stderr = switch3.execute(f'sudo simple_switch -i 0@{switch3_iface1_name} -i 1@{switch3_iface2_name} -i 2@{switch3_iface3_name} main.json &')"
   ]
  },
  {
   "cell_type": "markdown",
   "id": "7bf4eabb-31cd-41c9-9fd1-b1c2b9d8b0d6",
   "metadata": {},
   "source": [
    "## Step 7.1: Populating table from the control plane\n",
    "\n",
    "In this step we will populate the forwarding table by executing a script. We will learn how to populate the tables manually in another lab."
   ]
  },
  {
   "cell_type": "code",
   "execution_count": null,
   "id": "496e9541-7405-497c-ad06-e81e995bad44",
   "metadata": {},
   "outputs": [],
   "source": [
    "slice = fablib.get_slice(\"lab1\")\n",
    "switch1 = slice.get_node(\"switch1\")\n",
    "switch2 = slice.get_node(\"switch2\")\n",
    "switch3 = slice.get_node(\"switch3\")"
   ]
  },
  {
   "cell_type": "code",
   "execution_count": null,
   "id": "359e7d84-5089-4611-8c10-e29dbe4c74a6",
   "metadata": {
    "tags": []
   },
   "outputs": [],
   "source": [
    "switch1.upload_file('labs_files/lab1/rules1.sh', 'rules1.sh')\n",
    "stdout, stderr = switch1.execute('chmod +x rules1.sh && ./rules1.sh')"
   ]
  },
  {
   "cell_type": "code",
   "execution_count": null,
   "id": "e70c6619-57ae-4994-8d23-9f17b113f36e",
   "metadata": {},
   "outputs": [],
   "source": [
    "switch2.upload_file('labs_files/lab1/rules2.sh', 'rules2.sh')\n",
    "stdout, stderr = switch2.execute('chmod +x rules2.sh && ./rules2.sh')"
   ]
  },
  {
   "cell_type": "code",
   "execution_count": null,
   "id": "f510e03c-8874-4aa4-a046-73284ac6f9da",
   "metadata": {},
   "outputs": [],
   "source": [
    "switch3.upload_file('labs_files/lab1/rules3.sh', 'rules3.sh')\n",
    "stdout, stderr = switch3.execute('chmod +x rules3.sh && ./rules3.sh')"
   ]
  },
  {
   "cell_type": "markdown",
   "id": "e1158916-f42e-4f41-8b11-85d5bf8c7f1c",
   "metadata": {},
   "source": [
    "## Step 7.2: Running a ping test"
   ]
  },
  {
   "cell_type": "code",
   "execution_count": null,
   "id": "dc4885f4-c56e-49bb-a84d-9b4dd4b5bb26",
   "metadata": {},
   "outputs": [],
   "source": [
    "server2_dest_ip = server2_ip.split('/')[0]\n",
    "stdout, stderr = server1.execute(f'ping {server2_dest_ip} -c 3')"
   ]
  },
  {
   "cell_type": "code",
   "execution_count": null,
   "id": "737a6af2-2b8c-4f40-a439-851fd63301cc",
   "metadata": {},
   "outputs": [],
   "source": [
    "server3_dest_ip = server3_ip.split('/')[0]\n",
    "stdout, stderr = server1.execute(f'ping {server3_dest_ip} -c 3')"
   ]
  },
  {
   "cell_type": "code",
   "execution_count": null,
   "id": "614274aa-cef5-4765-b4ae-01b7ae7d02b1",
   "metadata": {},
   "outputs": [],
   "source": [
    "server3_dest_ip = server3_ip.split('/')[0]\n",
    "stdout, stderr = server2.execute(f'ping {server3_dest_ip} -c 3')"
   ]
  },
  {
   "cell_type": "markdown",
   "id": "e92e3d97-a261-4c00-984c-2750cbd45064",
   "metadata": {
    "tags": []
   },
   "source": [
    "## Step 9: Delete the Slice\n",
    "\n",
    "This concludes Lab 1. Please delete your slice when you are done with your experiment."
   ]
  },
  {
   "cell_type": "code",
   "execution_count": null,
   "id": "1f27f3fc-004f-46c2-984c-8c2a90883eb6",
   "metadata": {
    "tags": []
   },
   "outputs": [],
   "source": [
    "from fabrictestbed_extensions.fablib.fablib import FablibManager as fablib_manager\n",
    "fablib = fablib_manager()\n",
    "slice = fablib.get_slice(name=\"lab1\")\n",
    "slice.delete()"
   ]
  },
  {
   "cell_type": "code",
   "execution_count": null,
   "id": "d031b833-59f5-4e20-abfc-0b1356eb0ca3",
   "metadata": {},
   "outputs": [],
   "source": []
  }
 ],
 "metadata": {
  "kernelspec": {
   "display_name": "Python 3 (ipykernel)",
   "language": "python",
   "name": "python3"
  },
  "language_info": {
   "codemirror_mode": {
    "name": "ipython",
    "version": 3
   },
   "file_extension": ".py",
   "mimetype": "text/x-python",
   "name": "python",
   "nbconvert_exporter": "python",
   "pygments_lexer": "ipython3",
   "version": "3.11.8"
  }
 },
 "nbformat": 4,
 "nbformat_minor": 5
}
